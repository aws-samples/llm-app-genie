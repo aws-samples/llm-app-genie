{
 "cells": [
  {
   "cell_type": "markdown",
   "id": "4b3d6ecb-9177-400c-8e70-78977e41ee68",
   "metadata": {
    "tags": []
   },
   "source": [
    "# Question-Answer Generator\n",
    "\n"
   ]
  },
  {
   "cell_type": "markdown",
   "id": "08742b43-3f38-4cb7-a03c-055d6d600242",
   "metadata": {},
   "source": [
    "Auto generate question answering pairs for paragraphs from documents. Evaluate LLM based on synthetic QA pairs."
   ]
  },
  {
   "cell_type": "markdown",
   "id": "e5c2ea18-ea6e-4e22-95d1-207076cc8467",
   "metadata": {},
   "source": [
    "Based on https://github.com/langchain-ai/auto-evaluator/tree/main licensed under Elastic License 2.0 (ELv2)"
   ]
  },
  {
   "cell_type": "code",
   "execution_count": 2,
   "id": "3449a26e-5638-4956-bf7e-301ea90b9d11",
   "metadata": {
    "ExecuteTime": {
     "end_time": "2023-08-05T11:29:55.536812Z",
     "start_time": "2023-08-05T11:29:55.363735Z"
    },
    "tags": []
   },
   "outputs": [
    {
     "name": "stdout",
     "output_type": "stream",
     "text": [
      "Python 3.10.8\n"
     ]
    }
   ],
   "source": [
    "!python --version"
   ]
  },
  {
   "cell_type": "code",
   "execution_count": 3,
   "id": "2b721721-0aba-471f-b3a9-c71aebc7d074",
   "metadata": {
    "ExecuteTime": {
     "end_time": "2023-08-05T11:29:58.400126Z",
     "start_time": "2023-08-05T11:29:55.776660Z"
    },
    "tags": []
   },
   "outputs": [
    {
     "name": "stdout",
     "output_type": "stream",
     "text": [
      "\u001B[31mERROR: pip's dependency resolver does not currently take into account all the packages that are installed. This behaviour is the source of the following dependency conflicts.\n",
      "awscli 1.27.132 requires botocore==1.29.132, but you have botocore 1.31.21 which is incompatible.\n",
      "awscli 1.27.132 requires PyYAML<5.5,>=3.10, but you have pyyaml 6.0.1 which is incompatible.\u001B[0m\u001B[31m\n",
      "\u001B[0m\u001B[33mWARNING: Running pip as the 'root' user can result in broken permissions and conflicting behaviour with the system package manager. It is recommended to use a virtual environment instead: https://pip.pypa.io/warnings/venv\u001B[0m\u001B[33m\n",
      "\u001B[0m\n",
      "\u001B[1m[\u001B[0m\u001B[34;49mnotice\u001B[0m\u001B[1;39;49m]\u001B[0m\u001B[39;49m A new release of pip is available: \u001B[0m\u001B[31;49m23.1.2\u001B[0m\u001B[39;49m -> \u001B[0m\u001B[32;49m23.2.1\u001B[0m\n",
      "\u001B[1m[\u001B[0m\u001B[34;49mnotice\u001B[0m\u001B[1;39;49m]\u001B[0m\u001B[39;49m To update, run: \u001B[0m\u001B[32;49mpip install --upgrade pip\u001B[0m\n"
     ]
    }
   ],
   "source": [
    "!pip install --upgrade sagemaker --quiet"
   ]
  },
  {
   "cell_type": "code",
   "execution_count": 4,
   "id": "f83f73e7",
   "metadata": {
    "tags": []
   },
   "outputs": [
    {
     "name": "stdout",
     "output_type": "stream",
     "text": [
      "sagemaker role arn: arn:aws:iam::843197046435:role/service-role/AmazonSageMaker-ExecutionRole-20230626T095793\n",
      "sagemaker bucket: sagemaker-eu-west-1-843197046435\n",
      "sagemaker session region: eu-west-1\n"
     ]
    }
   ],
   "source": [
    "import sagemaker\n",
    "import boto3\n",
    "import botocore\n",
    "\n",
    "sess = sagemaker.Session()\n",
    "# sagemaker session bucket -> used for uploading data, models and logs\n",
    "# sagemaker will automatically create this bucket if it not exists\n",
    "sagemaker_session_bucket = None\n",
    "if sagemaker_session_bucket is None and sess is not None:\n",
    "    # set to default bucket if a bucket name is not given\n",
    "    sagemaker_session_bucket = sess.default_bucket()\n",
    "\n",
    "try:\n",
    "    role = sagemaker.get_execution_role()\n",
    "except ValueError:\n",
    "    iam = boto3.client(\"iam\")\n",
    "    role = iam.get_role(RoleName=\"sagemaker_execution_role\")[\"Role\"][\"Arn\"]\n",
    "\n",
    "sess = sagemaker.Session(default_bucket=sagemaker_session_bucket)\n",
    "\n",
    "print(f\"sagemaker role arn: {role}\")\n",
    "print(f\"sagemaker bucket: {sess.default_bucket()}\")\n",
    "print(f\"sagemaker session region: {sess.boto_region_name}\")"
   ]
  },
  {
   "cell_type": "markdown",
   "id": "676b9e29-1fdb-45b3-9fc9-984c8e44940c",
   "metadata": {},
   "source": [
    "## Load documents"
   ]
  },
  {
   "cell_type": "code",
   "execution_count": 5,
   "id": "99068d57-0d7d-4dc0-a2dc-8039317ad17e",
   "metadata": {
    "ExecuteTime": {
     "end_time": "2023-08-05T13:58:16.506747Z",
     "start_time": "2023-08-05T13:58:16.259512Z"
    },
    "tags": []
   },
   "outputs": [],
   "source": [
    "s3 = sess.boto_session.resource(\"s3\")\n",
    "bucket_name = \"gen-ai-foundation\"\n",
    "s3_key = \"crawlers/admin-ch/admin_ch_press_releases.json\"\n",
    "output_bucket = \"sagemaker-eu-west-1-843197046435\"\n",
    "s3_output_dataset_key = \"admin_ch_dataset/train\"\n",
    "obj1 = s3.Object(bucket_name, s3_key)\n",
    "jsonfile_content_str = obj1.get()[\"Body\"].read().decode(\"utf-8\")"
   ]
  },
  {
   "cell_type": "code",
   "execution_count": 6,
   "id": "6ae55cc7",
   "metadata": {
    "tags": []
   },
   "outputs": [],
   "source": [
    "import json\n",
    "\n",
    "question_answers = json.loads(jsonfile_content_str)"
   ]
  },
  {
   "cell_type": "code",
   "execution_count": 7,
   "id": "8a633059",
   "metadata": {
    "tags": []
   },
   "outputs": [],
   "source": [
    "import pandas as pd\n",
    "\n",
    "df_origin = pd.DataFrame.from_dict(question_answers)"
   ]
  },
  {
   "cell_type": "code",
   "execution_count": 8,
   "id": "e6412fc0",
   "metadata": {
    "tags": []
   },
   "outputs": [
    {
     "data": {
      "text/html": [
       "<div>\n",
       "<style scoped>\n",
       "    .dataframe tbody tr th:only-of-type {\n",
       "        vertical-align: middle;\n",
       "    }\n",
       "\n",
       "    .dataframe tbody tr th {\n",
       "        vertical-align: top;\n",
       "    }\n",
       "\n",
       "    .dataframe thead th {\n",
       "        text-align: right;\n",
       "    }\n",
       "</style>\n",
       "<table border=\"1\" class=\"dataframe\">\n",
       "  <thead>\n",
       "    <tr style=\"text-align: right;\">\n",
       "      <th></th>\n",
       "      <th>title</th>\n",
       "      <th>byline</th>\n",
       "      <th>dir</th>\n",
       "      <th>lang</th>\n",
       "      <th>content</th>\n",
       "      <th>textContent</th>\n",
       "      <th>length</th>\n",
       "      <th>excerpt</th>\n",
       "      <th>siteName</th>\n",
       "      <th>source</th>\n",
       "      <th>target_urls</th>\n",
       "      <th>link_text</th>\n",
       "    </tr>\n",
       "  </thead>\n",
       "  <tbody>\n",
       "    <tr>\n",
       "      <th>0</th>\n",
       "      <td>Press releases from the Federal Administration</td>\n",
       "      <td>The Federal Council</td>\n",
       "      <td>None</td>\n",
       "      <td>en</td>\n",
       "      <td>&lt;div id=\"readability-page-1\" class=\"page\"&gt;&lt;div...</td>\n",
       "      <td>\\n\\t\\t\\t\\n\\t\\t\\t\\n\\t\\t\\t\\t\\t\\n\\t\\t\\t\\t\\t\\t11.0...</td>\n",
       "      <td>7660</td>\n",
       "      <td>Current information from the Federal Administr...</td>\n",
       "      <td>None</td>\n",
       "      <td>https://www.admin.ch/gov/en/start/documentatio...</td>\n",
       "      <td>[{'text': 'Homepage', 'url': 'https://www.admi...</td>\n",
       "      <td>root</td>\n",
       "    </tr>\n",
       "  </tbody>\n",
       "</table>\n",
       "</div>"
      ],
      "text/plain": [
       "                                            title               byline   dir   \n",
       "0  Press releases from the Federal Administration  The Federal Council  None  \\\n",
       "\n",
       "  lang                                            content   \n",
       "0   en  <div id=\"readability-page-1\" class=\"page\"><div...  \\\n",
       "\n",
       "                                         textContent  length   \n",
       "0  \\n\\t\\t\\t\\n\\t\\t\\t\\n\\t\\t\\t\\t\\t\\n\\t\\t\\t\\t\\t\\t11.0...    7660  \\\n",
       "\n",
       "                                             excerpt siteName   \n",
       "0  Current information from the Federal Administr...     None  \\\n",
       "\n",
       "                                              source   \n",
       "0  https://www.admin.ch/gov/en/start/documentatio...  \\\n",
       "\n",
       "                                         target_urls link_text  \n",
       "0  [{'text': 'Homepage', 'url': 'https://www.admi...      root  "
      ]
     },
     "execution_count": 8,
     "metadata": {},
     "output_type": "execute_result"
    }
   ],
   "source": [
    "df_origin.iloc[:1]"
   ]
  },
  {
   "cell_type": "code",
   "execution_count": 9,
   "id": "db9ab67c",
   "metadata": {
    "tags": []
   },
   "outputs": [],
   "source": [
    "df = df_origin"
   ]
  },
  {
   "cell_type": "code",
   "execution_count": 10,
   "id": "66c0c3bf",
   "metadata": {
    "tags": []
   },
   "outputs": [],
   "source": [
    "dataset_key_to_generate_qa_for = \"paragraphs\"\n",
    "dataset_key_to_generate_qa_for = \"textContent\""
   ]
  },
  {
   "cell_type": "markdown",
   "id": "9094654a-1530-40be-ae73-58f641ff85e3",
   "metadata": {},
   "source": [
    "## Use Falcon"
   ]
  },
  {
   "cell_type": "code",
   "execution_count": 15,
   "id": "c9a2759b-3224-45c0-adb8-c97d6ae18050",
   "metadata": {
    "tags": []
   },
   "outputs": [
    {
     "name": "stdout",
     "output_type": "stream",
     "text": [
      "[{\"generated_text\":\"The first paragraph of the book 'Alice in Wonderland' by Lewis Carroll reads as:\\n'Alice was beginning to get very tired of sitting by her sister on the bank, and of\"}]\n"
     ]
    }
   ],
   "source": [
    "import boto3\n",
    "import json\n",
    "\n",
    "# Create a low-level client representing Amazon SageMaker Runtime\n",
    "# sagemaker_runtime = boto3.client(\"sagemaker-runtime\", region_name=\"eu-west-1\")\n",
    "\n",
    "# The name of the endpoint. The name must be unique within an AWS Region in your AWS account.\n",
    "endpoint_name = \"falcon-40b-instruct-48xl-5\"\n",
    "\n",
    "# After you deploy a model into production using SageMaker hosting\n",
    "# services, your client applications use this API to get inferences\n",
    "# from the model hosted at the specified endpoint.\n",
    "# response = sagemaker_runtime.invoke_endpoint(\n",
    "#                             EndpointName=endpoint_name,\n",
    "#                             Body=bytes('{\"features\": [\"This is great!\"]}', 'utf-8') # Replace with your own data.\n",
    "#                             )\n",
    "\n",
    "# Optional - Print the response body and decode it so it is human read-able.\n",
    "# print(response['Body'].read().decode('utf-8'))\n",
    "\n",
    "\n",
    "client = boto3.client(\"sagemaker-runtime\")\n",
    "request = {\n",
    "    \"inputs\": \"The first paragraph of the book 'Alice in Wonderland' by Lewis Carroll reads as:\",\n",
    "    \"parameters\": {\"truncation\": True},\n",
    "}\n",
    "\n",
    "response = client.invoke_endpoint(\n",
    "    EndpointName=endpoint_name,\n",
    "    ContentType=\"application/json\",\n",
    "    Accept=\"application/json\",\n",
    "    Body=json.dumps(request),\n",
    ")\n",
    "print(response[\"Body\"].read().decode())"
   ]
  },
  {
   "cell_type": "markdown",
   "id": "0061f45e-841c-485b-92ba-2d2fbe743a16",
   "metadata": {},
   "source": [
    "## Create Prompt to generate question answer pairs"
   ]
  },
  {
   "cell_type": "code",
   "execution_count": 61,
   "id": "3b6799d2",
   "metadata": {},
   "outputs": [],
   "source": [
    "number_of_questions_to_generate = 5"
   ]
  },
  {
   "cell_type": "code",
   "execution_count": 70,
   "id": "54811d1c",
   "metadata": {
    "tags": []
   },
   "outputs": [],
   "source": [
    "# falcon_prompt = \"\"\"\n",
    "# >>INTRODUCTION<<\n",
    "# {}\n",
    "\n",
    "# Generate a list of \"\"\"+ str(number_of_questions_to_generate) +\"\"\" question and answer pairs for the text.\n",
    "\n",
    "# When coming up with this question/answer pair, you must respond in the following format:\n",
    "# ```\n",
    "# [\\n\"\"\"+(\" {{\\n  \\\"question\\\": \\\"...\\\",\\n  \\\"answer\\\": \\\"...\\\"\\n }},\\n\"*number_of_questions_to_generate)[:-2]+\"\"\"\\n]\n",
    "# ```\n",
    "# Everything between the ``` must be valid json.\n",
    "\n",
    "\n",
    "# Assistant: [\n",
    "# \"\"\""
   ]
  },
  {
   "cell_type": "code",
   "execution_count": 82,
   "id": "3bba12f2-6b95-4892-80cc-78e0647bf93a",
   "metadata": {
    "tags": []
   },
   "outputs": [],
   "source": [
    "# falcon_prompt"
   ]
  },
  {
   "cell_type": "code",
   "execution_count": 83,
   "id": "7a4990f4",
   "metadata": {},
   "outputs": [],
   "source": [
    "# prompt_response_format = \"\"\"\n",
    "# The JSON result should be inside <format></format> XML tag.\n",
    "# <format>\n",
    "# [\n",
    "#  {{\n",
    "#   \\\"question\\\": \\\"...\\\",\n",
    "#   \\\"answer\\\": \\\"...\\\"\n",
    "#  }},\n",
    "#  {{\n",
    "#   \\\"question\\\": \\\"...\\\",\n",
    "#   \\\"answer\\\": \\\"...\\\"\n",
    "#  }},\n",
    "#  ...\n",
    "# ]\n",
    "\n",
    "# </format>\n",
    "\n",
    "# Text:\n",
    "# {}\n",
    "\n",
    "\n",
    "# Assistant: Here is a list of \"\"\" + str(number_of_questions_to_generate) +\"\"\" question and answer pairs extracted from the text: [\"\"\"\n",
    "\n",
    "# prompts = [\n",
    "\n",
    "#     \"\"\"Human: Generate a list of \"\"\" + str(number_of_questions_to_generate) +\"\"\" question and answer pairs for the following text.\"\"\" + prompt_response_format,\n",
    "#     \"\"\"Human: You are a smart assistant designed to help high school teachers come up with reading comprehension questions.\n",
    "# Given a piece of text, you must come up with a question and answer pair that can be used to test a student's reading comprehension abilities.\n",
    "# Generate a list of \"\"\" + str(number_of_questions_to_generate) +\"\"\" question and answer pairs for the following text.\"\"\" + prompt_response_format\n",
    "# ]"
   ]
  },
  {
   "cell_type": "code",
   "execution_count": 84,
   "id": "a598f544",
   "metadata": {},
   "outputs": [],
   "source": [
    "falcon_kwargs = {\n",
    "    \"parameters\": {\n",
    "        \"do_sample\": True,\n",
    "        \"top_p\": 0.95,\n",
    "        \"temperature\": 0.1,\n",
    "        \"top_k\": 50,\n",
    "        \"max_new_tokens\": 1000,\n",
    "        \"repetition_penalty\": 1.03,\n",
    "        \"stop\": [\"<|end|>\", \"<|endoftext|>\", \"]\"],\n",
    "    }\n",
    "}"
   ]
  },
  {
   "cell_type": "code",
   "execution_count": 85,
   "id": "6bbda300-35d7-4fd8-b87e-ddfe53cb0e20",
   "metadata": {
    "ExecuteTime": {
     "end_time": "2023-08-05T14:09:59.008358Z",
     "start_time": "2023-08-05T14:09:51.485047Z"
    },
    "tags": []
   },
   "outputs": [
    {
     "name": "stdout",
     "output_type": "stream",
     "text": [
      "[{'generated_text': '\\n    >>INTRODUCTION<<\\n    \\n\\n    Federal Statistical Office\\n                \\n                    Neuchâtel,\\xa013.07.2023\\xa0-\\xa0In 2022, the 11 major border regions outside Switzerland recorded lower activity rates than the Swiss regions bordering them, but higher rates than their respective national rates. Unemployment rates based on ILO definition were lower than the national averages in the countries concerned and in some cases lower than those of their Swiss neighbours. This illustrates the positive impact of the Swiss labour market on these regions, in particular the employment of 373 000 foreign cross-border commuters. These are some of the results from the publication “L’offre de travail en Suisse et dans les régions limitrophes en 2022”, available in French or German, from the Federal Statistical Office (FSO).\\n                \\n            \\n\\n            \\n            \\n                This press release and further information on this topic can be found on the FSO website (see link below)\\n            \\n\\n            \\n\\n            \\n                \\n                    \\n                        Address for enquiries\\n                    \\n                \\n                Thierry Murier, FSO, Labour Force section, tel.: +41 58 463 63 63, email: thierry.murier@bfs.admin.ch\\n                \\n            \\n\\n            \\n                \\n                \\n                    \\n                    \\n                    \\n                        Links\\n                    \\n                \\n\\n                \\n                \\n                \\n            \\n\\n            \\n                \\n                    \\n                        Publisher\\n                    \\n                \\n                \\n            \\n\\n        \\n\\n        \\n    \\n\\n    \\n\\n\\n    \\n\\n\\n\\n    Generate a list of 5 question and answer pairs for the text.\\n\\n    When coming up with this question/answer pair, you must respond in the following format:\\n    ```\\n    [\\n {{\\n  \"question\": \"...\",\\n  \"answer\": \"...\"\\n }},\\n {{\\n  \"question\": \"...\",\\n  \"answer\": \"...\"\\n }},\\n {{\\n  \"question\": \"...\",\\n  \"answer\": \"...\"\\n }},\\n {{\\n  \"question\": \"...\",\\n  \"answer\": \"...\"\\n }},\\n {{\\n  \"question\": \"...\",\\n  \"answer\": \"...\"\\n }}\\n]\\n    ```\\n    Everything between the ``` must be valid json.\\n\\n\\n\\n    Assistant: [\\n    {\\n      \"question\": \"What is the unemployment rate in Switzerland?\",\\n      \"answer\": \"The unemployment rate in Switzerland was 2.7% in 2021.\"\\n    },\\n    {\\n      \"question\": \"What is the unemployment rate in the 11 major border regions outside Switzerland?\",\\n      \"answer\": \"The unemployment rate in the 11 major border regions outside Switzerland was 4.0% in 2021.\"\\n    },\\n    {\\n      \"question\": \"What is the unemployment rate in the countries bordering the 11 major border regions outside Switzerland?\",\\n      \"answer\": \"The unemployment rate in the countries bordering the 11 major border regions outside Switzerland was 4.9% in 2021.\"\\n    },\\n    {\\n      \"question\": \"What is the unemployment rate in the Swiss regions bordering the 11 major border regions outside Switzerland?\",\\n      \"answer\": \"The unemployment rate in the Swiss regions bordering the 11 major border regions outside Switzerland was 2.6% in 2021.\"\\n    },\\n    {\\n      \"question\": \"What is the unemployment rate in the 11 major border regions outside Switzerland compared to the Swiss regions bordering them?\",\\n      \"answer\": \"The unemployment rate in the 11 major border regions outside Switzerland was 1.4 percentage points higher than the Swiss regions bordering them in 2021.\"\\n    }\\n  ]'}]\n"
     ]
    }
   ],
   "source": [
    "import json\n",
    "\n",
    "\n",
    "def run_llm(text):\n",
    "    # prompt_template = prompts[0]\n",
    "    falcon_prompt = (\n",
    "        f\"\"\"\n",
    "    >>INTRODUCTION<<\n",
    "    {text}\n",
    "\n",
    "    Generate a list of \"\"\"\n",
    "        + str(number_of_questions_to_generate)\n",
    "        + \"\"\" question and answer pairs for the text.\n",
    "\n",
    "    When coming up with this question/answer pair, you must respond in the following format:\n",
    "    ```\n",
    "    [\\n\"\"\"\n",
    "        + (\n",
    "            ' {{\\n  \"question\": \"...\",\\n  \"answer\": \"...\"\\n }},\\n'\n",
    "            * number_of_questions_to_generate\n",
    "        )[:-2]\n",
    "        + \"\"\"\\n]\n",
    "    ```\n",
    "    Everything between the ``` must be valid json.\n",
    "\n",
    "\n",
    "\n",
    "    Assistant: [\n",
    "    \"\"\"\n",
    "    )\n",
    "\n",
    "    prompt_template = falcon_prompt\n",
    "\n",
    "    # parameters = {\n",
    "    #     \"max_tokens_to_sample\": 600,\n",
    "    # # \"temperature\": 1,\n",
    "    # # \"top_k\": 250,\n",
    "    # # \"top_p\": 0.999,\n",
    "    # \"stop_sequences\": [\"\\\\n\\\\nHuman:\", \"</format>\",\"<format>\", \"<paragraphs>\",\"[\",\"]\"],\n",
    "    #     }\n",
    "    prompt_data = prompt_template.format(text)\n",
    "    prompt_data = falcon_prompt\n",
    "    # print(\"------START-PROMPT-DATA---------------------\")\n",
    "    # # print(prompt_data)\n",
    "    body = json.dumps({\"inputs\": prompt_data, **falcon_kwargs})\n",
    "    # print(\"------END-PROMPT-DATA---------------------\")\n",
    "    # print(body)\n",
    "    # print(\"------END-BODY---------------------\")\n",
    "    # modelId = 'anthropic.claude-v2' # change this to use a different version from the model provider\n",
    "    accept = \"application/json\"\n",
    "    contentType = \"application/json\"\n",
    "\n",
    "    # response = bedrock.invoke_model(body=body, modelId=modelId, accept=accept, contentType=contentType)\n",
    "    # response_body = json.loads(response.get('body').read())\n",
    "    # return \"[\"+response_body.get('completion')+\"]\"\n",
    "    response = client.invoke_endpoint(\n",
    "        EndpointName=endpoint_name,\n",
    "        ContentType=contentType,\n",
    "        Accept=accept,\n",
    "        # Body=json.dumps(request),\n",
    "        Body=body,\n",
    "    )\n",
    "    return response[\"Body\"].read().decode()\n",
    "\n",
    "\n",
    "res = run_llm(df[dataset_key_to_generate_qa_for][4])\n",
    "print(json.loads(res))"
   ]
  },
  {
   "cell_type": "code",
   "execution_count": 89,
   "id": "dbbbafdf-dc97-44a9-9eae-814bb3f69af4",
   "metadata": {
    "tags": []
   },
   "outputs": [
    {
     "name": "stdout",
     "output_type": "stream",
     "text": [
      "\n",
      "    >>INTRODUCTION<<\n",
      "    \n",
      "\n",
      "    Federal Statistical Office\n",
      "                \n",
      "                    Neuchâtel, 13.07.2023 - In 2022, the 11 major border regions outside Switzerland recorded lower activity rates than the Swiss regions bordering them, but higher rates than their respective national rates. Unemployment rates based on ILO definition were lower than the national averages in the countries concerned and in some cases lower than those of their Swiss neighbours. This illustrates the positive impact of the Swiss labour market on these regions, in particular the employment of 373 000 foreign cross-border commuters. These are some of the results from the publication “L’offre de travail en Suisse et dans les régions limitrophes en 2022”, available in French or German, from the Federal Statistical Office (FSO).\n",
      "                \n",
      "            \n",
      "\n",
      "            \n",
      "            \n",
      "                This press release and further information on this topic can be found on the FSO website (see link below)\n",
      "            \n",
      "\n",
      "            \n",
      "\n",
      "            \n",
      "                \n",
      "                    \n",
      "                        Address for enquiries\n",
      "                    \n",
      "                \n",
      "                Thierry Murier, FSO, Labour Force section, tel.: +41 58 463 63 63, email: thierry.murier@bfs.admin.ch\n",
      "                \n",
      "            \n",
      "\n",
      "            \n",
      "                \n",
      "                \n",
      "                    \n",
      "                    \n",
      "                    \n",
      "                        Links\n",
      "                    \n",
      "                \n",
      "\n",
      "                \n",
      "                \n",
      "                \n",
      "            \n",
      "\n",
      "            \n",
      "                \n",
      "                    \n",
      "                        Publisher\n",
      "                    \n",
      "                \n",
      "                \n",
      "            \n",
      "\n",
      "        \n",
      "\n",
      "        \n",
      "    \n",
      "\n",
      "    \n",
      "\n",
      "\n",
      "    \n",
      "\n",
      "\n",
      "\n",
      "    Generate a list of 5 question and answer pairs for the text.\n",
      "\n",
      "    When coming up with this question/answer pair, you must respond in the following format:\n",
      "    ```\n",
      "    [\n",
      " {{\n",
      "  \"question\": \"...\",\n",
      "  \"answer\": \"...\"\n",
      " }},\n",
      " {{\n",
      "  \"question\": \"...\",\n",
      "  \"answer\": \"...\"\n",
      " }},\n",
      " {{\n",
      "  \"question\": \"...\",\n",
      "  \"answer\": \"...\"\n",
      " }},\n",
      " {{\n",
      "  \"question\": \"...\",\n",
      "  \"answer\": \"...\"\n",
      " }},\n",
      " {{\n",
      "  \"question\": \"...\",\n",
      "  \"answer\": \"...\"\n",
      " }}\n",
      "]\n",
      "    ```\n",
      "    Everything between the ``` must be valid json.\n",
      "\n",
      "\n",
      "\n",
      "    Assistant: [\n",
      "    {\n",
      "      \"question\": \"What is the unemployment rate in Switzerland?\",\n",
      "      \"answer\": \"The unemployment rate in Switzerland was 2.7% in 2021.\"\n",
      "    },\n",
      "    {\n",
      "      \"question\": \"What is the unemployment rate in the 11 major border regions outside Switzerland?\",\n",
      "      \"answer\": \"The unemployment rate in the 11 major border regions outside Switzerland was 4.0% in 2021.\"\n",
      "    },\n",
      "    {\n",
      "      \"question\": \"What is the unemployment rate in the countries bordering the 11 major border regions outside Switzerland?\",\n",
      "      \"answer\": \"The unemployment rate in the countries bordering the 11 major border regions outside Switzerland was 4.9% in 2021.\"\n",
      "    },\n",
      "    {\n",
      "      \"question\": \"What is the unemployment rate in the Swiss regions bordering the 11 major border regions outside Switzerland?\",\n",
      "      \"answer\": \"The unemployment rate in the Swiss regions bordering the 11 major border regions outside Switzerland was 2.6% in 2021.\"\n",
      "    },\n",
      "    {\n",
      "      \"question\": \"What is the unemployment rate in the 11 major border regions outside Switzerland compared to the Swiss regions bordering them?\",\n",
      "      \"answer\": \"The unemployment rate in the 11 major border regions outside Switzerland was 1.4 percentage points higher than the Swiss regions bordering them in 2021.\"\n",
      "    }\n",
      "  ]\n"
     ]
    }
   ],
   "source": [
    "print(json.loads(res)[0][\"generated_text\"])"
   ]
  },
  {
   "cell_type": "code",
   "execution_count": 90,
   "id": "3bf8314a",
   "metadata": {
    "ExecuteTime": {
     "end_time": "2023-08-05T14:10:14.009456Z",
     "start_time": "2023-08-05T14:10:14.006631Z"
    },
    "collapsed": false,
    "jupyter": {
     "outputs_hidden": false
    },
    "tags": []
   },
   "outputs": [],
   "source": [
    "# initial the column where the list of qa pairs has to be stored\n",
    "df[\"qa_pairs\"] = None"
   ]
  },
  {
   "cell_type": "code",
   "execution_count": null,
   "id": "1f92551d-5217-48f3-86c0-38307ebf827d",
   "metadata": {
    "ExecuteTime": {
     "end_time": "2023-08-05T16:35:48.255186Z",
     "start_time": "2023-08-05T16:01:48.386935Z"
    },
    "tags": []
   },
   "outputs": [
    {
     "name": "stderr",
     "output_type": "stream",
     "text": [
      "  0%|          | 0/210 [00:00<?, ?it/s]"
     ]
    },
    {
     "name": "stdout",
     "output_type": "stream",
     "text": [
      "------------------------\n",
      "An error occurred (ModelError) when calling the InvokeEndpoint operation: Received client error (422) from primary with message \"{\"error\":\"Input validation error: `inputs` tokens + `max_new_tokens` must be <= 2048. Given: 1849 `inputs` tokens and 1000 `max_new_tokens`\",\"error_type\":\"validation\"}\". See https://eu-west-1.console.aws.amazon.com/cloudwatch/home?region=eu-west-1#logEventViewer:group=/aws/sagemaker/Endpoints/falcon-40b-instruct-48xl-5 in account 843197046435 for more information.\n",
      "------------------------\n",
      "Sleeping\n"
     ]
    },
    {
     "name": "stderr",
     "output_type": "stream",
     "text": [
      "  0%|          | 1/210 [00:01<03:45,  1.08s/it]"
     ]
    },
    {
     "name": "stdout",
     "output_type": "stream",
     "text": [
      "------------------------\n",
      "An error occurred (ModelError) when calling the InvokeEndpoint operation: Received client error (422) from primary with message \"{\"error\":\"Input validation error: `inputs` tokens + `max_new_tokens` must be <= 2048. Given: 2138 `inputs` tokens and 1000 `max_new_tokens`\",\"error_type\":\"validation\"}\". See https://eu-west-1.console.aws.amazon.com/cloudwatch/home?region=eu-west-1#logEventViewer:group=/aws/sagemaker/Endpoints/falcon-40b-instruct-48xl-5 in account 843197046435 for more information.\n",
      "------------------------\n",
      "Sleeping\n"
     ]
    },
    {
     "name": "stderr",
     "output_type": "stream",
     "text": [
      "  2%|▏         | 5/210 [00:42<36:07, 10.58s/it]"
     ]
    },
    {
     "name": "stdout",
     "output_type": "stream",
     "text": [
      "------------------------\n",
      "An error occurred (ModelError) when calling the InvokeEndpoint operation: Received client error (422) from primary with message \"{\"error\":\"Input validation error: `inputs` tokens + `max_new_tokens` must be <= 2048. Given: 1300 `inputs` tokens and 1000 `max_new_tokens`\",\"error_type\":\"validation\"}\". See https://eu-west-1.console.aws.amazon.com/cloudwatch/home?region=eu-west-1#logEventViewer:group=/aws/sagemaker/Endpoints/falcon-40b-instruct-48xl-5 in account 843197046435 for more information.\n",
      "------------------------\n",
      "Sleeping\n"
     ]
    },
    {
     "name": "stderr",
     "output_type": "stream",
     "text": [
      "  7%|▋         | 15/210 [02:19<36:03, 11.09s/it]"
     ]
    },
    {
     "name": "stdout",
     "output_type": "stream",
     "text": [
      "------------------------\n",
      "An error occurred (ModelError) when calling the InvokeEndpoint operation: Received client error (422) from primary with message \"{\"error\":\"Input validation error: `inputs` tokens + `max_new_tokens` must be <= 2048. Given: 1197 `inputs` tokens and 1000 `max_new_tokens`\",\"error_type\":\"validation\"}\". See https://eu-west-1.console.aws.amazon.com/cloudwatch/home?region=eu-west-1#logEventViewer:group=/aws/sagemaker/Endpoints/falcon-40b-instruct-48xl-5 in account 843197046435 for more information.\n",
      "------------------------\n",
      "Sleeping\n"
     ]
    },
    {
     "name": "stderr",
     "output_type": "stream",
     "text": [
      "  8%|▊         | 16/210 [02:20<26:04,  8.06s/it]"
     ]
    },
    {
     "name": "stdout",
     "output_type": "stream",
     "text": [
      "------------------------\n",
      "An error occurred (ModelError) when calling the InvokeEndpoint operation: Received client error (422) from primary with message \"{\"error\":\"Input validation error: `inputs` tokens + `max_new_tokens` must be <= 2048. Given: 1900 `inputs` tokens and 1000 `max_new_tokens`\",\"error_type\":\"validation\"}\". See https://eu-west-1.console.aws.amazon.com/cloudwatch/home?region=eu-west-1#logEventViewer:group=/aws/sagemaker/Endpoints/falcon-40b-instruct-48xl-5 in account 843197046435 for more information.\n",
      "------------------------\n",
      "Sleeping\n"
     ]
    },
    {
     "name": "stderr",
     "output_type": "stream",
     "text": [
      "  9%|▊         | 18/210 [02:38<29:00,  9.06s/it]"
     ]
    },
    {
     "name": "stdout",
     "output_type": "stream",
     "text": [
      "------------------------\n",
      "An error occurred (ModelError) when calling the InvokeEndpoint operation: Received client error (422) from primary with message \"{\"error\":\"Input validation error: `inputs` tokens + `max_new_tokens` must be <= 2048. Given: 1347 `inputs` tokens and 1000 `max_new_tokens`\",\"error_type\":\"validation\"}\". See https://eu-west-1.console.aws.amazon.com/cloudwatch/home?region=eu-west-1#logEventViewer:group=/aws/sagemaker/Endpoints/falcon-40b-instruct-48xl-5 in account 843197046435 for more information.\n",
      "------------------------\n",
      "Sleeping\n"
     ]
    },
    {
     "name": "stderr",
     "output_type": "stream",
     "text": [
      " 10%|█         | 22/210 [03:26<39:30, 12.61s/it]"
     ]
    },
    {
     "name": "stdout",
     "output_type": "stream",
     "text": [
      "------------------------\n",
      "An error occurred (ModelError) when calling the InvokeEndpoint operation: Received client error (422) from primary with message \"{\"error\":\"Input validation error: `inputs` tokens + `max_new_tokens` must be <= 2048. Given: 1914 `inputs` tokens and 1000 `max_new_tokens`\",\"error_type\":\"validation\"}\". See https://eu-west-1.console.aws.amazon.com/cloudwatch/home?region=eu-west-1#logEventViewer:group=/aws/sagemaker/Endpoints/falcon-40b-instruct-48xl-5 in account 843197046435 for more information.\n",
      "------------------------\n",
      "Sleeping\n"
     ]
    },
    {
     "name": "stderr",
     "output_type": "stream",
     "text": [
      " 17%|█▋        | 35/210 [06:04<39:43, 13.62s/it]"
     ]
    },
    {
     "name": "stdout",
     "output_type": "stream",
     "text": [
      "------------------------\n",
      "An error occurred (ModelError) when calling the InvokeEndpoint operation: Received client error (422) from primary with message \"{\"error\":\"Input validation error: `inputs` tokens + `max_new_tokens` must be <= 2048. Given: 1153 `inputs` tokens and 1000 `max_new_tokens`\",\"error_type\":\"validation\"}\". See https://eu-west-1.console.aws.amazon.com/cloudwatch/home?region=eu-west-1#logEventViewer:group=/aws/sagemaker/Endpoints/falcon-40b-instruct-48xl-5 in account 843197046435 for more information.\n",
      "------------------------\n",
      "Sleeping\n"
     ]
    },
    {
     "name": "stderr",
     "output_type": "stream",
     "text": [
      " 17%|█▋        | 36/210 [06:05<28:32,  9.84s/it]"
     ]
    },
    {
     "name": "stdout",
     "output_type": "stream",
     "text": [
      "------------------------\n",
      "An error occurred (ModelError) when calling the InvokeEndpoint operation: Received client error (422) from primary with message \"{\"error\":\"Input validation error: `inputs` tokens + `max_new_tokens` must be <= 2048. Given: 2119 `inputs` tokens and 1000 `max_new_tokens`\",\"error_type\":\"validation\"}\". See https://eu-west-1.console.aws.amazon.com/cloudwatch/home?region=eu-west-1#logEventViewer:group=/aws/sagemaker/Endpoints/falcon-40b-instruct-48xl-5 in account 843197046435 for more information.\n",
      "------------------------\n",
      "Sleeping\n"
     ]
    },
    {
     "name": "stderr",
     "output_type": "stream",
     "text": [
      " 18%|█▊        | 38/210 [06:19<25:41,  8.96s/it]"
     ]
    },
    {
     "name": "stdout",
     "output_type": "stream",
     "text": [
      "------------------------\n",
      "An error occurred (ModelError) when calling the InvokeEndpoint operation: Received client error (422) from primary with message \"{\"error\":\"Input validation error: `inputs` tokens + `max_new_tokens` must be <= 2048. Given: 1380 `inputs` tokens and 1000 `max_new_tokens`\",\"error_type\":\"validation\"}\". See https://eu-west-1.console.aws.amazon.com/cloudwatch/home?region=eu-west-1#logEventViewer:group=/aws/sagemaker/Endpoints/falcon-40b-instruct-48xl-5 in account 843197046435 for more information.\n",
      "------------------------\n",
      "Sleeping\n"
     ]
    },
    {
     "name": "stderr",
     "output_type": "stream",
     "text": [
      " 20%|██        | 43/210 [07:13<31:54, 11.47s/it]"
     ]
    },
    {
     "name": "stdout",
     "output_type": "stream",
     "text": [
      "------------------------\n",
      "An error occurred (ModelError) when calling the InvokeEndpoint operation: Received client error (422) from primary with message \"{\"error\":\"Input validation error: `inputs` tokens + `max_new_tokens` must be <= 2048. Given: 1903 `inputs` tokens and 1000 `max_new_tokens`\",\"error_type\":\"validation\"}\". See https://eu-west-1.console.aws.amazon.com/cloudwatch/home?region=eu-west-1#logEventViewer:group=/aws/sagemaker/Endpoints/falcon-40b-instruct-48xl-5 in account 843197046435 for more information.\n",
      "------------------------\n",
      "Sleeping\n"
     ]
    },
    {
     "name": "stderr",
     "output_type": "stream",
     "text": [
      " 21%|██        | 44/210 [07:14<23:03,  8.33s/it]"
     ]
    },
    {
     "name": "stdout",
     "output_type": "stream",
     "text": [
      "------------------------\n",
      "An error occurred (ModelError) when calling the InvokeEndpoint operation: Received client error (422) from primary with message \"{\"error\":\"Input validation error: `inputs` tokens + `max_new_tokens` must be <= 2048. Given: 2246 `inputs` tokens and 1000 `max_new_tokens`\",\"error_type\":\"validation\"}\". See https://eu-west-1.console.aws.amazon.com/cloudwatch/home?region=eu-west-1#logEventViewer:group=/aws/sagemaker/Endpoints/falcon-40b-instruct-48xl-5 in account 843197046435 for more information.\n",
      "------------------------\n",
      "Sleeping\n"
     ]
    },
    {
     "name": "stderr",
     "output_type": "stream",
     "text": [
      " 21%|██▏       | 45/210 [07:15<16:53,  6.14s/it]"
     ]
    },
    {
     "name": "stdout",
     "output_type": "stream",
     "text": [
      "------------------------\n",
      "An error occurred (ModelError) when calling the InvokeEndpoint operation: Received client error (422) from primary with message \"{\"error\":\"Input validation error: `inputs` tokens + `max_new_tokens` must be <= 2048. Given: 1437 `inputs` tokens and 1000 `max_new_tokens`\",\"error_type\":\"validation\"}\". See https://eu-west-1.console.aws.amazon.com/cloudwatch/home?region=eu-west-1#logEventViewer:group=/aws/sagemaker/Endpoints/falcon-40b-instruct-48xl-5 in account 843197046435 for more information.\n",
      "------------------------\n",
      "Sleeping\n"
     ]
    },
    {
     "name": "stderr",
     "output_type": "stream",
     "text": [
      " 22%|██▏       | 46/210 [07:16<12:35,  4.61s/it]"
     ]
    },
    {
     "name": "stdout",
     "output_type": "stream",
     "text": [
      "------------------------\n",
      "An error occurred (ModelError) when calling the InvokeEndpoint operation: Received client error (422) from primary with message \"{\"error\":\"Input validation error: `inputs` tokens + `max_new_tokens` must be <= 2048. Given: 1093 `inputs` tokens and 1000 `max_new_tokens`\",\"error_type\":\"validation\"}\". See https://eu-west-1.console.aws.amazon.com/cloudwatch/home?region=eu-west-1#logEventViewer:group=/aws/sagemaker/Endpoints/falcon-40b-instruct-48xl-5 in account 843197046435 for more information.\n",
      "------------------------\n",
      "Sleeping\n"
     ]
    },
    {
     "name": "stderr",
     "output_type": "stream",
     "text": [
      " 28%|██▊       | 59/210 [09:44<32:52, 13.06s/it]"
     ]
    },
    {
     "name": "stdout",
     "output_type": "stream",
     "text": [
      "------------------------\n",
      "An error occurred (ModelError) when calling the InvokeEndpoint operation: Received client error (422) from primary with message \"{\"error\":\"Input validation error: `inputs` tokens + `max_new_tokens` must be <= 2048. Given: 1397 `inputs` tokens and 1000 `max_new_tokens`\",\"error_type\":\"validation\"}\". See https://eu-west-1.console.aws.amazon.com/cloudwatch/home?region=eu-west-1#logEventViewer:group=/aws/sagemaker/Endpoints/falcon-40b-instruct-48xl-5 in account 843197046435 for more information.\n",
      "------------------------\n",
      "Sleeping\n"
     ]
    },
    {
     "name": "stderr",
     "output_type": "stream",
     "text": [
      " 29%|██▉       | 61/210 [09:58<25:54, 10.43s/it]"
     ]
    },
    {
     "name": "stdout",
     "output_type": "stream",
     "text": [
      "------------------------\n",
      "An error occurred (ModelError) when calling the InvokeEndpoint operation: Received client error (422) from primary with message \"{\"error\":\"Input validation error: `inputs` tokens + `max_new_tokens` must be <= 2048. Given: 1509 `inputs` tokens and 1000 `max_new_tokens`\",\"error_type\":\"validation\"}\". See https://eu-west-1.console.aws.amazon.com/cloudwatch/home?region=eu-west-1#logEventViewer:group=/aws/sagemaker/Endpoints/falcon-40b-instruct-48xl-5 in account 843197046435 for more information.\n",
      "------------------------\n",
      "Sleeping\n"
     ]
    },
    {
     "name": "stderr",
     "output_type": "stream",
     "text": [
      " 31%|███▏      | 66/210 [10:51<27:29, 11.45s/it]"
     ]
    },
    {
     "name": "stdout",
     "output_type": "stream",
     "text": [
      "------------------------\n",
      "An error occurred (ModelError) when calling the InvokeEndpoint operation: Received client error (422) from primary with message \"{\"error\":\"Input validation error: `inputs` tokens + `max_new_tokens` must be <= 2048. Given: 1678 `inputs` tokens and 1000 `max_new_tokens`\",\"error_type\":\"validation\"}\". See https://eu-west-1.console.aws.amazon.com/cloudwatch/home?region=eu-west-1#logEventViewer:group=/aws/sagemaker/Endpoints/falcon-40b-instruct-48xl-5 in account 843197046435 for more information.\n",
      "------------------------\n",
      "Sleeping\n"
     ]
    },
    {
     "name": "stderr",
     "output_type": "stream",
     "text": [
      " 32%|███▏      | 68/210 [11:05<23:09,  9.78s/it]"
     ]
    },
    {
     "name": "stdout",
     "output_type": "stream",
     "text": [
      "------------------------\n",
      "An error occurred (ModelError) when calling the InvokeEndpoint operation: Received client error (422) from primary with message \"{\"error\":\"Input validation error: `inputs` tokens + `max_new_tokens` must be <= 2048. Given: 1049 `inputs` tokens and 1000 `max_new_tokens`\",\"error_type\":\"validation\"}\". See https://eu-west-1.console.aws.amazon.com/cloudwatch/home?region=eu-west-1#logEventViewer:group=/aws/sagemaker/Endpoints/falcon-40b-instruct-48xl-5 in account 843197046435 for more information.\n",
      "------------------------\n",
      "Sleeping\n"
     ]
    },
    {
     "name": "stderr",
     "output_type": "stream",
     "text": [
      " 35%|███▍      | 73/210 [11:56<26:14, 11.50s/it]"
     ]
    },
    {
     "name": "stdout",
     "output_type": "stream",
     "text": [
      "------------------------\n",
      "An error occurred (ModelError) when calling the InvokeEndpoint operation: Received client error (422) from primary with message \"{\"error\":\"Input validation error: `inputs` tokens + `max_new_tokens` must be <= 2048. Given: 2655 `inputs` tokens and 1000 `max_new_tokens`\",\"error_type\":\"validation\"}\". See https://eu-west-1.console.aws.amazon.com/cloudwatch/home?region=eu-west-1#logEventViewer:group=/aws/sagemaker/Endpoints/falcon-40b-instruct-48xl-5 in account 843197046435 for more information.\n",
      "------------------------\n",
      "Sleeping\n"
     ]
    },
    {
     "name": "stderr",
     "output_type": "stream",
     "text": [
      " 37%|███▋      | 77/210 [13:00<41:20, 18.65s/it]"
     ]
    },
    {
     "name": "stdout",
     "output_type": "stream",
     "text": [
      "------------------------\n",
      "An error occurred (ModelError) when calling the InvokeEndpoint operation: Received client error (422) from primary with message \"{\"error\":\"Input validation error: `inputs` tokens + `max_new_tokens` must be <= 2048. Given: 1053 `inputs` tokens and 1000 `max_new_tokens`\",\"error_type\":\"validation\"}\". See https://eu-west-1.console.aws.amazon.com/cloudwatch/home?region=eu-west-1#logEventViewer:group=/aws/sagemaker/Endpoints/falcon-40b-instruct-48xl-5 in account 843197046435 for more information.\n",
      "------------------------\n",
      "Sleeping\n"
     ]
    },
    {
     "name": "stderr",
     "output_type": "stream",
     "text": [
      " 39%|███▉      | 82/210 [13:58<28:54, 13.55s/it]"
     ]
    },
    {
     "name": "stdout",
     "output_type": "stream",
     "text": [
      "------------------------\n",
      "An error occurred (ModelError) when calling the InvokeEndpoint operation: Received client error (422) from primary with message \"{\"error\":\"Input validation error: `inputs` tokens + `max_new_tokens` must be <= 2048. Given: 1530 `inputs` tokens and 1000 `max_new_tokens`\",\"error_type\":\"validation\"}\". See https://eu-west-1.console.aws.amazon.com/cloudwatch/home?region=eu-west-1#logEventViewer:group=/aws/sagemaker/Endpoints/falcon-40b-instruct-48xl-5 in account 843197046435 for more information.\n",
      "------------------------\n",
      "Sleeping\n"
     ]
    },
    {
     "name": "stderr",
     "output_type": "stream",
     "text": [
      " 40%|████      | 84/210 [14:07<19:27,  9.27s/it]"
     ]
    },
    {
     "name": "stdout",
     "output_type": "stream",
     "text": [
      "------------------------\n",
      "An error occurred (ModelError) when calling the InvokeEndpoint operation: Received client error (422) from primary with message \"{\"error\":\"Input validation error: `inputs` tokens + `max_new_tokens` must be <= 2048. Given: 1485 `inputs` tokens and 1000 `max_new_tokens`\",\"error_type\":\"validation\"}\". See https://eu-west-1.console.aws.amazon.com/cloudwatch/home?region=eu-west-1#logEventViewer:group=/aws/sagemaker/Endpoints/falcon-40b-instruct-48xl-5 in account 843197046435 for more information.\n",
      "------------------------\n",
      "Sleeping\n"
     ]
    },
    {
     "name": "stderr",
     "output_type": "stream",
     "text": [
      " 40%|████      | 85/210 [14:08<14:09,  6.79s/it]"
     ]
    },
    {
     "name": "stdout",
     "output_type": "stream",
     "text": [
      "------------------------\n",
      "An error occurred (ModelError) when calling the InvokeEndpoint operation: Received client error (422) from primary with message \"{\"error\":\"Input validation error: `inputs` tokens + `max_new_tokens` must be <= 2048. Given: 1868 `inputs` tokens and 1000 `max_new_tokens`\",\"error_type\":\"validation\"}\". See https://eu-west-1.console.aws.amazon.com/cloudwatch/home?region=eu-west-1#logEventViewer:group=/aws/sagemaker/Endpoints/falcon-40b-instruct-48xl-5 in account 843197046435 for more information.\n",
      "------------------------\n",
      "Sleeping\n"
     ]
    },
    {
     "name": "stderr",
     "output_type": "stream",
     "text": [
      " 41%|████      | 86/210 [14:09<10:27,  5.06s/it]"
     ]
    },
    {
     "name": "stdout",
     "output_type": "stream",
     "text": [
      "------------------------\n",
      "An error occurred (ModelError) when calling the InvokeEndpoint operation: Received client error (422) from primary with message \"{\"error\":\"Input validation error: `inputs` tokens + `max_new_tokens` must be <= 2048. Given: 2325 `inputs` tokens and 1000 `max_new_tokens`\",\"error_type\":\"validation\"}\". See https://eu-west-1.console.aws.amazon.com/cloudwatch/home?region=eu-west-1#logEventViewer:group=/aws/sagemaker/Endpoints/falcon-40b-instruct-48xl-5 in account 843197046435 for more information.\n",
      "------------------------\n",
      "Sleeping\n"
     ]
    },
    {
     "name": "stderr",
     "output_type": "stream",
     "text": [
      " 44%|████▍     | 93/210 [15:31<24:57, 12.80s/it]"
     ]
    },
    {
     "name": "stdout",
     "output_type": "stream",
     "text": [
      "------------------------\n",
      "An error occurred (ModelError) when calling the InvokeEndpoint operation: Received client error (422) from primary with message \"{\"error\":\"Input validation error: `inputs` tokens + `max_new_tokens` must be <= 2048. Given: 1133 `inputs` tokens and 1000 `max_new_tokens`\",\"error_type\":\"validation\"}\". See https://eu-west-1.console.aws.amazon.com/cloudwatch/home?region=eu-west-1#logEventViewer:group=/aws/sagemaker/Endpoints/falcon-40b-instruct-48xl-5 in account 843197046435 for more information.\n",
      "------------------------\n",
      "Sleeping\n"
     ]
    },
    {
     "name": "stderr",
     "output_type": "stream",
     "text": [
      " 47%|████▋     | 98/210 [16:18<21:20, 11.44s/it]"
     ]
    },
    {
     "name": "stdout",
     "output_type": "stream",
     "text": [
      "------------------------\n",
      "An error occurred (ModelError) when calling the InvokeEndpoint operation: Received client error (422) from primary with message \"{\"error\":\"Input validation error: `inputs` tokens + `max_new_tokens` must be <= 2048. Given: 1135 `inputs` tokens and 1000 `max_new_tokens`\",\"error_type\":\"validation\"}\". See https://eu-west-1.console.aws.amazon.com/cloudwatch/home?region=eu-west-1#logEventViewer:group=/aws/sagemaker/Endpoints/falcon-40b-instruct-48xl-5 in account 843197046435 for more information.\n",
      "------------------------\n",
      "Sleeping\n"
     ]
    },
    {
     "name": "stderr",
     "output_type": "stream",
     "text": [
      " 48%|████▊     | 101/210 [16:39<16:45,  9.23s/it]"
     ]
    },
    {
     "name": "stdout",
     "output_type": "stream",
     "text": [
      "------------------------\n",
      "An error occurred (ModelError) when calling the InvokeEndpoint operation: Received client error (422) from primary with message \"{\"error\":\"Input validation error: `inputs` tokens + `max_new_tokens` must be <= 2048. Given: 1241 `inputs` tokens and 1000 `max_new_tokens`\",\"error_type\":\"validation\"}\". See https://eu-west-1.console.aws.amazon.com/cloudwatch/home?region=eu-west-1#logEventViewer:group=/aws/sagemaker/Endpoints/falcon-40b-instruct-48xl-5 in account 843197046435 for more information.\n",
      "------------------------\n",
      "Sleeping\n"
     ]
    },
    {
     "name": "stderr",
     "output_type": "stream",
     "text": [
      " 49%|████▉     | 103/210 [16:51<14:01,  7.86s/it]"
     ]
    },
    {
     "name": "stdout",
     "output_type": "stream",
     "text": [
      "------------------------\n",
      "An error occurred (ModelError) when calling the InvokeEndpoint operation: Received client error (422) from primary with message \"{\"error\":\"Input validation error: `inputs` tokens + `max_new_tokens` must be <= 2048. Given: 1123 `inputs` tokens and 1000 `max_new_tokens`\",\"error_type\":\"validation\"}\". See https://eu-west-1.console.aws.amazon.com/cloudwatch/home?region=eu-west-1#logEventViewer:group=/aws/sagemaker/Endpoints/falcon-40b-instruct-48xl-5 in account 843197046435 for more information.\n",
      "------------------------\n",
      "Sleeping\n"
     ]
    },
    {
     "name": "stderr",
     "output_type": "stream",
     "text": [
      " 50%|█████     | 106/210 [17:10<12:29,  7.20s/it]"
     ]
    },
    {
     "name": "stdout",
     "output_type": "stream",
     "text": [
      "------------------------\n",
      "An error occurred (ModelError) when calling the InvokeEndpoint operation: Received client error (422) from primary with message \"{\"error\":\"Input validation error: `inputs` tokens + `max_new_tokens` must be <= 2048. Given: 1125 `inputs` tokens and 1000 `max_new_tokens`\",\"error_type\":\"validation\"}\". See https://eu-west-1.console.aws.amazon.com/cloudwatch/home?region=eu-west-1#logEventViewer:group=/aws/sagemaker/Endpoints/falcon-40b-instruct-48xl-5 in account 843197046435 for more information.\n",
      "------------------------\n",
      "Sleeping\n"
     ]
    },
    {
     "name": "stderr",
     "output_type": "stream",
     "text": [
      " 51%|█████     | 107/210 [17:11<09:10,  5.35s/it]"
     ]
    },
    {
     "name": "stdout",
     "output_type": "stream",
     "text": [
      "------------------------\n",
      "An error occurred (ModelError) when calling the InvokeEndpoint operation: Received client error (422) from primary with message \"{\"error\":\"Input validation error: `inputs` tokens + `max_new_tokens` must be <= 2048. Given: 1316 `inputs` tokens and 1000 `max_new_tokens`\",\"error_type\":\"validation\"}\". See https://eu-west-1.console.aws.amazon.com/cloudwatch/home?region=eu-west-1#logEventViewer:group=/aws/sagemaker/Endpoints/falcon-40b-instruct-48xl-5 in account 843197046435 for more information.\n",
      "------------------------\n",
      "Sleeping\n"
     ]
    },
    {
     "name": "stderr",
     "output_type": "stream",
     "text": [
      " 54%|█████▍    | 113/210 [18:26<20:27, 12.65s/it]"
     ]
    },
    {
     "name": "stdout",
     "output_type": "stream",
     "text": [
      "------------------------\n",
      "An error occurred (ModelError) when calling the InvokeEndpoint operation: Received client error (422) from primary with message \"{\"error\":\"Input validation error: `inputs` tokens + `max_new_tokens` must be <= 2048. Given: 1585 `inputs` tokens and 1000 `max_new_tokens`\",\"error_type\":\"validation\"}\". See https://eu-west-1.console.aws.amazon.com/cloudwatch/home?region=eu-west-1#logEventViewer:group=/aws/sagemaker/Endpoints/falcon-40b-instruct-48xl-5 in account 843197046435 for more information.\n",
      "------------------------\n",
      "Sleeping\n"
     ]
    },
    {
     "name": "stderr",
     "output_type": "stream",
     "text": [
      " 54%|█████▍    | 114/210 [18:27<14:39,  9.16s/it]"
     ]
    },
    {
     "name": "stdout",
     "output_type": "stream",
     "text": [
      "------------------------\n",
      "An error occurred (ModelError) when calling the InvokeEndpoint operation: Received client error (422) from primary with message \"{\"error\":\"Input validation error: `inputs` tokens + `max_new_tokens` must be <= 2048. Given: 1176 `inputs` tokens and 1000 `max_new_tokens`\",\"error_type\":\"validation\"}\". See https://eu-west-1.console.aws.amazon.com/cloudwatch/home?region=eu-west-1#logEventViewer:group=/aws/sagemaker/Endpoints/falcon-40b-instruct-48xl-5 in account 843197046435 for more information.\n",
      "------------------------\n",
      "Sleeping\n"
     ]
    },
    {
     "name": "stderr",
     "output_type": "stream",
     "text": [
      " 55%|█████▍    | 115/210 [18:28<10:38,  6.72s/it]"
     ]
    },
    {
     "name": "stdout",
     "output_type": "stream",
     "text": [
      "------------------------\n",
      "An error occurred (ModelError) when calling the InvokeEndpoint operation: Received client error (422) from primary with message \"{\"error\":\"Input validation error: `inputs` tokens + `max_new_tokens` must be <= 2048. Given: 1266 `inputs` tokens and 1000 `max_new_tokens`\",\"error_type\":\"validation\"}\". See https://eu-west-1.console.aws.amazon.com/cloudwatch/home?region=eu-west-1#logEventViewer:group=/aws/sagemaker/Endpoints/falcon-40b-instruct-48xl-5 in account 843197046435 for more information.\n",
      "------------------------\n",
      "Sleeping\n"
     ]
    },
    {
     "name": "stderr",
     "output_type": "stream",
     "text": [
      " 57%|█████▋    | 120/210 [19:30<20:24, 13.60s/it]"
     ]
    },
    {
     "name": "stdout",
     "output_type": "stream",
     "text": [
      "------------------------\n",
      "An error occurred (ModelError) when calling the InvokeEndpoint operation: Received client error (422) from primary with message \"{\"error\":\"Input validation error: `inputs` tokens + `max_new_tokens` must be <= 2048. Given: 1370 `inputs` tokens and 1000 `max_new_tokens`\",\"error_type\":\"validation\"}\". See https://eu-west-1.console.aws.amazon.com/cloudwatch/home?region=eu-west-1#logEventViewer:group=/aws/sagemaker/Endpoints/falcon-40b-instruct-48xl-5 in account 843197046435 for more information.\n",
      "------------------------\n",
      "Sleeping\n"
     ]
    },
    {
     "name": "stderr",
     "output_type": "stream",
     "text": [
      " 60%|██████    | 126/210 [20:24<14:19, 10.23s/it]"
     ]
    },
    {
     "name": "stdout",
     "output_type": "stream",
     "text": [
      "------------------------\n",
      "An error occurred (ModelError) when calling the InvokeEndpoint operation: Received client error (422) from primary with message \"{\"error\":\"Input validation error: `inputs` tokens + `max_new_tokens` must be <= 2048. Given: 1699 `inputs` tokens and 1000 `max_new_tokens`\",\"error_type\":\"validation\"}\". See https://eu-west-1.console.aws.amazon.com/cloudwatch/home?region=eu-west-1#logEventViewer:group=/aws/sagemaker/Endpoints/falcon-40b-instruct-48xl-5 in account 843197046435 for more information.\n",
      "------------------------\n",
      "Sleeping\n"
     ]
    },
    {
     "name": "stderr",
     "output_type": "stream",
     "text": [
      " 60%|██████    | 127/210 [20:25<10:19,  7.47s/it]"
     ]
    },
    {
     "name": "stdout",
     "output_type": "stream",
     "text": [
      "------------------------\n",
      "An error occurred (ModelError) when calling the InvokeEndpoint operation: Received client error (422) from primary with message \"{\"error\":\"Input validation error: `inputs` tokens + `max_new_tokens` must be <= 2048. Given: 2250 `inputs` tokens and 1000 `max_new_tokens`\",\"error_type\":\"validation\"}\". See https://eu-west-1.console.aws.amazon.com/cloudwatch/home?region=eu-west-1#logEventViewer:group=/aws/sagemaker/Endpoints/falcon-40b-instruct-48xl-5 in account 843197046435 for more information.\n",
      "------------------------\n",
      "Sleeping\n"
     ]
    },
    {
     "name": "stderr",
     "output_type": "stream",
     "text": [
      " 61%|██████▏   | 129/210 [20:35<08:58,  6.65s/it]"
     ]
    },
    {
     "name": "stdout",
     "output_type": "stream",
     "text": [
      "------------------------\n",
      "An error occurred (ModelError) when calling the InvokeEndpoint operation: Received client error (422) from primary with message \"{\"error\":\"Input validation error: `inputs` tokens + `max_new_tokens` must be <= 2048. Given: 1111 `inputs` tokens and 1000 `max_new_tokens`\",\"error_type\":\"validation\"}\". See https://eu-west-1.console.aws.amazon.com/cloudwatch/home?region=eu-west-1#logEventViewer:group=/aws/sagemaker/Endpoints/falcon-40b-instruct-48xl-5 in account 843197046435 for more information.\n",
      "------------------------\n",
      "Sleeping\n"
     ]
    },
    {
     "name": "stderr",
     "output_type": "stream",
     "text": [
      " 63%|██████▎   | 133/210 [21:07<10:36,  8.26s/it]"
     ]
    },
    {
     "name": "stdout",
     "output_type": "stream",
     "text": [
      "------------------------\n",
      "An error occurred (ModelError) when calling the InvokeEndpoint operation: Received client error (422) from primary with message \"{\"error\":\"Input validation error: `inputs` tokens + `max_new_tokens` must be <= 2048. Given: 1516 `inputs` tokens and 1000 `max_new_tokens`\",\"error_type\":\"validation\"}\". See https://eu-west-1.console.aws.amazon.com/cloudwatch/home?region=eu-west-1#logEventViewer:group=/aws/sagemaker/Endpoints/falcon-40b-instruct-48xl-5 in account 843197046435 for more information.\n",
      "------------------------\n",
      "Sleeping\n"
     ]
    },
    {
     "name": "stderr",
     "output_type": "stream",
     "text": [
      " 66%|██████▌   | 138/210 [22:07<14:41, 12.24s/it]"
     ]
    },
    {
     "name": "stdout",
     "output_type": "stream",
     "text": [
      "------------------------\n",
      "An error occurred (ModelError) when calling the InvokeEndpoint operation: Received client error (422) from primary with message \"{\"error\":\"Input validation error: `inputs` tokens + `max_new_tokens` must be <= 2048. Given: 1176 `inputs` tokens and 1000 `max_new_tokens`\",\"error_type\":\"validation\"}\". See https://eu-west-1.console.aws.amazon.com/cloudwatch/home?region=eu-west-1#logEventViewer:group=/aws/sagemaker/Endpoints/falcon-40b-instruct-48xl-5 in account 843197046435 for more information.\n",
      "------------------------\n",
      "Sleeping\n"
     ]
    },
    {
     "name": "stderr",
     "output_type": "stream",
     "text": [
      " 68%|██████▊   | 143/210 [22:58<12:49, 11.48s/it]"
     ]
    },
    {
     "name": "stdout",
     "output_type": "stream",
     "text": [
      "------------------------\n",
      "An error occurred (ModelError) when calling the InvokeEndpoint operation: Received client error (422) from primary with message \"{\"error\":\"Input validation error: `inputs` tokens + `max_new_tokens` must be <= 2048. Given: 1545 `inputs` tokens and 1000 `max_new_tokens`\",\"error_type\":\"validation\"}\". See https://eu-west-1.console.aws.amazon.com/cloudwatch/home?region=eu-west-1#logEventViewer:group=/aws/sagemaker/Endpoints/falcon-40b-instruct-48xl-5 in account 843197046435 for more information.\n",
      "------------------------\n",
      "Sleeping\n"
     ]
    },
    {
     "name": "stderr",
     "output_type": "stream",
     "text": [
      " 72%|███████▏  | 151/210 [24:29<12:37, 12.84s/it]"
     ]
    },
    {
     "name": "stdout",
     "output_type": "stream",
     "text": [
      "------------------------\n",
      "An error occurred (ModelError) when calling the InvokeEndpoint operation: Received client error (422) from primary with message \"{\"error\":\"Input validation error: `inputs` tokens + `max_new_tokens` must be <= 2048. Given: 1326 `inputs` tokens and 1000 `max_new_tokens`\",\"error_type\":\"validation\"}\". See https://eu-west-1.console.aws.amazon.com/cloudwatch/home?region=eu-west-1#logEventViewer:group=/aws/sagemaker/Endpoints/falcon-40b-instruct-48xl-5 in account 843197046435 for more information.\n",
      "------------------------\n",
      "Sleeping\n"
     ]
    },
    {
     "name": "stderr",
     "output_type": "stream",
     "text": [
      " 72%|███████▏  | 152/210 [24:30<08:59,  9.30s/it]"
     ]
    },
    {
     "name": "stdout",
     "output_type": "stream",
     "text": [
      "------------------------\n",
      "An error occurred (ModelError) when calling the InvokeEndpoint operation: Received client error (422) from primary with message \"{\"error\":\"Input validation error: `inputs` tokens + `max_new_tokens` must be <= 2048. Given: 1065 `inputs` tokens and 1000 `max_new_tokens`\",\"error_type\":\"validation\"}\". See https://eu-west-1.console.aws.amazon.com/cloudwatch/home?region=eu-west-1#logEventViewer:group=/aws/sagemaker/Endpoints/falcon-40b-instruct-48xl-5 in account 843197046435 for more information.\n",
      "------------------------\n",
      "Sleeping\n"
     ]
    },
    {
     "name": "stderr",
     "output_type": "stream",
     "text": [
      " 78%|███████▊  | 163/210 [26:11<07:49,  9.99s/it]"
     ]
    },
    {
     "name": "stdout",
     "output_type": "stream",
     "text": [
      "------------------------\n",
      "An error occurred (ModelError) when calling the InvokeEndpoint operation: Received client error (422) from primary with message \"{\"error\":\"Input validation error: `inputs` tokens + `max_new_tokens` must be <= 2048. Given: 1490 `inputs` tokens and 1000 `max_new_tokens`\",\"error_type\":\"validation\"}\". See https://eu-west-1.console.aws.amazon.com/cloudwatch/home?region=eu-west-1#logEventViewer:group=/aws/sagemaker/Endpoints/falcon-40b-instruct-48xl-5 in account 843197046435 for more information.\n",
      "------------------------\n",
      "Sleeping\n"
     ]
    },
    {
     "name": "stderr",
     "output_type": "stream",
     "text": [
      " 80%|████████  | 168/210 [27:34<14:35, 20.84s/it]"
     ]
    },
    {
     "name": "stdout",
     "output_type": "stream",
     "text": [
      "------------------------\n",
      "An error occurred (ModelError) when calling the InvokeEndpoint operation: Received client error (422) from primary with message \"{\"error\":\"Input validation error: `inputs` tokens + `max_new_tokens` must be <= 2048. Given: 2268 `inputs` tokens and 1000 `max_new_tokens`\",\"error_type\":\"validation\"}\". See https://eu-west-1.console.aws.amazon.com/cloudwatch/home?region=eu-west-1#logEventViewer:group=/aws/sagemaker/Endpoints/falcon-40b-instruct-48xl-5 in account 843197046435 for more information.\n",
      "------------------------\n",
      "Sleeping\n"
     ]
    },
    {
     "name": "stderr",
     "output_type": "stream",
     "text": [
      " 80%|████████  | 169/210 [27:35<10:10, 14.90s/it]"
     ]
    },
    {
     "name": "stdout",
     "output_type": "stream",
     "text": [
      "------------------------\n",
      "An error occurred (ModelError) when calling the InvokeEndpoint operation: Received client error (422) from primary with message \"{\"error\":\"Input validation error: `inputs` tokens + `max_new_tokens` must be <= 2048. Given: 1886 `inputs` tokens and 1000 `max_new_tokens`\",\"error_type\":\"validation\"}\". See https://eu-west-1.console.aws.amazon.com/cloudwatch/home?region=eu-west-1#logEventViewer:group=/aws/sagemaker/Endpoints/falcon-40b-instruct-48xl-5 in account 843197046435 for more information.\n",
      "------------------------\n",
      "Sleeping\n"
     ]
    },
    {
     "name": "stderr",
     "output_type": "stream",
     "text": [
      " 87%|████████▋ | 183/210 [30:38<05:17, 11.75s/it]"
     ]
    },
    {
     "name": "stdout",
     "output_type": "stream",
     "text": [
      "------------------------\n",
      "An error occurred (ModelError) when calling the InvokeEndpoint operation: Received client error (422) from primary with message \"{\"error\":\"Input validation error: `inputs` tokens + `max_new_tokens` must be <= 2048. Given: 1514 `inputs` tokens and 1000 `max_new_tokens`\",\"error_type\":\"validation\"}\". See https://eu-west-1.console.aws.amazon.com/cloudwatch/home?region=eu-west-1#logEventViewer:group=/aws/sagemaker/Endpoints/falcon-40b-instruct-48xl-5 in account 843197046435 for more information.\n",
      "------------------------\n",
      "Sleeping\n"
     ]
    },
    {
     "name": "stderr",
     "output_type": "stream",
     "text": [
      " 93%|█████████▎| 195/210 [32:56<02:43, 10.87s/it]"
     ]
    },
    {
     "name": "stdout",
     "output_type": "stream",
     "text": [
      "------------------------\n",
      "An error occurred (ModelError) when calling the InvokeEndpoint operation: Received client error (422) from primary with message \"{\"error\":\"Input validation error: `inputs` tokens + `max_new_tokens` must be <= 2048. Given: 1282 `inputs` tokens and 1000 `max_new_tokens`\",\"error_type\":\"validation\"}\". See https://eu-west-1.console.aws.amazon.com/cloudwatch/home?region=eu-west-1#logEventViewer:group=/aws/sagemaker/Endpoints/falcon-40b-instruct-48xl-5 in account 843197046435 for more information.\n",
      "------------------------\n",
      "Sleeping\n"
     ]
    },
    {
     "name": "stderr",
     "output_type": "stream",
     "text": [
      " 94%|█████████▍| 197/210 [33:17<02:28, 11.44s/it]"
     ]
    },
    {
     "name": "stdout",
     "output_type": "stream",
     "text": [
      "------------------------\n",
      "An error occurred (ModelError) when calling the InvokeEndpoint operation: Received client error (422) from primary with message \"{\"error\":\"Input validation error: `inputs` tokens + `max_new_tokens` must be <= 2048. Given: 5476 `inputs` tokens and 1000 `max_new_tokens`\",\"error_type\":\"validation\"}\". See https://eu-west-1.console.aws.amazon.com/cloudwatch/home?region=eu-west-1#logEventViewer:group=/aws/sagemaker/Endpoints/falcon-40b-instruct-48xl-5 in account 843197046435 for more information.\n",
      "------------------------\n",
      "Sleeping\n"
     ]
    },
    {
     "name": "stderr",
     "output_type": "stream",
     "text": [
      " 94%|█████████▍| 198/210 [33:18<01:39,  8.32s/it]"
     ]
    },
    {
     "name": "stdout",
     "output_type": "stream",
     "text": [
      "------------------------\n",
      "An error occurred (ModelError) when calling the InvokeEndpoint operation: Received client error (422) from primary with message \"{\"error\":\"Input validation error: `inputs` tokens + `max_new_tokens` must be <= 2048. Given: 1290 `inputs` tokens and 1000 `max_new_tokens`\",\"error_type\":\"validation\"}\". See https://eu-west-1.console.aws.amazon.com/cloudwatch/home?region=eu-west-1#logEventViewer:group=/aws/sagemaker/Endpoints/falcon-40b-instruct-48xl-5 in account 843197046435 for more information.\n",
      "------------------------\n",
      "Sleeping\n"
     ]
    },
    {
     "name": "stderr",
     "output_type": "stream",
     "text": [
      " 95%|█████████▌| 200/210 [33:26<01:06,  6.60s/it]"
     ]
    },
    {
     "name": "stdout",
     "output_type": "stream",
     "text": [
      "------------------------\n",
      "An error occurred (ModelError) when calling the InvokeEndpoint operation: Received client error (422) from primary with message \"{\"error\":\"Input validation error: `inputs` tokens + `max_new_tokens` must be <= 2048. Given: 1084 `inputs` tokens and 1000 `max_new_tokens`\",\"error_type\":\"validation\"}\". See https://eu-west-1.console.aws.amazon.com/cloudwatch/home?region=eu-west-1#logEventViewer:group=/aws/sagemaker/Endpoints/falcon-40b-instruct-48xl-5 in account 843197046435 for more information.\n",
      "------------------------\n",
      "Sleeping\n"
     ]
    },
    {
     "name": "stderr",
     "output_type": "stream",
     "text": [
      " 96%|█████████▌| 202/210 [33:46<01:11,  8.90s/it]"
     ]
    },
    {
     "name": "stdout",
     "output_type": "stream",
     "text": [
      "------------------------\n",
      "An error occurred (ModelError) when calling the InvokeEndpoint operation: Received client error (422) from primary with message \"{\"error\":\"Input validation error: `inputs` tokens + `max_new_tokens` must be <= 2048. Given: 1268 `inputs` tokens and 1000 `max_new_tokens`\",\"error_type\":\"validation\"}\". See https://eu-west-1.console.aws.amazon.com/cloudwatch/home?region=eu-west-1#logEventViewer:group=/aws/sagemaker/Endpoints/falcon-40b-instruct-48xl-5 in account 843197046435 for more information.\n",
      "------------------------\n",
      "Sleeping\n"
     ]
    },
    {
     "name": "stderr",
     "output_type": "stream",
     "text": [
      " 97%|█████████▋| 203/210 [33:47<00:45,  6.53s/it]"
     ]
    },
    {
     "name": "stdout",
     "output_type": "stream",
     "text": [
      "------------------------\n",
      "An error occurred (ModelError) when calling the InvokeEndpoint operation: Received client error (422) from primary with message \"{\"error\":\"Input validation error: `inputs` tokens + `max_new_tokens` must be <= 2048. Given: 1747 `inputs` tokens and 1000 `max_new_tokens`\",\"error_type\":\"validation\"}\". See https://eu-west-1.console.aws.amazon.com/cloudwatch/home?region=eu-west-1#logEventViewer:group=/aws/sagemaker/Endpoints/falcon-40b-instruct-48xl-5 in account 843197046435 for more information.\n",
      "------------------------\n",
      "Sleeping\n"
     ]
    },
    {
     "name": "stderr",
     "output_type": "stream",
     "text": [
      "100%|██████████| 210/210 [35:07<00:00, 10.04s/it]"
     ]
    },
    {
     "name": "stdout",
     "output_type": "stream",
     "text": [
      "210\n"
     ]
    },
    {
     "name": "stderr",
     "output_type": "stream",
     "text": [
      "\n"
     ]
    }
   ],
   "source": [
    "import time\n",
    "from json import JSONDecodeError\n",
    "import tqdm\n",
    "import json\n",
    "\n",
    "for i in tqdm.tqdm(range(df.shape[0])):\n",
    "    current_res = df[\"qa_pairs\"].values[i]\n",
    "    if current_res is None or len(current_res) == 0:\n",
    "        row = df.iloc[i]\n",
    "        paragraph = row[dataset_key_to_generate_qa_for]\n",
    "\n",
    "        try:\n",
    "            qa_pairs = run_llm(paragraph)\n",
    "            list_pairs = json.loads(qa_pairs)\n",
    "            df[\"qa_pairs\"].values[i] = list_pairs\n",
    "            # time.sleep(12)\n",
    "            time.sleep(1)\n",
    "        except Exception as e:\n",
    "            # print(\"------------------------\")\n",
    "            # print(qa_pairs)\n",
    "            print(\"------------------------\")\n",
    "            print(e)\n",
    "            print(\"------------------------\")\n",
    "            print(\"Sleeping\")\n",
    "            # time.sleep(12)\n",
    "            time.sleep(1)\n",
    "            df[\"qa_pairs\"].values[i] = []\n",
    "    else:\n",
    "        print(f\"Skipping row: {str(i)}\")\n",
    "        continue\n",
    "\n",
    "\n",
    "print(len(df[\"qa_pairs\"]))"
   ]
  },
  {
   "cell_type": "code",
   "execution_count": 93,
   "id": "25116833",
   "metadata": {
    "collapsed": false,
    "jupyter": {
     "outputs_hidden": false
    },
    "tags": []
   },
   "outputs": [
    {
     "data": {
      "text/html": [
       "<div>\n",
       "<style scoped>\n",
       "    .dataframe tbody tr th:only-of-type {\n",
       "        vertical-align: middle;\n",
       "    }\n",
       "\n",
       "    .dataframe tbody tr th {\n",
       "        vertical-align: top;\n",
       "    }\n",
       "\n",
       "    .dataframe thead th {\n",
       "        text-align: right;\n",
       "    }\n",
       "</style>\n",
       "<table border=\"1\" class=\"dataframe\">\n",
       "  <thead>\n",
       "    <tr style=\"text-align: right;\">\n",
       "      <th></th>\n",
       "      <th>title</th>\n",
       "      <th>byline</th>\n",
       "      <th>dir</th>\n",
       "      <th>lang</th>\n",
       "      <th>content</th>\n",
       "      <th>textContent</th>\n",
       "      <th>length</th>\n",
       "      <th>excerpt</th>\n",
       "      <th>siteName</th>\n",
       "      <th>source</th>\n",
       "      <th>target_urls</th>\n",
       "      <th>link_text</th>\n",
       "      <th>qa_pairs</th>\n",
       "    </tr>\n",
       "  </thead>\n",
       "  <tbody>\n",
       "    <tr>\n",
       "      <th>0</th>\n",
       "      <td>Press releases from the Federal Administration</td>\n",
       "      <td>The Federal Council</td>\n",
       "      <td>None</td>\n",
       "      <td>en</td>\n",
       "      <td>&lt;div id=\"readability-page-1\" class=\"page\"&gt;&lt;div...</td>\n",
       "      <td>\\n\\t\\t\\t\\n\\t\\t\\t\\n\\t\\t\\t\\t\\t\\n\\t\\t\\t\\t\\t\\t11.0...</td>\n",
       "      <td>7660</td>\n",
       "      <td>Current information from the Federal Administr...</td>\n",
       "      <td>None</td>\n",
       "      <td>https://www.admin.ch/gov/en/start/documentatio...</td>\n",
       "      <td>[{'text': 'Homepage', 'url': 'https://www.admi...</td>\n",
       "      <td>root</td>\n",
       "      <td>[]</td>\n",
       "    </tr>\n",
       "    <tr>\n",
       "      <th>1</th>\n",
       "      <td>Press releases from the Federal Administration</td>\n",
       "      <td>The Federal Council</td>\n",
       "      <td>None</td>\n",
       "      <td>en</td>\n",
       "      <td>&lt;div id=\"readability-page-1\" class=\"page\"&gt;&lt;div...</td>\n",
       "      <td>\\n\\t\\t\\t\\n\\t\\t\\t\\n\\t\\t\\t\\n\\t\\t\\t\\t\\t\\n\\t\\t\\t\\t...</td>\n",
       "      <td>9030</td>\n",
       "      <td>Current information from the Federal Administr...</td>\n",
       "      <td>None</td>\n",
       "      <td>https://www.admin.ch/gov/en/start/documentatio...</td>\n",
       "      <td>[{'text': 'Homepage', 'url': 'https://www.admi...</td>\n",
       "      <td>root</td>\n",
       "      <td>[]</td>\n",
       "    </tr>\n",
       "    <tr>\n",
       "      <th>5</th>\n",
       "      <td>co-operate: model for climate-friendly constru...</td>\n",
       "      <td>The Federal Council</td>\n",
       "      <td>None</td>\n",
       "      <td>en</td>\n",
       "      <td>&lt;div id=\"readability-page-1\" class=\"page\"&gt;&lt;div...</td>\n",
       "      <td>\\n\\n    Federal Laboratory for Materials Testi...</td>\n",
       "      <td>5907</td>\n",
       "      <td>Current information from the Federal Administr...</td>\n",
       "      <td>None</td>\n",
       "      <td>https://www.admin.ch/gov/en/start/documentatio...</td>\n",
       "      <td>[{'text': 'Homepage', 'url': 'https://www.admi...</td>\n",
       "      <td>\\n\\t\\t\\t\\t\\t\\t\\tco-operate: model for climate-...</td>\n",
       "      <td>[]</td>\n",
       "    </tr>\n",
       "    <tr>\n",
       "      <th>15</th>\n",
       "      <td>On 25th anniversary of Rome Statute, Switzerla...</td>\n",
       "      <td>The Federal Council</td>\n",
       "      <td>None</td>\n",
       "      <td>en</td>\n",
       "      <td>&lt;div id=\"readability-page-1\" class=\"page\"&gt;&lt;div...</td>\n",
       "      <td>\\n\\n    \\n\\n\\n\\n\\t\\n\\n\\t\\n\\n\\t\\n\\t\\t\\n\\n\\t\\n\\t...</td>\n",
       "      <td>5504</td>\n",
       "      <td>Current information from the Federal Administr...</td>\n",
       "      <td>None</td>\n",
       "      <td>https://www.admin.ch/gov/en/start/documentatio...</td>\n",
       "      <td>[{'text': 'Homepage', 'url': 'https://www.admi...</td>\n",
       "      <td>\\n\\t\\t\\t\\t\\t\\t\\tOn 25th anniversary of Rome St...</td>\n",
       "      <td>[]</td>\n",
       "    </tr>\n",
       "    <tr>\n",
       "      <th>16</th>\n",
       "      <td>Earlier detection of breast cancer</td>\n",
       "      <td>The Federal Council</td>\n",
       "      <td>None</td>\n",
       "      <td>en</td>\n",
       "      <td>&lt;div id=\"readability-page-1\" class=\"page\"&gt;&lt;div...</td>\n",
       "      <td>\\n\\n    Paul Scherrer Institut\\n              ...</td>\n",
       "      <td>8514</td>\n",
       "      <td>Current information from the Federal Administr...</td>\n",
       "      <td>None</td>\n",
       "      <td>https://www.admin.ch/gov/en/start/documentatio...</td>\n",
       "      <td>[{'text': 'Homepage', 'url': 'https://www.admi...</td>\n",
       "      <td>\\n\\t\\t\\t\\t\\t\\t\\tEarlier detection of breast ca...</td>\n",
       "      <td>[]</td>\n",
       "    </tr>\n",
       "    <tr>\n",
       "      <th>18</th>\n",
       "      <td>New EU policy measures based on Empa research:...</td>\n",
       "      <td>The Federal Council</td>\n",
       "      <td>None</td>\n",
       "      <td>en</td>\n",
       "      <td>&lt;div id=\"readability-page-1\" class=\"page\"&gt;&lt;div...</td>\n",
       "      <td>\\n\\n    Federal Laboratory for Materials Testi...</td>\n",
       "      <td>6580</td>\n",
       "      <td>Current information from the Federal Administr...</td>\n",
       "      <td>None</td>\n",
       "      <td>https://www.admin.ch/gov/en/start/documentatio...</td>\n",
       "      <td>[{'text': 'Homepage', 'url': 'https://www.admi...</td>\n",
       "      <td>\\n\\t\\t\\t\\t\\t\\t\\tNew EU policy measures based o...</td>\n",
       "      <td>[]</td>\n",
       "    </tr>\n",
       "    <tr>\n",
       "      <th>22</th>\n",
       "      <td>Quantum technology: Masters of defects</td>\n",
       "      <td>The Federal Council</td>\n",
       "      <td>None</td>\n",
       "      <td>en</td>\n",
       "      <td>&lt;div id=\"readability-page-1\" class=\"page\"&gt;&lt;div...</td>\n",
       "      <td>\\n\\n    Federal Laboratory for Materials Testi...</td>\n",
       "      <td>8762</td>\n",
       "      <td>Current information from the Federal Administr...</td>\n",
       "      <td>None</td>\n",
       "      <td>https://www.admin.ch/gov/en/start/documentatio...</td>\n",
       "      <td>[{'text': 'Homepage', 'url': 'https://www.admi...</td>\n",
       "      <td>\\n\\t\\t\\t\\t\\t\\t\\tQuantum technology: Masters of...</td>\n",
       "      <td>[]</td>\n",
       "    </tr>\n",
       "    <tr>\n",
       "      <th>35</th>\n",
       "      <td>First report on cantonal measures relating to ...</td>\n",
       "      <td>The Federal Council</td>\n",
       "      <td>None</td>\n",
       "      <td>en</td>\n",
       "      <td>&lt;div id=\"readability-page-1\" class=\"page\"&gt;&lt;div...</td>\n",
       "      <td>\\n\\n    Federal Department of Finance\\n       ...</td>\n",
       "      <td>5268</td>\n",
       "      <td>Current information from the Federal Administr...</td>\n",
       "      <td>None</td>\n",
       "      <td>https://www.admin.ch/gov/en/start/documentatio...</td>\n",
       "      <td>[{'text': 'Homepage', 'url': 'https://www.admi...</td>\n",
       "      <td>\\n\\t\\t\\t\\t\\t\\t\\tFirst report on cantonal measu...</td>\n",
       "      <td>[]</td>\n",
       "    </tr>\n",
       "    <tr>\n",
       "      <th>36</th>\n",
       "      <td>Until the chemistry is just right</td>\n",
       "      <td>The Federal Council</td>\n",
       "      <td>None</td>\n",
       "      <td>en</td>\n",
       "      <td>&lt;div id=\"readability-page-1\" class=\"page\"&gt;&lt;div...</td>\n",
       "      <td>\\n\\n    Federal Laboratory for Materials Testi...</td>\n",
       "      <td>9186</td>\n",
       "      <td>Current information from the Federal Administr...</td>\n",
       "      <td>None</td>\n",
       "      <td>https://www.admin.ch/gov/en/start/documentatio...</td>\n",
       "      <td>[{'text': 'Homepage', 'url': 'https://www.admi...</td>\n",
       "      <td>\\n\\t\\t\\t\\t\\t\\t\\tUntil the chemistry is just right</td>\n",
       "      <td>[]</td>\n",
       "    </tr>\n",
       "    <tr>\n",
       "      <th>38</th>\n",
       "      <td>First recovery, then stagnation: The state of ...</td>\n",
       "      <td>The Federal Council</td>\n",
       "      <td>None</td>\n",
       "      <td>en</td>\n",
       "      <td>&lt;div id=\"readability-page-1\" class=\"page\"&gt;&lt;div...</td>\n",
       "      <td>\\n\\n    Eawag: Swiss Federal Institute of Aqua...</td>\n",
       "      <td>7649</td>\n",
       "      <td>Current information from the Federal Administr...</td>\n",
       "      <td>None</td>\n",
       "      <td>https://www.admin.ch/gov/en/start/documentatio...</td>\n",
       "      <td>[{'text': 'Homepage', 'url': 'https://www.admi...</td>\n",
       "      <td>\\n\\t\\t\\t\\t\\t\\t\\tFirst recovery, then stagnatio...</td>\n",
       "      <td>[]</td>\n",
       "    </tr>\n",
       "    <tr>\n",
       "      <th>43</th>\n",
       "      <td>Press releases from the Federal Administration</td>\n",
       "      <td>The Federal Council</td>\n",
       "      <td>None</td>\n",
       "      <td>en</td>\n",
       "      <td>&lt;div id=\"readability-page-1\" class=\"page\"&gt;&lt;div...</td>\n",
       "      <td>\\n\\t\\t\\t\\n\\t\\t\\t\\n\\t\\t\\t\\t\\t\\n\\t\\t\\t\\t\\t\\t11.0...</td>\n",
       "      <td>8064</td>\n",
       "      <td>Current information from the Federal Administr...</td>\n",
       "      <td>None</td>\n",
       "      <td>https://www.admin.ch/gov/en/start/documentatio...</td>\n",
       "      <td>[{'text': 'Homepage', 'url': 'https://www.admi...</td>\n",
       "      <td>root</td>\n",
       "      <td>[]</td>\n",
       "    </tr>\n",
       "    <tr>\n",
       "      <th>44</th>\n",
       "      <td>Press releases from the Federal Administration</td>\n",
       "      <td>The Federal Council</td>\n",
       "      <td>None</td>\n",
       "      <td>en</td>\n",
       "      <td>&lt;div id=\"readability-page-1\" class=\"page\"&gt;&lt;div...</td>\n",
       "      <td>\\n\\t\\t\\t\\n\\t\\t\\t\\n\\t\\t\\t\\n\\t\\t\\t\\t\\t\\n\\t\\t\\t\\t...</td>\n",
       "      <td>10186</td>\n",
       "      <td>Current information from the Federal Administr...</td>\n",
       "      <td>None</td>\n",
       "      <td>https://www.admin.ch/gov/en/start/documentatio...</td>\n",
       "      <td>[{'text': 'Homepage', 'url': 'https://www.admi...</td>\n",
       "      <td>root</td>\n",
       "      <td>[]</td>\n",
       "    </tr>\n",
       "    <tr>\n",
       "      <th>45</th>\n",
       "      <td>Fighting tumours down to the last cancer cell</td>\n",
       "      <td>The Federal Council</td>\n",
       "      <td>None</td>\n",
       "      <td>en</td>\n",
       "      <td>&lt;div id=\"readability-page-1\" class=\"page\"&gt;&lt;div...</td>\n",
       "      <td>\\n\\n    Paul Scherrer Institut\\n              ...</td>\n",
       "      <td>6280</td>\n",
       "      <td>Current information from the Federal Administr...</td>\n",
       "      <td>None</td>\n",
       "      <td>https://www.admin.ch/gov/en/start/documentatio...</td>\n",
       "      <td>[{'text': 'Homepage', 'url': 'https://www.admi...</td>\n",
       "      <td>\\n\\t\\t\\t\\t\\t\\t\\tFighting tumours down to the l...</td>\n",
       "      <td>[]</td>\n",
       "    </tr>\n",
       "    <tr>\n",
       "      <th>46</th>\n",
       "      <td>The electronic patient record is to become a c...</td>\n",
       "      <td>The Federal Council</td>\n",
       "      <td>None</td>\n",
       "      <td>en</td>\n",
       "      <td>&lt;div id=\"readability-page-1\" class=\"page\"&gt;&lt;div...</td>\n",
       "      <td>\\n\\n    The Federal Council\\n                \\...</td>\n",
       "      <td>5337</td>\n",
       "      <td>Current information from the Federal Administr...</td>\n",
       "      <td>None</td>\n",
       "      <td>https://www.admin.ch/gov/en/start/documentatio...</td>\n",
       "      <td>[{'text': 'Homepage', 'url': 'https://www.admi...</td>\n",
       "      <td>\\n\\t\\t\\t\\t\\t\\t\\tThe electronic patient record ...</td>\n",
       "      <td>[]</td>\n",
       "    </tr>\n",
       "    <tr>\n",
       "      <th>59</th>\n",
       "      <td>Federal Councillor Guy Parmelin on economic an...</td>\n",
       "      <td>The Federal Council</td>\n",
       "      <td>None</td>\n",
       "      <td>en</td>\n",
       "      <td>&lt;div id=\"readability-page-1\" class=\"page\"&gt;&lt;div...</td>\n",
       "      <td>\\n\\n    Federal Department of Economic Affairs...</td>\n",
       "      <td>6486</td>\n",
       "      <td>Current information from the Federal Administr...</td>\n",
       "      <td>None</td>\n",
       "      <td>https://www.admin.ch/gov/en/start/documentatio...</td>\n",
       "      <td>[{'text': 'Homepage', 'url': 'https://www.admi...</td>\n",
       "      <td>\\n\\t\\t\\t\\t\\t\\t\\tFederal Councillor Guy Parmeli...</td>\n",
       "      <td>[]</td>\n",
       "    </tr>\n",
       "    <tr>\n",
       "      <th>61</th>\n",
       "      <td>4000 scenarios for a climate turnaround</td>\n",
       "      <td>The Federal Council</td>\n",
       "      <td>None</td>\n",
       "      <td>en</td>\n",
       "      <td>&lt;div id=\"readability-page-1\" class=\"page\"&gt;&lt;div...</td>\n",
       "      <td>\\n\\n    Paul Scherrer Institut\\n              ...</td>\n",
       "      <td>6790</td>\n",
       "      <td>Current information from the Federal Administr...</td>\n",
       "      <td>None</td>\n",
       "      <td>https://www.admin.ch/gov/en/start/documentatio...</td>\n",
       "      <td>[{'text': 'Homepage', 'url': 'https://www.admi...</td>\n",
       "      <td>\\n\\t\\t\\t\\t\\t\\t\\t4000 scenarios for a climate t...</td>\n",
       "      <td>[]</td>\n",
       "    </tr>\n",
       "    <tr>\n",
       "      <th>66</th>\n",
       "      <td>Personenfreizügigkeit: Zuwanderung erweitert d...</td>\n",
       "      <td>The Federal Council</td>\n",
       "      <td>None</td>\n",
       "      <td>en</td>\n",
       "      <td>&lt;div id=\"readability-page-1\" class=\"page\"&gt;&lt;div...</td>\n",
       "      <td>\\n\\n    State Secretariat for Economic Affairs...</td>\n",
       "      <td>6953</td>\n",
       "      <td>Current information from the Federal Administr...</td>\n",
       "      <td>None</td>\n",
       "      <td>https://www.admin.ch/gov/en/start/documentatio...</td>\n",
       "      <td>[{'text': 'Homepage', 'url': 'https://www.admi...</td>\n",
       "      <td>\\n\\t\\t\\t\\t\\t\\t\\tPersonenfreizügigkeit: Zuwande...</td>\n",
       "      <td>[]</td>\n",
       "    </tr>\n",
       "    <tr>\n",
       "      <th>68</th>\n",
       "      <td>Human rights dialogue between Switzerland and ...</td>\n",
       "      <td>The Federal Council</td>\n",
       "      <td>None</td>\n",
       "      <td>en</td>\n",
       "      <td>&lt;div id=\"readability-page-1\" class=\"page\"&gt;&lt;div...</td>\n",
       "      <td>\\n\\n    Federal Department of Foreign Affairs\\...</td>\n",
       "      <td>5108</td>\n",
       "      <td>Current information from the Federal Administr...</td>\n",
       "      <td>None</td>\n",
       "      <td>https://www.admin.ch/gov/en/start/documentatio...</td>\n",
       "      <td>[{'text': 'Homepage', 'url': 'https://www.admi...</td>\n",
       "      <td>\\n\\t\\t\\t\\t\\t\\t\\tHuman rights dialogue between ...</td>\n",
       "      <td>[]</td>\n",
       "    </tr>\n",
       "    <tr>\n",
       "      <th>73</th>\n",
       "      <td>Climate-neutral air travel: Is it possible?</td>\n",
       "      <td>The Federal Council</td>\n",
       "      <td>None</td>\n",
       "      <td>en</td>\n",
       "      <td>&lt;div id=\"readability-page-1\" class=\"page\"&gt;&lt;div...</td>\n",
       "      <td>\\n\\n    Paul Scherrer Institut\\n              ...</td>\n",
       "      <td>11931</td>\n",
       "      <td>Current information from the Federal Administr...</td>\n",
       "      <td>None</td>\n",
       "      <td>https://www.admin.ch/gov/en/start/documentatio...</td>\n",
       "      <td>[{'text': 'Homepage', 'url': 'https://www.admi...</td>\n",
       "      <td>\\n\\t\\t\\t\\t\\t\\t\\tClimate-neutral air travel: Is...</td>\n",
       "      <td>[]</td>\n",
       "    </tr>\n",
       "    <tr>\n",
       "      <th>77</th>\n",
       "      <td>Kazakhstan and Uzbekistan meetings focus on ge...</td>\n",
       "      <td>The Federal Council</td>\n",
       "      <td>None</td>\n",
       "      <td>en</td>\n",
       "      <td>&lt;div id=\"readability-page-1\" class=\"page\"&gt;&lt;div...</td>\n",
       "      <td>\\n\\n    \\n\\n\\n\\n\\t\\n\\n\\t\\n\\n\\t\\n\\t\\t\\n\\n\\t\\n\\t...</td>\n",
       "      <td>4677</td>\n",
       "      <td>Current information from the Federal Administr...</td>\n",
       "      <td>None</td>\n",
       "      <td>https://www.admin.ch/gov/en/start/documentatio...</td>\n",
       "      <td>[{'text': 'Homepage', 'url': 'https://www.admi...</td>\n",
       "      <td>\\n\\t\\t\\t\\t\\t\\t\\tKazakhstan and Uzbekistan meet...</td>\n",
       "      <td>[]</td>\n",
       "    </tr>\n",
       "    <tr>\n",
       "      <th>82</th>\n",
       "      <td>Mystery of microgels solved</td>\n",
       "      <td>The Federal Council</td>\n",
       "      <td>None</td>\n",
       "      <td>en</td>\n",
       "      <td>&lt;div id=\"readability-page-1\" class=\"page\"&gt;&lt;div...</td>\n",
       "      <td>\\n\\n    Paul Scherrer Institut\\n              ...</td>\n",
       "      <td>6768</td>\n",
       "      <td>Current information from the Federal Administr...</td>\n",
       "      <td>None</td>\n",
       "      <td>https://www.admin.ch/gov/en/start/documentatio...</td>\n",
       "      <td>[{'text': 'Homepage', 'url': 'https://www.admi...</td>\n",
       "      <td>\\n\\t\\t\\t\\t\\t\\t\\tMystery of microgels solved</td>\n",
       "      <td>[]</td>\n",
       "    </tr>\n",
       "    <tr>\n",
       "      <th>84</th>\n",
       "      <td>Global regulations disregarded: Widespread ill...</td>\n",
       "      <td>The Federal Council</td>\n",
       "      <td>None</td>\n",
       "      <td>en</td>\n",
       "      <td>&lt;div id=\"readability-page-1\" class=\"page\"&gt;&lt;div...</td>\n",
       "      <td>\\n\\n    Federal Laboratory for Materials Testi...</td>\n",
       "      <td>7167</td>\n",
       "      <td>Current information from the Federal Administr...</td>\n",
       "      <td>None</td>\n",
       "      <td>https://www.admin.ch/gov/en/start/documentatio...</td>\n",
       "      <td>[{'text': 'Homepage', 'url': 'https://www.admi...</td>\n",
       "      <td>\\n\\t\\t\\t\\t\\t\\t\\tGlobal regulations disregarded...</td>\n",
       "      <td>[]</td>\n",
       "    </tr>\n",
       "    <tr>\n",
       "      <th>85</th>\n",
       "      <td>Press releases from the Federal Administration</td>\n",
       "      <td>The Federal Council</td>\n",
       "      <td>None</td>\n",
       "      <td>en</td>\n",
       "      <td>&lt;div id=\"readability-page-1\" class=\"page\"&gt;&lt;div...</td>\n",
       "      <td>\\n\\t\\t\\t\\n\\t\\t\\t\\n\\t\\t\\t\\t\\t\\n\\t\\t\\t\\t\\t\\t28.0...</td>\n",
       "      <td>8111</td>\n",
       "      <td>Current information from the Federal Administr...</td>\n",
       "      <td>None</td>\n",
       "      <td>https://www.admin.ch/gov/en/start/documentatio...</td>\n",
       "      <td>[{'text': 'Homepage', 'url': 'https://www.admi...</td>\n",
       "      <td>root</td>\n",
       "      <td>[]</td>\n",
       "    </tr>\n",
       "    <tr>\n",
       "      <th>86</th>\n",
       "      <td>Press releases from the Federal Administration</td>\n",
       "      <td>The Federal Council</td>\n",
       "      <td>None</td>\n",
       "      <td>en</td>\n",
       "      <td>&lt;div id=\"readability-page-1\" class=\"page\"&gt;&lt;div...</td>\n",
       "      <td>\\n\\t\\t\\t\\n\\t\\t\\t\\n\\t\\t\\t\\t\\t\\n\\t\\t\\t\\t\\t\\t22.0...</td>\n",
       "      <td>10245</td>\n",
       "      <td>Current information from the Federal Administr...</td>\n",
       "      <td>None</td>\n",
       "      <td>https://www.admin.ch/gov/en/start/documentatio...</td>\n",
       "      <td>[{'text': 'Homepage', 'url': 'https://www.admi...</td>\n",
       "      <td>root</td>\n",
       "      <td>[]</td>\n",
       "    </tr>\n",
       "    <tr>\n",
       "      <th>93</th>\n",
       "      <td>From Lugano to London: Federal Councillor Igna...</td>\n",
       "      <td>The Federal Council</td>\n",
       "      <td>None</td>\n",
       "      <td>en</td>\n",
       "      <td>&lt;div id=\"readability-page-1\" class=\"page\"&gt;&lt;div...</td>\n",
       "      <td>\\n\\n    Federal Department of Foreign Affairs\\...</td>\n",
       "      <td>5013</td>\n",
       "      <td>Current information from the Federal Administr...</td>\n",
       "      <td>None</td>\n",
       "      <td>https://www.admin.ch/gov/en/start/documentatio...</td>\n",
       "      <td>[{'text': 'Homepage', 'url': 'https://www.admi...</td>\n",
       "      <td>\\n\\t\\t\\t\\t\\t\\t\\tFrom Lugano to London: Federal...</td>\n",
       "      <td>[]</td>\n",
       "    </tr>\n",
       "    <tr>\n",
       "      <th>98</th>\n",
       "      <td>International cooperation: FDFA and EAER launc...</td>\n",
       "      <td>The Federal Council</td>\n",
       "      <td>None</td>\n",
       "      <td>en</td>\n",
       "      <td>&lt;div id=\"readability-page-1\" class=\"page\"&gt;&lt;div...</td>\n",
       "      <td>\\n\\n    Federal Department of Foreign Affairs\\...</td>\n",
       "      <td>5121</td>\n",
       "      <td>Current information from the Federal Administr...</td>\n",
       "      <td>None</td>\n",
       "      <td>https://www.admin.ch/gov/en/start/documentatio...</td>\n",
       "      <td>[{'text': 'Homepage', 'url': 'https://www.admi...</td>\n",
       "      <td>\\n\\t\\t\\t\\t\\t\\t\\tInternational cooperation: FDF...</td>\n",
       "      <td>[]</td>\n",
       "    </tr>\n",
       "    <tr>\n",
       "      <th>101</th>\n",
       "      <td>Federal Council approves parameters for EU neg...</td>\n",
       "      <td>The Federal Council</td>\n",
       "      <td>None</td>\n",
       "      <td>en</td>\n",
       "      <td>&lt;div id=\"readability-page-1\" class=\"page\"&gt;&lt;div...</td>\n",
       "      <td>\\n\\n    The Federal Council\\n                \\...</td>\n",
       "      <td>6002</td>\n",
       "      <td>Current information from the Federal Administr...</td>\n",
       "      <td>None</td>\n",
       "      <td>https://www.admin.ch/gov/en/start/documentatio...</td>\n",
       "      <td>[{'text': 'Homepage', 'url': 'https://www.admi...</td>\n",
       "      <td>\\n\\t\\t\\t\\t\\t\\t\\tFederal Council approves param...</td>\n",
       "      <td>[]</td>\n",
       "    </tr>\n",
       "    <tr>\n",
       "      <th>103</th>\n",
       "      <td>Latest special coin to be issued: silver and g...</td>\n",
       "      <td>The Federal Council</td>\n",
       "      <td>None</td>\n",
       "      <td>en</td>\n",
       "      <td>&lt;div id=\"readability-page-1\" class=\"page\"&gt;&lt;div...</td>\n",
       "      <td>\\n\\n    Federal Mint Swissmint\\n              ...</td>\n",
       "      <td>4863</td>\n",
       "      <td>Current information from the Federal Administr...</td>\n",
       "      <td>None</td>\n",
       "      <td>https://www.admin.ch/gov/en/start/documentatio...</td>\n",
       "      <td>[{'text': 'Homepage', 'url': 'https://www.admi...</td>\n",
       "      <td>\\n\\t\\t\\t\\t\\t\\t\\tLatest special coin to be issu...</td>\n",
       "      <td>[]</td>\n",
       "    </tr>\n",
       "    <tr>\n",
       "      <th>106</th>\n",
       "      <td>Swiss energy consumption down 3.9% in 2022</td>\n",
       "      <td>The Federal Council</td>\n",
       "      <td>None</td>\n",
       "      <td>en</td>\n",
       "      <td>&lt;div id=\"readability-page-1\" class=\"page\"&gt;&lt;div...</td>\n",
       "      <td>\\n\\n    Swiss Federal Office of Energy\\n      ...</td>\n",
       "      <td>4660</td>\n",
       "      <td>Current information from the Federal Administr...</td>\n",
       "      <td>None</td>\n",
       "      <td>https://www.admin.ch/gov/en/start/documentatio...</td>\n",
       "      <td>[{'text': 'Homepage', 'url': 'https://www.admi...</td>\n",
       "      <td>\\n\\t\\t\\t\\t\\t\\t\\tSwiss energy consumption down ...</td>\n",
       "      <td>[]</td>\n",
       "    </tr>\n",
       "    <tr>\n",
       "      <th>107</th>\n",
       "      <td>Ukraine Recovery Conference 2023: Federal Coun...</td>\n",
       "      <td>The Federal Council</td>\n",
       "      <td>None</td>\n",
       "      <td>en</td>\n",
       "      <td>&lt;div id=\"readability-page-1\" class=\"page\"&gt;&lt;div...</td>\n",
       "      <td>\\n\\n    Federal Department of Foreign Affairs\\...</td>\n",
       "      <td>6409</td>\n",
       "      <td>Current information from the Federal Administr...</td>\n",
       "      <td>None</td>\n",
       "      <td>https://www.admin.ch/gov/en/start/documentatio...</td>\n",
       "      <td>[{'text': 'Homepage', 'url': 'https://www.admi...</td>\n",
       "      <td>\\n\\t\\t\\t\\t\\t\\t\\tUkraine Recovery Conference 20...</td>\n",
       "      <td>[]</td>\n",
       "    </tr>\n",
       "    <tr>\n",
       "      <th>113</th>\n",
       "      <td>Heat resistant drone for fire fighting: FireDr...</td>\n",
       "      <td>The Federal Council</td>\n",
       "      <td>None</td>\n",
       "      <td>en</td>\n",
       "      <td>&lt;div id=\"readability-page-1\" class=\"page\"&gt;&lt;div...</td>\n",
       "      <td>\\n\\n    Federal Laboratory for Materials Testi...</td>\n",
       "      <td>7375</td>\n",
       "      <td>Current information from the Federal Administr...</td>\n",
       "      <td>None</td>\n",
       "      <td>https://www.admin.ch/gov/en/start/documentatio...</td>\n",
       "      <td>[{'text': 'Homepage', 'url': 'https://www.admi...</td>\n",
       "      <td>\\n\\t\\t\\t\\t\\t\\t\\tHeat resistant drone for fire ...</td>\n",
       "      <td>[]</td>\n",
       "    </tr>\n",
       "    <tr>\n",
       "      <th>114</th>\n",
       "      <td>The Federal Intelligence Service publishes its...</td>\n",
       "      <td>The Federal Council</td>\n",
       "      <td>None</td>\n",
       "      <td>en</td>\n",
       "      <td>&lt;div id=\"readability-page-1\" class=\"page\"&gt;&lt;div...</td>\n",
       "      <td>\\n                \\n\\n\\n\\n\\n\\t\\n\\n\\n\\n\\n\\n\\n\\t...</td>\n",
       "      <td>5663</td>\n",
       "      <td>Current information from the Federal Administr...</td>\n",
       "      <td>None</td>\n",
       "      <td>https://www.admin.ch/gov/en/start/documentatio...</td>\n",
       "      <td>[{'text': 'Homepage', 'url': 'https://www.admi...</td>\n",
       "      <td>\\n\\t\\t\\t\\t\\t\\t\\t« Switzerland's Security 2023 ...</td>\n",
       "      <td>[]</td>\n",
       "    </tr>\n",
       "    <tr>\n",
       "      <th>115</th>\n",
       "      <td>30th Annual Report 2022/2023: New law strength...</td>\n",
       "      <td>The Federal Council</td>\n",
       "      <td>None</td>\n",
       "      <td>en</td>\n",
       "      <td>&lt;div id=\"readability-page-1\" class=\"page\"&gt;&lt;div...</td>\n",
       "      <td>\\n\\n    Federal Data Protection and Informatio...</td>\n",
       "      <td>6280</td>\n",
       "      <td>Current information from the Federal Administr...</td>\n",
       "      <td>None</td>\n",
       "      <td>https://www.admin.ch/gov/en/start/documentatio...</td>\n",
       "      <td>[{'text': 'Homepage', 'url': 'https://www.admi...</td>\n",
       "      <td>\\n\\t\\t\\t\\t\\t\\t\\t30th Annual Report 2022/2023: ...</td>\n",
       "      <td>[]</td>\n",
       "    </tr>\n",
       "    <tr>\n",
       "      <th>120</th>\n",
       "      <td>Circular economy in construction: Twelve big p...</td>\n",
       "      <td>The Federal Council</td>\n",
       "      <td>None</td>\n",
       "      <td>en</td>\n",
       "      <td>&lt;div id=\"readability-page-1\" class=\"page\"&gt;&lt;div...</td>\n",
       "      <td>\\n\\n    Federal Laboratory for Materials Testi...</td>\n",
       "      <td>7581</td>\n",
       "      <td>Current information from the Federal Administr...</td>\n",
       "      <td>None</td>\n",
       "      <td>https://www.admin.ch/gov/en/start/documentatio...</td>\n",
       "      <td>[{'text': 'Homepage', 'url': 'https://www.admi...</td>\n",
       "      <td>\\n\\t\\t\\t\\t\\t\\t\\tCircular economy in constructi...</td>\n",
       "      <td>[]</td>\n",
       "    </tr>\n",
       "    <tr>\n",
       "      <th>126</th>\n",
       "      <td>Press releases from the Federal Administration</td>\n",
       "      <td>The Federal Council</td>\n",
       "      <td>None</td>\n",
       "      <td>en</td>\n",
       "      <td>&lt;div id=\"readability-page-1\" class=\"page\"&gt;&lt;div...</td>\n",
       "      <td>\\n\\t\\t\\t\\n\\t\\t\\t\\n\\t\\t\\t\\n\\t\\t\\t\\n\\t\\t\\t\\n\\t\\t...</td>\n",
       "      <td>7240</td>\n",
       "      <td>Current information from the Federal Administr...</td>\n",
       "      <td>None</td>\n",
       "      <td>https://www.admin.ch/gov/en/start/documentatio...</td>\n",
       "      <td>[{'text': 'Homepage', 'url': 'https://www.admi...</td>\n",
       "      <td>root</td>\n",
       "      <td>[]</td>\n",
       "    </tr>\n",
       "    <tr>\n",
       "      <th>127</th>\n",
       "      <td>Press releases from the Federal Administration</td>\n",
       "      <td>The Federal Council</td>\n",
       "      <td>None</td>\n",
       "      <td>en</td>\n",
       "      <td>&lt;div id=\"readability-page-1\" class=\"page\"&gt;&lt;div...</td>\n",
       "      <td>\\n\\t\\t\\t\\n\\t\\t\\t\\n\\t\\t\\t\\t\\t\\n\\t\\t\\t\\t\\t\\t08.0...</td>\n",
       "      <td>9215</td>\n",
       "      <td>Current information from the Federal Administr...</td>\n",
       "      <td>None</td>\n",
       "      <td>https://www.admin.ch/gov/en/start/documentatio...</td>\n",
       "      <td>[{'text': 'Homepage', 'url': 'https://www.admi...</td>\n",
       "      <td>root</td>\n",
       "      <td>[]</td>\n",
       "    </tr>\n",
       "    <tr>\n",
       "      <th>129</th>\n",
       "      <td>Antibiotics crisis: nanoparticles as therapy g...</td>\n",
       "      <td>The Federal Council</td>\n",
       "      <td>None</td>\n",
       "      <td>en</td>\n",
       "      <td>&lt;div id=\"readability-page-1\" class=\"page\"&gt;&lt;div...</td>\n",
       "      <td>\\n\\n    Federal Laboratory for Materials Testi...</td>\n",
       "      <td>5203</td>\n",
       "      <td>Current information from the Federal Administr...</td>\n",
       "      <td>None</td>\n",
       "      <td>https://www.admin.ch/gov/en/start/documentatio...</td>\n",
       "      <td>[{'text': 'Homepage', 'url': 'https://www.admi...</td>\n",
       "      <td>\\n\\t\\t\\t\\t\\t\\t\\tAntibiotics crisis: nanopartic...</td>\n",
       "      <td>[]</td>\n",
       "    </tr>\n",
       "    <tr>\n",
       "      <th>133</th>\n",
       "      <td></td>\n",
       "      <td>The Federal Council</td>\n",
       "      <td>None</td>\n",
       "      <td>en</td>\n",
       "      <td>&lt;div id=\"readability-page-1\" class=\"page\"&gt;&lt;div...</td>\n",
       "      <td>\\n\\n\\t\\t\\n\\t\\t\\tMain Navigation\\n\\t\\t\\n\\n\\t\\t\\...</td>\n",
       "      <td>14688</td>\n",
       "      <td>Current information from the Federal Administr...</td>\n",
       "      <td>None</td>\n",
       "      <td>https://www.admin.ch/gov/en/start/documentatio...</td>\n",
       "      <td>[{'text': 'Homepage', 'url': 'https://www.admi...</td>\n",
       "      <td>\\n\\t\\t\\t\\t\\t\\t\\tFederal Council adopts maritim...</td>\n",
       "      <td>[]</td>\n",
       "    </tr>\n",
       "    <tr>\n",
       "      <th>138</th>\n",
       "      <td>Group of experts on banking stability now unde...</td>\n",
       "      <td>The Federal Council</td>\n",
       "      <td>None</td>\n",
       "      <td>en</td>\n",
       "      <td>&lt;div id=\"readability-page-1\" class=\"page\"&gt;&lt;div...</td>\n",
       "      <td>\\n\\n    Federal Department of Finance\\n       ...</td>\n",
       "      <td>5256</td>\n",
       "      <td>Current information from the Federal Administr...</td>\n",
       "      <td>None</td>\n",
       "      <td>https://www.admin.ch/gov/en/start/documentatio...</td>\n",
       "      <td>[{'text': 'Homepage', 'url': 'https://www.admi...</td>\n",
       "      <td>\\n\\t\\t\\t\\t\\t\\t\\tGroup of experts on banking st...</td>\n",
       "      <td>[]</td>\n",
       "    </tr>\n",
       "    <tr>\n",
       "      <th>143</th>\n",
       "      <td>Flankierende Massnahmen und Bekämpfung der Sch...</td>\n",
       "      <td>The Federal Council</td>\n",
       "      <td>None</td>\n",
       "      <td>en</td>\n",
       "      <td>&lt;div id=\"readability-page-1\" class=\"page\"&gt;&lt;div...</td>\n",
       "      <td>\\n\\n    State Secretariat for Economic Affairs...</td>\n",
       "      <td>5314</td>\n",
       "      <td>Current information from the Federal Administr...</td>\n",
       "      <td>None</td>\n",
       "      <td>https://www.admin.ch/gov/en/start/documentatio...</td>\n",
       "      <td>[{'text': 'Homepage', 'url': 'https://www.admi...</td>\n",
       "      <td>\\n\\t\\t\\t\\t\\t\\t\\tFlankierende Massnahmen und Be...</td>\n",
       "      <td>[]</td>\n",
       "    </tr>\n",
       "    <tr>\n",
       "      <th>151</th>\n",
       "      <td>Confederation and UBS sign loss protection agr...</td>\n",
       "      <td>The Federal Council</td>\n",
       "      <td>None</td>\n",
       "      <td>en</td>\n",
       "      <td>&lt;div id=\"readability-page-1\" class=\"page\"&gt;&lt;div...</td>\n",
       "      <td>\\n\\n    The Federal Council\\n                \\...</td>\n",
       "      <td>6239</td>\n",
       "      <td>Current information from the Federal Administr...</td>\n",
       "      <td>None</td>\n",
       "      <td>https://www.admin.ch/gov/en/start/documentatio...</td>\n",
       "      <td>[{'text': 'Homepage', 'url': 'https://www.admi...</td>\n",
       "      <td>\\n\\t\\t\\t\\t\\t\\t\\tConfederation and UBS sign los...</td>\n",
       "      <td>[]</td>\n",
       "    </tr>\n",
       "    <tr>\n",
       "      <th>152</th>\n",
       "      <td>Country-scale calculation: How much microplast...</td>\n",
       "      <td>The Federal Council</td>\n",
       "      <td>None</td>\n",
       "      <td>en</td>\n",
       "      <td>&lt;div id=\"readability-page-1\" class=\"page\"&gt;&lt;div...</td>\n",
       "      <td>\\n\\n    Federal Laboratory for Materials Testi...</td>\n",
       "      <td>4837</td>\n",
       "      <td>Current information from the Federal Administr...</td>\n",
       "      <td>None</td>\n",
       "      <td>https://www.admin.ch/gov/en/start/documentatio...</td>\n",
       "      <td>[{'text': 'Homepage', 'url': 'https://www.admi...</td>\n",
       "      <td>\\n\\t\\t\\t\\t\\t\\t\\tCountry-scale calculation: How...</td>\n",
       "      <td>[]</td>\n",
       "    </tr>\n",
       "    <tr>\n",
       "      <th>163</th>\n",
       "      <td>A patch with sensor function: A spy in the belly</td>\n",
       "      <td>The Federal Council</td>\n",
       "      <td>None</td>\n",
       "      <td>en</td>\n",
       "      <td>&lt;div id=\"readability-page-1\" class=\"page\"&gt;&lt;div...</td>\n",
       "      <td>\\n\\n    Federal Laboratory for Materials Testi...</td>\n",
       "      <td>6947</td>\n",
       "      <td>Current information from the Federal Administr...</td>\n",
       "      <td>None</td>\n",
       "      <td>https://www.admin.ch/gov/en/start/documentatio...</td>\n",
       "      <td>[{'text': 'Homepage', 'url': 'https://www.admi...</td>\n",
       "      <td>\\n\\t\\t\\t\\t\\t\\t\\tA patch with sensor function: ...</td>\n",
       "      <td>[]</td>\n",
       "    </tr>\n",
       "    <tr>\n",
       "      <th>168</th>\n",
       "      <td>Press releases from the Federal Administration</td>\n",
       "      <td>The Federal Council</td>\n",
       "      <td>None</td>\n",
       "      <td>en</td>\n",
       "      <td>&lt;div id=\"readability-page-1\" class=\"page\"&gt;&lt;div...</td>\n",
       "      <td>\\n\\t\\t\\t\\n\\t\\t\\t\\n\\t\\t\\t\\n\\t\\t\\t\\t\\t\\n\\t\\t\\t\\t...</td>\n",
       "      <td>9508</td>\n",
       "      <td>Current information from the Federal Administr...</td>\n",
       "      <td>None</td>\n",
       "      <td>https://www.admin.ch/gov/en/start/documentatio...</td>\n",
       "      <td>[{'text': 'Homepage', 'url': 'https://www.admi...</td>\n",
       "      <td>root</td>\n",
       "      <td>[]</td>\n",
       "    </tr>\n",
       "    <tr>\n",
       "      <th>169</th>\n",
       "      <td>Press releases from the Federal Administration</td>\n",
       "      <td>The Federal Council</td>\n",
       "      <td>None</td>\n",
       "      <td>en</td>\n",
       "      <td>&lt;div id=\"readability-page-1\" class=\"page\"&gt;&lt;div...</td>\n",
       "      <td>\\n\\t\\t\\t\\n\\t\\t\\t\\n\\t\\t\\t\\t\\t\\n\\t\\t\\t\\t\\t\\t24.0...</td>\n",
       "      <td>8182</td>\n",
       "      <td>Current information from the Federal Administr...</td>\n",
       "      <td>None</td>\n",
       "      <td>https://www.admin.ch/gov/en/start/documentatio...</td>\n",
       "      <td>[{'text': 'Homepage', 'url': 'https://www.admi...</td>\n",
       "      <td>root</td>\n",
       "      <td>[]</td>\n",
       "    </tr>\n",
       "    <tr>\n",
       "      <th>183</th>\n",
       "      <td>An aviary for drone research</td>\n",
       "      <td>The Federal Council</td>\n",
       "      <td>None</td>\n",
       "      <td>en</td>\n",
       "      <td>&lt;div id=\"readability-page-1\" class=\"page\"&gt;&lt;div...</td>\n",
       "      <td>\\n\\n    Federal Laboratory for Materials Testi...</td>\n",
       "      <td>7069</td>\n",
       "      <td>Current information from the Federal Administr...</td>\n",
       "      <td>None</td>\n",
       "      <td>https://www.admin.ch/gov/en/start/documentatio...</td>\n",
       "      <td>[{'text': 'Homepage', 'url': 'https://www.admi...</td>\n",
       "      <td>\\n\\t\\t\\t\\t\\t\\t\\tAn aviary for drone research</td>\n",
       "      <td>[]</td>\n",
       "    </tr>\n",
       "    <tr>\n",
       "      <th>195</th>\n",
       "      <td>Budget cuts and lack of compensation for infla...</td>\n",
       "      <td>The Federal Council</td>\n",
       "      <td>None</td>\n",
       "      <td>en</td>\n",
       "      <td>&lt;div id=\"readability-page-1\" class=\"page\"&gt;&lt;div...</td>\n",
       "      <td>\\n\\n    Board of the Swiss Federal Institutes ...</td>\n",
       "      <td>5660</td>\n",
       "      <td>Current information from the Federal Administr...</td>\n",
       "      <td>None</td>\n",
       "      <td>https://www.admin.ch/gov/en/start/documentatio...</td>\n",
       "      <td>[{'text': 'Homepage', 'url': 'https://www.admi...</td>\n",
       "      <td>\\n\\t\\t\\t\\t\\t\\t\\tBudget cuts and lack of compen...</td>\n",
       "      <td>[]</td>\n",
       "    </tr>\n",
       "    <tr>\n",
       "      <th>197</th>\n",
       "      <td>19 new professors appointed at ETH Zurich and ...</td>\n",
       "      <td>The Federal Council</td>\n",
       "      <td>None</td>\n",
       "      <td>en</td>\n",
       "      <td>&lt;div id=\"readability-page-1\" class=\"page\"&gt;&lt;div...</td>\n",
       "      <td>\\n\\n    Board of the Swiss Federal Institutes ...</td>\n",
       "      <td>27228</td>\n",
       "      <td>Current information from the Federal Administr...</td>\n",
       "      <td>None</td>\n",
       "      <td>https://www.admin.ch/gov/en/start/documentatio...</td>\n",
       "      <td>[{'text': 'Homepage', 'url': 'https://www.admi...</td>\n",
       "      <td>\\n\\t\\t\\t\\t\\t\\t\\t19 new professors appointed at...</td>\n",
       "      <td>[]</td>\n",
       "    </tr>\n",
       "    <tr>\n",
       "      <th>198</th>\n",
       "      <td>Stellenmeldepflicht: Stellenplattform «Job-Roo...</td>\n",
       "      <td>The Federal Council</td>\n",
       "      <td>None</td>\n",
       "      <td>en</td>\n",
       "      <td>&lt;div id=\"readability-page-1\" class=\"page\"&gt;&lt;div...</td>\n",
       "      <td>\\n\\n    State Secretariat for Economic Affairs...</td>\n",
       "      <td>4596</td>\n",
       "      <td>Current information from the Federal Administr...</td>\n",
       "      <td>None</td>\n",
       "      <td>https://www.admin.ch/gov/en/start/documentatio...</td>\n",
       "      <td>[{'text': 'Homepage', 'url': 'https://www.admi...</td>\n",
       "      <td>\\n\\t\\t\\t\\t\\t\\t\\tStellenmeldepflicht: Stellenpl...</td>\n",
       "      <td>[]</td>\n",
       "    </tr>\n",
       "    <tr>\n",
       "      <th>200</th>\n",
       "      <td>Latest special coin to be issued: silver coin ...</td>\n",
       "      <td>The Federal Council</td>\n",
       "      <td>None</td>\n",
       "      <td>en</td>\n",
       "      <td>&lt;div id=\"readability-page-1\" class=\"page\"&gt;&lt;div...</td>\n",
       "      <td>\\n\\n    Federal Mint Swissmint\\n              ...</td>\n",
       "      <td>4803</td>\n",
       "      <td>Current information from the Federal Administr...</td>\n",
       "      <td>None</td>\n",
       "      <td>https://www.admin.ch/gov/en/start/documentatio...</td>\n",
       "      <td>[{'text': 'Homepage', 'url': 'https://www.admi...</td>\n",
       "      <td>\\n\\t\\t\\t\\t\\t\\t\\tLatest special coin to be issu...</td>\n",
       "      <td>[]</td>\n",
       "    </tr>\n",
       "    <tr>\n",
       "      <th>202</th>\n",
       "      <td>Gross domestic product in the first quarter of...</td>\n",
       "      <td>The Federal Council</td>\n",
       "      <td>None</td>\n",
       "      <td>en</td>\n",
       "      <td>&lt;div id=\"readability-page-1\" class=\"page\"&gt;&lt;div...</td>\n",
       "      <td>\\n\\n    \\n\\n\\n\\n\\t\\n\\n\\t\\n\\n\\t\\n\\t\\t\\n\\n\\t\\n\\t...</td>\n",
       "      <td>5367</td>\n",
       "      <td>Current information from the Federal Administr...</td>\n",
       "      <td>None</td>\n",
       "      <td>https://www.admin.ch/gov/en/start/documentatio...</td>\n",
       "      <td>[{'text': 'Homepage', 'url': 'https://www.admi...</td>\n",
       "      <td>\\n\\t\\t\\t\\t\\t\\t\\tGross domestic product in the ...</td>\n",
       "      <td>[]</td>\n",
       "    </tr>\n",
       "    <tr>\n",
       "      <th>203</th>\n",
       "      <td>An algorithm for sharper protein films</td>\n",
       "      <td>The Federal Council</td>\n",
       "      <td>None</td>\n",
       "      <td>en</td>\n",
       "      <td>&lt;div id=\"readability-page-1\" class=\"page\"&gt;&lt;div...</td>\n",
       "      <td>\\n\\n    Paul Scherrer Institut\\n              ...</td>\n",
       "      <td>7584</td>\n",
       "      <td>Current information from the Federal Administr...</td>\n",
       "      <td>None</td>\n",
       "      <td>https://www.admin.ch/gov/en/start/documentatio...</td>\n",
       "      <td>[{'text': 'Homepage', 'url': 'https://www.admi...</td>\n",
       "      <td>\\n\\t\\t\\t\\t\\t\\t\\tAn algorithm for sharper prote...</td>\n",
       "      <td>[]</td>\n",
       "    </tr>\n",
       "  </tbody>\n",
       "</table>\n",
       "</div>"
      ],
      "text/plain": [
       "                                                 title               byline   \n",
       "0       Press releases from the Federal Administration  The Federal Council  \\\n",
       "1       Press releases from the Federal Administration  The Federal Council   \n",
       "5    co-operate: model for climate-friendly constru...  The Federal Council   \n",
       "15   On 25th anniversary of Rome Statute, Switzerla...  The Federal Council   \n",
       "16                  Earlier detection of breast cancer  The Federal Council   \n",
       "18   New EU policy measures based on Empa research:...  The Federal Council   \n",
       "22              Quantum technology: Masters of defects  The Federal Council   \n",
       "35   First report on cantonal measures relating to ...  The Federal Council   \n",
       "36                   Until the chemistry is just right  The Federal Council   \n",
       "38   First recovery, then stagnation: The state of ...  The Federal Council   \n",
       "43      Press releases from the Federal Administration  The Federal Council   \n",
       "44      Press releases from the Federal Administration  The Federal Council   \n",
       "45       Fighting tumours down to the last cancer cell  The Federal Council   \n",
       "46   The electronic patient record is to become a c...  The Federal Council   \n",
       "59   Federal Councillor Guy Parmelin on economic an...  The Federal Council   \n",
       "61             4000 scenarios for a climate turnaround  The Federal Council   \n",
       "66   Personenfreizügigkeit: Zuwanderung erweitert d...  The Federal Council   \n",
       "68   Human rights dialogue between Switzerland and ...  The Federal Council   \n",
       "73         Climate-neutral air travel: Is it possible?  The Federal Council   \n",
       "77   Kazakhstan and Uzbekistan meetings focus on ge...  The Federal Council   \n",
       "82                         Mystery of microgels solved  The Federal Council   \n",
       "84   Global regulations disregarded: Widespread ill...  The Federal Council   \n",
       "85      Press releases from the Federal Administration  The Federal Council   \n",
       "86      Press releases from the Federal Administration  The Federal Council   \n",
       "93   From Lugano to London: Federal Councillor Igna...  The Federal Council   \n",
       "98   International cooperation: FDFA and EAER launc...  The Federal Council   \n",
       "101  Federal Council approves parameters for EU neg...  The Federal Council   \n",
       "103  Latest special coin to be issued: silver and g...  The Federal Council   \n",
       "106         Swiss energy consumption down 3.9% in 2022  The Federal Council   \n",
       "107  Ukraine Recovery Conference 2023: Federal Coun...  The Federal Council   \n",
       "113  Heat resistant drone for fire fighting: FireDr...  The Federal Council   \n",
       "114  The Federal Intelligence Service publishes its...  The Federal Council   \n",
       "115  30th Annual Report 2022/2023: New law strength...  The Federal Council   \n",
       "120  Circular economy in construction: Twelve big p...  The Federal Council   \n",
       "126     Press releases from the Federal Administration  The Federal Council   \n",
       "127     Press releases from the Federal Administration  The Federal Council   \n",
       "129  Antibiotics crisis: nanoparticles as therapy g...  The Federal Council   \n",
       "133                                                     The Federal Council   \n",
       "138  Group of experts on banking stability now unde...  The Federal Council   \n",
       "143  Flankierende Massnahmen und Bekämpfung der Sch...  The Federal Council   \n",
       "151  Confederation and UBS sign loss protection agr...  The Federal Council   \n",
       "152  Country-scale calculation: How much microplast...  The Federal Council   \n",
       "163   A patch with sensor function: A spy in the belly  The Federal Council   \n",
       "168     Press releases from the Federal Administration  The Federal Council   \n",
       "169     Press releases from the Federal Administration  The Federal Council   \n",
       "183                       An aviary for drone research  The Federal Council   \n",
       "195  Budget cuts and lack of compensation for infla...  The Federal Council   \n",
       "197  19 new professors appointed at ETH Zurich and ...  The Federal Council   \n",
       "198  Stellenmeldepflicht: Stellenplattform «Job-Roo...  The Federal Council   \n",
       "200  Latest special coin to be issued: silver coin ...  The Federal Council   \n",
       "202  Gross domestic product in the first quarter of...  The Federal Council   \n",
       "203             An algorithm for sharper protein films  The Federal Council   \n",
       "\n",
       "      dir lang                                            content   \n",
       "0    None   en  <div id=\"readability-page-1\" class=\"page\"><div...  \\\n",
       "1    None   en  <div id=\"readability-page-1\" class=\"page\"><div...   \n",
       "5    None   en  <div id=\"readability-page-1\" class=\"page\"><div...   \n",
       "15   None   en  <div id=\"readability-page-1\" class=\"page\"><div...   \n",
       "16   None   en  <div id=\"readability-page-1\" class=\"page\"><div...   \n",
       "18   None   en  <div id=\"readability-page-1\" class=\"page\"><div...   \n",
       "22   None   en  <div id=\"readability-page-1\" class=\"page\"><div...   \n",
       "35   None   en  <div id=\"readability-page-1\" class=\"page\"><div...   \n",
       "36   None   en  <div id=\"readability-page-1\" class=\"page\"><div...   \n",
       "38   None   en  <div id=\"readability-page-1\" class=\"page\"><div...   \n",
       "43   None   en  <div id=\"readability-page-1\" class=\"page\"><div...   \n",
       "44   None   en  <div id=\"readability-page-1\" class=\"page\"><div...   \n",
       "45   None   en  <div id=\"readability-page-1\" class=\"page\"><div...   \n",
       "46   None   en  <div id=\"readability-page-1\" class=\"page\"><div...   \n",
       "59   None   en  <div id=\"readability-page-1\" class=\"page\"><div...   \n",
       "61   None   en  <div id=\"readability-page-1\" class=\"page\"><div...   \n",
       "66   None   en  <div id=\"readability-page-1\" class=\"page\"><div...   \n",
       "68   None   en  <div id=\"readability-page-1\" class=\"page\"><div...   \n",
       "73   None   en  <div id=\"readability-page-1\" class=\"page\"><div...   \n",
       "77   None   en  <div id=\"readability-page-1\" class=\"page\"><div...   \n",
       "82   None   en  <div id=\"readability-page-1\" class=\"page\"><div...   \n",
       "84   None   en  <div id=\"readability-page-1\" class=\"page\"><div...   \n",
       "85   None   en  <div id=\"readability-page-1\" class=\"page\"><div...   \n",
       "86   None   en  <div id=\"readability-page-1\" class=\"page\"><div...   \n",
       "93   None   en  <div id=\"readability-page-1\" class=\"page\"><div...   \n",
       "98   None   en  <div id=\"readability-page-1\" class=\"page\"><div...   \n",
       "101  None   en  <div id=\"readability-page-1\" class=\"page\"><div...   \n",
       "103  None   en  <div id=\"readability-page-1\" class=\"page\"><div...   \n",
       "106  None   en  <div id=\"readability-page-1\" class=\"page\"><div...   \n",
       "107  None   en  <div id=\"readability-page-1\" class=\"page\"><div...   \n",
       "113  None   en  <div id=\"readability-page-1\" class=\"page\"><div...   \n",
       "114  None   en  <div id=\"readability-page-1\" class=\"page\"><div...   \n",
       "115  None   en  <div id=\"readability-page-1\" class=\"page\"><div...   \n",
       "120  None   en  <div id=\"readability-page-1\" class=\"page\"><div...   \n",
       "126  None   en  <div id=\"readability-page-1\" class=\"page\"><div...   \n",
       "127  None   en  <div id=\"readability-page-1\" class=\"page\"><div...   \n",
       "129  None   en  <div id=\"readability-page-1\" class=\"page\"><div...   \n",
       "133  None   en  <div id=\"readability-page-1\" class=\"page\"><div...   \n",
       "138  None   en  <div id=\"readability-page-1\" class=\"page\"><div...   \n",
       "143  None   en  <div id=\"readability-page-1\" class=\"page\"><div...   \n",
       "151  None   en  <div id=\"readability-page-1\" class=\"page\"><div...   \n",
       "152  None   en  <div id=\"readability-page-1\" class=\"page\"><div...   \n",
       "163  None   en  <div id=\"readability-page-1\" class=\"page\"><div...   \n",
       "168  None   en  <div id=\"readability-page-1\" class=\"page\"><div...   \n",
       "169  None   en  <div id=\"readability-page-1\" class=\"page\"><div...   \n",
       "183  None   en  <div id=\"readability-page-1\" class=\"page\"><div...   \n",
       "195  None   en  <div id=\"readability-page-1\" class=\"page\"><div...   \n",
       "197  None   en  <div id=\"readability-page-1\" class=\"page\"><div...   \n",
       "198  None   en  <div id=\"readability-page-1\" class=\"page\"><div...   \n",
       "200  None   en  <div id=\"readability-page-1\" class=\"page\"><div...   \n",
       "202  None   en  <div id=\"readability-page-1\" class=\"page\"><div...   \n",
       "203  None   en  <div id=\"readability-page-1\" class=\"page\"><div...   \n",
       "\n",
       "                                           textContent  length   \n",
       "0    \\n\\t\\t\\t\\n\\t\\t\\t\\n\\t\\t\\t\\t\\t\\n\\t\\t\\t\\t\\t\\t11.0...    7660  \\\n",
       "1    \\n\\t\\t\\t\\n\\t\\t\\t\\n\\t\\t\\t\\n\\t\\t\\t\\t\\t\\n\\t\\t\\t\\t...    9030   \n",
       "5    \\n\\n    Federal Laboratory for Materials Testi...    5907   \n",
       "15   \\n\\n    \\n\\n\\n\\n\\t\\n\\n\\t\\n\\n\\t\\n\\t\\t\\n\\n\\t\\n\\t...    5504   \n",
       "16   \\n\\n    Paul Scherrer Institut\\n              ...    8514   \n",
       "18   \\n\\n    Federal Laboratory for Materials Testi...    6580   \n",
       "22   \\n\\n    Federal Laboratory for Materials Testi...    8762   \n",
       "35   \\n\\n    Federal Department of Finance\\n       ...    5268   \n",
       "36   \\n\\n    Federal Laboratory for Materials Testi...    9186   \n",
       "38   \\n\\n    Eawag: Swiss Federal Institute of Aqua...    7649   \n",
       "43   \\n\\t\\t\\t\\n\\t\\t\\t\\n\\t\\t\\t\\t\\t\\n\\t\\t\\t\\t\\t\\t11.0...    8064   \n",
       "44   \\n\\t\\t\\t\\n\\t\\t\\t\\n\\t\\t\\t\\n\\t\\t\\t\\t\\t\\n\\t\\t\\t\\t...   10186   \n",
       "45   \\n\\n    Paul Scherrer Institut\\n              ...    6280   \n",
       "46   \\n\\n    The Federal Council\\n                \\...    5337   \n",
       "59   \\n\\n    Federal Department of Economic Affairs...    6486   \n",
       "61   \\n\\n    Paul Scherrer Institut\\n              ...    6790   \n",
       "66   \\n\\n    State Secretariat for Economic Affairs...    6953   \n",
       "68   \\n\\n    Federal Department of Foreign Affairs\\...    5108   \n",
       "73   \\n\\n    Paul Scherrer Institut\\n              ...   11931   \n",
       "77   \\n\\n    \\n\\n\\n\\n\\t\\n\\n\\t\\n\\n\\t\\n\\t\\t\\n\\n\\t\\n\\t...    4677   \n",
       "82   \\n\\n    Paul Scherrer Institut\\n              ...    6768   \n",
       "84   \\n\\n    Federal Laboratory for Materials Testi...    7167   \n",
       "85   \\n\\t\\t\\t\\n\\t\\t\\t\\n\\t\\t\\t\\t\\t\\n\\t\\t\\t\\t\\t\\t28.0...    8111   \n",
       "86   \\n\\t\\t\\t\\n\\t\\t\\t\\n\\t\\t\\t\\t\\t\\n\\t\\t\\t\\t\\t\\t22.0...   10245   \n",
       "93   \\n\\n    Federal Department of Foreign Affairs\\...    5013   \n",
       "98   \\n\\n    Federal Department of Foreign Affairs\\...    5121   \n",
       "101  \\n\\n    The Federal Council\\n                \\...    6002   \n",
       "103  \\n\\n    Federal Mint Swissmint\\n              ...    4863   \n",
       "106  \\n\\n    Swiss Federal Office of Energy\\n      ...    4660   \n",
       "107  \\n\\n    Federal Department of Foreign Affairs\\...    6409   \n",
       "113  \\n\\n    Federal Laboratory for Materials Testi...    7375   \n",
       "114  \\n                \\n\\n\\n\\n\\n\\t\\n\\n\\n\\n\\n\\n\\n\\t...    5663   \n",
       "115  \\n\\n    Federal Data Protection and Informatio...    6280   \n",
       "120  \\n\\n    Federal Laboratory for Materials Testi...    7581   \n",
       "126  \\n\\t\\t\\t\\n\\t\\t\\t\\n\\t\\t\\t\\n\\t\\t\\t\\n\\t\\t\\t\\n\\t\\t...    7240   \n",
       "127  \\n\\t\\t\\t\\n\\t\\t\\t\\n\\t\\t\\t\\t\\t\\n\\t\\t\\t\\t\\t\\t08.0...    9215   \n",
       "129  \\n\\n    Federal Laboratory for Materials Testi...    5203   \n",
       "133  \\n\\n\\t\\t\\n\\t\\t\\tMain Navigation\\n\\t\\t\\n\\n\\t\\t\\...   14688   \n",
       "138  \\n\\n    Federal Department of Finance\\n       ...    5256   \n",
       "143  \\n\\n    State Secretariat for Economic Affairs...    5314   \n",
       "151  \\n\\n    The Federal Council\\n                \\...    6239   \n",
       "152  \\n\\n    Federal Laboratory for Materials Testi...    4837   \n",
       "163  \\n\\n    Federal Laboratory for Materials Testi...    6947   \n",
       "168  \\n\\t\\t\\t\\n\\t\\t\\t\\n\\t\\t\\t\\n\\t\\t\\t\\t\\t\\n\\t\\t\\t\\t...    9508   \n",
       "169  \\n\\t\\t\\t\\n\\t\\t\\t\\n\\t\\t\\t\\t\\t\\n\\t\\t\\t\\t\\t\\t24.0...    8182   \n",
       "183  \\n\\n    Federal Laboratory for Materials Testi...    7069   \n",
       "195  \\n\\n    Board of the Swiss Federal Institutes ...    5660   \n",
       "197  \\n\\n    Board of the Swiss Federal Institutes ...   27228   \n",
       "198  \\n\\n    State Secretariat for Economic Affairs...    4596   \n",
       "200  \\n\\n    Federal Mint Swissmint\\n              ...    4803   \n",
       "202  \\n\\n    \\n\\n\\n\\n\\t\\n\\n\\t\\n\\n\\t\\n\\t\\t\\n\\n\\t\\n\\t...    5367   \n",
       "203  \\n\\n    Paul Scherrer Institut\\n              ...    7584   \n",
       "\n",
       "                                               excerpt siteName   \n",
       "0    Current information from the Federal Administr...     None  \\\n",
       "1    Current information from the Federal Administr...     None   \n",
       "5    Current information from the Federal Administr...     None   \n",
       "15   Current information from the Federal Administr...     None   \n",
       "16   Current information from the Federal Administr...     None   \n",
       "18   Current information from the Federal Administr...     None   \n",
       "22   Current information from the Federal Administr...     None   \n",
       "35   Current information from the Federal Administr...     None   \n",
       "36   Current information from the Federal Administr...     None   \n",
       "38   Current information from the Federal Administr...     None   \n",
       "43   Current information from the Federal Administr...     None   \n",
       "44   Current information from the Federal Administr...     None   \n",
       "45   Current information from the Federal Administr...     None   \n",
       "46   Current information from the Federal Administr...     None   \n",
       "59   Current information from the Federal Administr...     None   \n",
       "61   Current information from the Federal Administr...     None   \n",
       "66   Current information from the Federal Administr...     None   \n",
       "68   Current information from the Federal Administr...     None   \n",
       "73   Current information from the Federal Administr...     None   \n",
       "77   Current information from the Federal Administr...     None   \n",
       "82   Current information from the Federal Administr...     None   \n",
       "84   Current information from the Federal Administr...     None   \n",
       "85   Current information from the Federal Administr...     None   \n",
       "86   Current information from the Federal Administr...     None   \n",
       "93   Current information from the Federal Administr...     None   \n",
       "98   Current information from the Federal Administr...     None   \n",
       "101  Current information from the Federal Administr...     None   \n",
       "103  Current information from the Federal Administr...     None   \n",
       "106  Current information from the Federal Administr...     None   \n",
       "107  Current information from the Federal Administr...     None   \n",
       "113  Current information from the Federal Administr...     None   \n",
       "114  Current information from the Federal Administr...     None   \n",
       "115  Current information from the Federal Administr...     None   \n",
       "120  Current information from the Federal Administr...     None   \n",
       "126  Current information from the Federal Administr...     None   \n",
       "127  Current information from the Federal Administr...     None   \n",
       "129  Current information from the Federal Administr...     None   \n",
       "133  Current information from the Federal Administr...     None   \n",
       "138  Current information from the Federal Administr...     None   \n",
       "143  Current information from the Federal Administr...     None   \n",
       "151  Current information from the Federal Administr...     None   \n",
       "152  Current information from the Federal Administr...     None   \n",
       "163  Current information from the Federal Administr...     None   \n",
       "168  Current information from the Federal Administr...     None   \n",
       "169  Current information from the Federal Administr...     None   \n",
       "183  Current information from the Federal Administr...     None   \n",
       "195  Current information from the Federal Administr...     None   \n",
       "197  Current information from the Federal Administr...     None   \n",
       "198  Current information from the Federal Administr...     None   \n",
       "200  Current information from the Federal Administr...     None   \n",
       "202  Current information from the Federal Administr...     None   \n",
       "203  Current information from the Federal Administr...     None   \n",
       "\n",
       "                                                source   \n",
       "0    https://www.admin.ch/gov/en/start/documentatio...  \\\n",
       "1    https://www.admin.ch/gov/en/start/documentatio...   \n",
       "5    https://www.admin.ch/gov/en/start/documentatio...   \n",
       "15   https://www.admin.ch/gov/en/start/documentatio...   \n",
       "16   https://www.admin.ch/gov/en/start/documentatio...   \n",
       "18   https://www.admin.ch/gov/en/start/documentatio...   \n",
       "22   https://www.admin.ch/gov/en/start/documentatio...   \n",
       "35   https://www.admin.ch/gov/en/start/documentatio...   \n",
       "36   https://www.admin.ch/gov/en/start/documentatio...   \n",
       "38   https://www.admin.ch/gov/en/start/documentatio...   \n",
       "43   https://www.admin.ch/gov/en/start/documentatio...   \n",
       "44   https://www.admin.ch/gov/en/start/documentatio...   \n",
       "45   https://www.admin.ch/gov/en/start/documentatio...   \n",
       "46   https://www.admin.ch/gov/en/start/documentatio...   \n",
       "59   https://www.admin.ch/gov/en/start/documentatio...   \n",
       "61   https://www.admin.ch/gov/en/start/documentatio...   \n",
       "66   https://www.admin.ch/gov/en/start/documentatio...   \n",
       "68   https://www.admin.ch/gov/en/start/documentatio...   \n",
       "73   https://www.admin.ch/gov/en/start/documentatio...   \n",
       "77   https://www.admin.ch/gov/en/start/documentatio...   \n",
       "82   https://www.admin.ch/gov/en/start/documentatio...   \n",
       "84   https://www.admin.ch/gov/en/start/documentatio...   \n",
       "85   https://www.admin.ch/gov/en/start/documentatio...   \n",
       "86   https://www.admin.ch/gov/en/start/documentatio...   \n",
       "93   https://www.admin.ch/gov/en/start/documentatio...   \n",
       "98   https://www.admin.ch/gov/en/start/documentatio...   \n",
       "101  https://www.admin.ch/gov/en/start/documentatio...   \n",
       "103  https://www.admin.ch/gov/en/start/documentatio...   \n",
       "106  https://www.admin.ch/gov/en/start/documentatio...   \n",
       "107  https://www.admin.ch/gov/en/start/documentatio...   \n",
       "113  https://www.admin.ch/gov/en/start/documentatio...   \n",
       "114  https://www.admin.ch/gov/en/start/documentatio...   \n",
       "115  https://www.admin.ch/gov/en/start/documentatio...   \n",
       "120  https://www.admin.ch/gov/en/start/documentatio...   \n",
       "126  https://www.admin.ch/gov/en/start/documentatio...   \n",
       "127  https://www.admin.ch/gov/en/start/documentatio...   \n",
       "129  https://www.admin.ch/gov/en/start/documentatio...   \n",
       "133  https://www.admin.ch/gov/en/start/documentatio...   \n",
       "138  https://www.admin.ch/gov/en/start/documentatio...   \n",
       "143  https://www.admin.ch/gov/en/start/documentatio...   \n",
       "151  https://www.admin.ch/gov/en/start/documentatio...   \n",
       "152  https://www.admin.ch/gov/en/start/documentatio...   \n",
       "163  https://www.admin.ch/gov/en/start/documentatio...   \n",
       "168  https://www.admin.ch/gov/en/start/documentatio...   \n",
       "169  https://www.admin.ch/gov/en/start/documentatio...   \n",
       "183  https://www.admin.ch/gov/en/start/documentatio...   \n",
       "195  https://www.admin.ch/gov/en/start/documentatio...   \n",
       "197  https://www.admin.ch/gov/en/start/documentatio...   \n",
       "198  https://www.admin.ch/gov/en/start/documentatio...   \n",
       "200  https://www.admin.ch/gov/en/start/documentatio...   \n",
       "202  https://www.admin.ch/gov/en/start/documentatio...   \n",
       "203  https://www.admin.ch/gov/en/start/documentatio...   \n",
       "\n",
       "                                           target_urls   \n",
       "0    [{'text': 'Homepage', 'url': 'https://www.admi...  \\\n",
       "1    [{'text': 'Homepage', 'url': 'https://www.admi...   \n",
       "5    [{'text': 'Homepage', 'url': 'https://www.admi...   \n",
       "15   [{'text': 'Homepage', 'url': 'https://www.admi...   \n",
       "16   [{'text': 'Homepage', 'url': 'https://www.admi...   \n",
       "18   [{'text': 'Homepage', 'url': 'https://www.admi...   \n",
       "22   [{'text': 'Homepage', 'url': 'https://www.admi...   \n",
       "35   [{'text': 'Homepage', 'url': 'https://www.admi...   \n",
       "36   [{'text': 'Homepage', 'url': 'https://www.admi...   \n",
       "38   [{'text': 'Homepage', 'url': 'https://www.admi...   \n",
       "43   [{'text': 'Homepage', 'url': 'https://www.admi...   \n",
       "44   [{'text': 'Homepage', 'url': 'https://www.admi...   \n",
       "45   [{'text': 'Homepage', 'url': 'https://www.admi...   \n",
       "46   [{'text': 'Homepage', 'url': 'https://www.admi...   \n",
       "59   [{'text': 'Homepage', 'url': 'https://www.admi...   \n",
       "61   [{'text': 'Homepage', 'url': 'https://www.admi...   \n",
       "66   [{'text': 'Homepage', 'url': 'https://www.admi...   \n",
       "68   [{'text': 'Homepage', 'url': 'https://www.admi...   \n",
       "73   [{'text': 'Homepage', 'url': 'https://www.admi...   \n",
       "77   [{'text': 'Homepage', 'url': 'https://www.admi...   \n",
       "82   [{'text': 'Homepage', 'url': 'https://www.admi...   \n",
       "84   [{'text': 'Homepage', 'url': 'https://www.admi...   \n",
       "85   [{'text': 'Homepage', 'url': 'https://www.admi...   \n",
       "86   [{'text': 'Homepage', 'url': 'https://www.admi...   \n",
       "93   [{'text': 'Homepage', 'url': 'https://www.admi...   \n",
       "98   [{'text': 'Homepage', 'url': 'https://www.admi...   \n",
       "101  [{'text': 'Homepage', 'url': 'https://www.admi...   \n",
       "103  [{'text': 'Homepage', 'url': 'https://www.admi...   \n",
       "106  [{'text': 'Homepage', 'url': 'https://www.admi...   \n",
       "107  [{'text': 'Homepage', 'url': 'https://www.admi...   \n",
       "113  [{'text': 'Homepage', 'url': 'https://www.admi...   \n",
       "114  [{'text': 'Homepage', 'url': 'https://www.admi...   \n",
       "115  [{'text': 'Homepage', 'url': 'https://www.admi...   \n",
       "120  [{'text': 'Homepage', 'url': 'https://www.admi...   \n",
       "126  [{'text': 'Homepage', 'url': 'https://www.admi...   \n",
       "127  [{'text': 'Homepage', 'url': 'https://www.admi...   \n",
       "129  [{'text': 'Homepage', 'url': 'https://www.admi...   \n",
       "133  [{'text': 'Homepage', 'url': 'https://www.admi...   \n",
       "138  [{'text': 'Homepage', 'url': 'https://www.admi...   \n",
       "143  [{'text': 'Homepage', 'url': 'https://www.admi...   \n",
       "151  [{'text': 'Homepage', 'url': 'https://www.admi...   \n",
       "152  [{'text': 'Homepage', 'url': 'https://www.admi...   \n",
       "163  [{'text': 'Homepage', 'url': 'https://www.admi...   \n",
       "168  [{'text': 'Homepage', 'url': 'https://www.admi...   \n",
       "169  [{'text': 'Homepage', 'url': 'https://www.admi...   \n",
       "183  [{'text': 'Homepage', 'url': 'https://www.admi...   \n",
       "195  [{'text': 'Homepage', 'url': 'https://www.admi...   \n",
       "197  [{'text': 'Homepage', 'url': 'https://www.admi...   \n",
       "198  [{'text': 'Homepage', 'url': 'https://www.admi...   \n",
       "200  [{'text': 'Homepage', 'url': 'https://www.admi...   \n",
       "202  [{'text': 'Homepage', 'url': 'https://www.admi...   \n",
       "203  [{'text': 'Homepage', 'url': 'https://www.admi...   \n",
       "\n",
       "                                             link_text qa_pairs  \n",
       "0                                                 root       []  \n",
       "1                                                 root       []  \n",
       "5    \\n\\t\\t\\t\\t\\t\\t\\tco-operate: model for climate-...       []  \n",
       "15   \\n\\t\\t\\t\\t\\t\\t\\tOn 25th anniversary of Rome St...       []  \n",
       "16   \\n\\t\\t\\t\\t\\t\\t\\tEarlier detection of breast ca...       []  \n",
       "18   \\n\\t\\t\\t\\t\\t\\t\\tNew EU policy measures based o...       []  \n",
       "22   \\n\\t\\t\\t\\t\\t\\t\\tQuantum technology: Masters of...       []  \n",
       "35   \\n\\t\\t\\t\\t\\t\\t\\tFirst report on cantonal measu...       []  \n",
       "36   \\n\\t\\t\\t\\t\\t\\t\\tUntil the chemistry is just right       []  \n",
       "38   \\n\\t\\t\\t\\t\\t\\t\\tFirst recovery, then stagnatio...       []  \n",
       "43                                                root       []  \n",
       "44                                                root       []  \n",
       "45   \\n\\t\\t\\t\\t\\t\\t\\tFighting tumours down to the l...       []  \n",
       "46   \\n\\t\\t\\t\\t\\t\\t\\tThe electronic patient record ...       []  \n",
       "59   \\n\\t\\t\\t\\t\\t\\t\\tFederal Councillor Guy Parmeli...       []  \n",
       "61   \\n\\t\\t\\t\\t\\t\\t\\t4000 scenarios for a climate t...       []  \n",
       "66   \\n\\t\\t\\t\\t\\t\\t\\tPersonenfreizügigkeit: Zuwande...       []  \n",
       "68   \\n\\t\\t\\t\\t\\t\\t\\tHuman rights dialogue between ...       []  \n",
       "73   \\n\\t\\t\\t\\t\\t\\t\\tClimate-neutral air travel: Is...       []  \n",
       "77   \\n\\t\\t\\t\\t\\t\\t\\tKazakhstan and Uzbekistan meet...       []  \n",
       "82         \\n\\t\\t\\t\\t\\t\\t\\tMystery of microgels solved       []  \n",
       "84   \\n\\t\\t\\t\\t\\t\\t\\tGlobal regulations disregarded...       []  \n",
       "85                                                root       []  \n",
       "86                                                root       []  \n",
       "93   \\n\\t\\t\\t\\t\\t\\t\\tFrom Lugano to London: Federal...       []  \n",
       "98   \\n\\t\\t\\t\\t\\t\\t\\tInternational cooperation: FDF...       []  \n",
       "101  \\n\\t\\t\\t\\t\\t\\t\\tFederal Council approves param...       []  \n",
       "103  \\n\\t\\t\\t\\t\\t\\t\\tLatest special coin to be issu...       []  \n",
       "106  \\n\\t\\t\\t\\t\\t\\t\\tSwiss energy consumption down ...       []  \n",
       "107  \\n\\t\\t\\t\\t\\t\\t\\tUkraine Recovery Conference 20...       []  \n",
       "113  \\n\\t\\t\\t\\t\\t\\t\\tHeat resistant drone for fire ...       []  \n",
       "114  \\n\\t\\t\\t\\t\\t\\t\\t« Switzerland's Security 2023 ...       []  \n",
       "115  \\n\\t\\t\\t\\t\\t\\t\\t30th Annual Report 2022/2023: ...       []  \n",
       "120  \\n\\t\\t\\t\\t\\t\\t\\tCircular economy in constructi...       []  \n",
       "126                                               root       []  \n",
       "127                                               root       []  \n",
       "129  \\n\\t\\t\\t\\t\\t\\t\\tAntibiotics crisis: nanopartic...       []  \n",
       "133  \\n\\t\\t\\t\\t\\t\\t\\tFederal Council adopts maritim...       []  \n",
       "138  \\n\\t\\t\\t\\t\\t\\t\\tGroup of experts on banking st...       []  \n",
       "143  \\n\\t\\t\\t\\t\\t\\t\\tFlankierende Massnahmen und Be...       []  \n",
       "151  \\n\\t\\t\\t\\t\\t\\t\\tConfederation and UBS sign los...       []  \n",
       "152  \\n\\t\\t\\t\\t\\t\\t\\tCountry-scale calculation: How...       []  \n",
       "163  \\n\\t\\t\\t\\t\\t\\t\\tA patch with sensor function: ...       []  \n",
       "168                                               root       []  \n",
       "169                                               root       []  \n",
       "183       \\n\\t\\t\\t\\t\\t\\t\\tAn aviary for drone research       []  \n",
       "195  \\n\\t\\t\\t\\t\\t\\t\\tBudget cuts and lack of compen...       []  \n",
       "197  \\n\\t\\t\\t\\t\\t\\t\\t19 new professors appointed at...       []  \n",
       "198  \\n\\t\\t\\t\\t\\t\\t\\tStellenmeldepflicht: Stellenpl...       []  \n",
       "200  \\n\\t\\t\\t\\t\\t\\t\\tLatest special coin to be issu...       []  \n",
       "202  \\n\\t\\t\\t\\t\\t\\t\\tGross domestic product in the ...       []  \n",
       "203  \\n\\t\\t\\t\\t\\t\\t\\tAn algorithm for sharper prote...       []  "
      ]
     },
     "execution_count": 93,
     "metadata": {},
     "output_type": "execute_result"
    }
   ],
   "source": [
    "# show rows for which qa generation did not succeed\n",
    "df[df[\"qa_pairs\"].apply(lambda x: True if x is None or len(x) == 0 else False)]"
   ]
  },
  {
   "cell_type": "code",
   "execution_count": 108,
   "id": "580491fe",
   "metadata": {
    "ExecuteTime": {
     "end_time": "2023-08-05T15:55:52.219197Z",
     "start_time": "2023-08-05T15:55:52.213844Z"
    },
    "collapsed": false,
    "jupyter": {
     "outputs_hidden": false
    },
    "tags": []
   },
   "outputs": [
    {
     "ename": "KeyError",
     "evalue": "'qa_pairs'",
     "output_type": "error",
     "traceback": [
      "\u001B[0;31m---------------------------------------------------------------------------\u001B[0m",
      "\u001B[0;31mKeyError\u001B[0m                                  Traceback (most recent call last)",
      "File \u001B[0;32m/opt/conda/lib/python3.10/site-packages/pandas/core/indexes/base.py:3652\u001B[0m, in \u001B[0;36mIndex.get_loc\u001B[0;34m(self, key)\u001B[0m\n\u001B[1;32m   3651\u001B[0m \u001B[38;5;28;01mtry\u001B[39;00m:\n\u001B[0;32m-> 3652\u001B[0m     \u001B[38;5;28;01mreturn\u001B[39;00m \u001B[38;5;28;43mself\u001B[39;49m\u001B[38;5;241;43m.\u001B[39;49m\u001B[43m_engine\u001B[49m\u001B[38;5;241;43m.\u001B[39;49m\u001B[43mget_loc\u001B[49m\u001B[43m(\u001B[49m\u001B[43mcasted_key\u001B[49m\u001B[43m)\u001B[49m\n\u001B[1;32m   3653\u001B[0m \u001B[38;5;28;01mexcept\u001B[39;00m \u001B[38;5;167;01mKeyError\u001B[39;00m \u001B[38;5;28;01mas\u001B[39;00m err:\n",
      "File \u001B[0;32m/opt/conda/lib/python3.10/site-packages/pandas/_libs/index.pyx:147\u001B[0m, in \u001B[0;36mpandas._libs.index.IndexEngine.get_loc\u001B[0;34m()\u001B[0m\n",
      "File \u001B[0;32m/opt/conda/lib/python3.10/site-packages/pandas/_libs/index.pyx:176\u001B[0m, in \u001B[0;36mpandas._libs.index.IndexEngine.get_loc\u001B[0;34m()\u001B[0m\n",
      "File \u001B[0;32mpandas/_libs/hashtable_class_helper.pxi:7080\u001B[0m, in \u001B[0;36mpandas._libs.hashtable.PyObjectHashTable.get_item\u001B[0;34m()\u001B[0m\n",
      "File \u001B[0;32mpandas/_libs/hashtable_class_helper.pxi:7088\u001B[0m, in \u001B[0;36mpandas._libs.hashtable.PyObjectHashTable.get_item\u001B[0;34m()\u001B[0m\n",
      "\u001B[0;31mKeyError\u001B[0m: 'qa_pairs'",
      "\nThe above exception was the direct cause of the following exception:\n",
      "\u001B[0;31mKeyError\u001B[0m                                  Traceback (most recent call last)",
      "Cell \u001B[0;32mIn[108], line 1\u001B[0m\n\u001B[0;32m----> 1\u001B[0m \u001B[43mdf\u001B[49m\u001B[43m[\u001B[49m\u001B[38;5;124;43m\"\u001B[39;49m\u001B[38;5;124;43mqa_pairs\u001B[39;49m\u001B[38;5;124;43m\"\u001B[39;49m\u001B[43m]\u001B[49m\n",
      "File \u001B[0;32m/opt/conda/lib/python3.10/site-packages/pandas/core/frame.py:3761\u001B[0m, in \u001B[0;36mDataFrame.__getitem__\u001B[0;34m(self, key)\u001B[0m\n\u001B[1;32m   3759\u001B[0m \u001B[38;5;28;01mif\u001B[39;00m \u001B[38;5;28mself\u001B[39m\u001B[38;5;241m.\u001B[39mcolumns\u001B[38;5;241m.\u001B[39mnlevels \u001B[38;5;241m>\u001B[39m \u001B[38;5;241m1\u001B[39m:\n\u001B[1;32m   3760\u001B[0m     \u001B[38;5;28;01mreturn\u001B[39;00m \u001B[38;5;28mself\u001B[39m\u001B[38;5;241m.\u001B[39m_getitem_multilevel(key)\n\u001B[0;32m-> 3761\u001B[0m indexer \u001B[38;5;241m=\u001B[39m \u001B[38;5;28;43mself\u001B[39;49m\u001B[38;5;241;43m.\u001B[39;49m\u001B[43mcolumns\u001B[49m\u001B[38;5;241;43m.\u001B[39;49m\u001B[43mget_loc\u001B[49m\u001B[43m(\u001B[49m\u001B[43mkey\u001B[49m\u001B[43m)\u001B[49m\n\u001B[1;32m   3762\u001B[0m \u001B[38;5;28;01mif\u001B[39;00m is_integer(indexer):\n\u001B[1;32m   3763\u001B[0m     indexer \u001B[38;5;241m=\u001B[39m [indexer]\n",
      "File \u001B[0;32m/opt/conda/lib/python3.10/site-packages/pandas/core/indexes/base.py:3654\u001B[0m, in \u001B[0;36mIndex.get_loc\u001B[0;34m(self, key)\u001B[0m\n\u001B[1;32m   3652\u001B[0m     \u001B[38;5;28;01mreturn\u001B[39;00m \u001B[38;5;28mself\u001B[39m\u001B[38;5;241m.\u001B[39m_engine\u001B[38;5;241m.\u001B[39mget_loc(casted_key)\n\u001B[1;32m   3653\u001B[0m \u001B[38;5;28;01mexcept\u001B[39;00m \u001B[38;5;167;01mKeyError\u001B[39;00m \u001B[38;5;28;01mas\u001B[39;00m err:\n\u001B[0;32m-> 3654\u001B[0m     \u001B[38;5;28;01mraise\u001B[39;00m \u001B[38;5;167;01mKeyError\u001B[39;00m(key) \u001B[38;5;28;01mfrom\u001B[39;00m \u001B[38;5;21;01merr\u001B[39;00m\n\u001B[1;32m   3655\u001B[0m \u001B[38;5;28;01mexcept\u001B[39;00m \u001B[38;5;167;01mTypeError\u001B[39;00m:\n\u001B[1;32m   3656\u001B[0m     \u001B[38;5;66;03m# If we have a listlike key, _check_indexing_error will raise\u001B[39;00m\n\u001B[1;32m   3657\u001B[0m     \u001B[38;5;66;03m#  InvalidIndexError. Otherwise we fall through and re-raise\u001B[39;00m\n\u001B[1;32m   3658\u001B[0m     \u001B[38;5;66;03m#  the TypeError.\u001B[39;00m\n\u001B[1;32m   3659\u001B[0m     \u001B[38;5;28mself\u001B[39m\u001B[38;5;241m.\u001B[39m_check_indexing_error(key)\n",
      "\u001B[0;31mKeyError\u001B[0m: 'qa_pairs'"
     ]
    }
   ],
   "source": [
    "df[\"qa_pairs\"]"
   ]
  },
  {
   "cell_type": "code",
   "execution_count": 96,
   "id": "a5926799",
   "metadata": {
    "tags": []
   },
   "outputs": [
    {
     "data": {
      "text/html": [
       "<div>\n",
       "<style scoped>\n",
       "    .dataframe tbody tr th:only-of-type {\n",
       "        vertical-align: middle;\n",
       "    }\n",
       "\n",
       "    .dataframe tbody tr th {\n",
       "        vertical-align: top;\n",
       "    }\n",
       "\n",
       "    .dataframe thead th {\n",
       "        text-align: right;\n",
       "    }\n",
       "</style>\n",
       "<table border=\"1\" class=\"dataframe\">\n",
       "  <thead>\n",
       "    <tr style=\"text-align: right;\">\n",
       "      <th></th>\n",
       "      <th>title</th>\n",
       "      <th>byline</th>\n",
       "      <th>dir</th>\n",
       "      <th>lang</th>\n",
       "      <th>content</th>\n",
       "      <th>textContent</th>\n",
       "      <th>length</th>\n",
       "      <th>excerpt</th>\n",
       "      <th>siteName</th>\n",
       "      <th>source</th>\n",
       "      <th>target_urls</th>\n",
       "      <th>link_text</th>\n",
       "      <th>qa_pairs</th>\n",
       "    </tr>\n",
       "  </thead>\n",
       "  <tbody>\n",
       "    <tr>\n",
       "      <th>0</th>\n",
       "      <td>Press releases from the Federal Administration</td>\n",
       "      <td>The Federal Council</td>\n",
       "      <td>None</td>\n",
       "      <td>en</td>\n",
       "      <td>&lt;div id=\"readability-page-1\" class=\"page\"&gt;&lt;div...</td>\n",
       "      <td>\\n\\t\\t\\t\\n\\t\\t\\t\\n\\t\\t\\t\\t\\t\\n\\t\\t\\t\\t\\t\\t11.0...</td>\n",
       "      <td>7660</td>\n",
       "      <td>Current information from the Federal Administr...</td>\n",
       "      <td>None</td>\n",
       "      <td>https://www.admin.ch/gov/en/start/documentatio...</td>\n",
       "      <td>[{'text': 'Homepage', 'url': 'https://www.admi...</td>\n",
       "      <td>root</td>\n",
       "      <td>[]</td>\n",
       "    </tr>\n",
       "    <tr>\n",
       "      <th>1</th>\n",
       "      <td>Press releases from the Federal Administration</td>\n",
       "      <td>The Federal Council</td>\n",
       "      <td>None</td>\n",
       "      <td>en</td>\n",
       "      <td>&lt;div id=\"readability-page-1\" class=\"page\"&gt;&lt;div...</td>\n",
       "      <td>\\n\\t\\t\\t\\n\\t\\t\\t\\n\\t\\t\\t\\n\\t\\t\\t\\t\\t\\n\\t\\t\\t\\t...</td>\n",
       "      <td>9030</td>\n",
       "      <td>Current information from the Federal Administr...</td>\n",
       "      <td>None</td>\n",
       "      <td>https://www.admin.ch/gov/en/start/documentatio...</td>\n",
       "      <td>[{'text': 'Homepage', 'url': 'https://www.admi...</td>\n",
       "      <td>root</td>\n",
       "      <td>[]</td>\n",
       "    </tr>\n",
       "    <tr>\n",
       "      <th>2</th>\n",
       "      <td>State Secretary Hirayama attends informal EU m...</td>\n",
       "      <td>The Federal Council</td>\n",
       "      <td>None</td>\n",
       "      <td>en</td>\n",
       "      <td>&lt;div id=\"readability-page-1\" class=\"page\"&gt;&lt;div...</td>\n",
       "      <td>\\n\\n    State Secretariat for Education, Resea...</td>\n",
       "      <td>3230</td>\n",
       "      <td>Current information from the Federal Administr...</td>\n",
       "      <td>None</td>\n",
       "      <td>https://www.admin.ch/gov/en/start/documentatio...</td>\n",
       "      <td>[{'text': 'Homepage', 'url': 'https://www.admi...</td>\n",
       "      <td>\\n\\t\\t\\t\\t\\t\\t\\tState Secretary Hirayama atten...</td>\n",
       "      <td>[{'generated_text': '\n",
       "    &gt;&gt;INTRODUCTION&lt;&lt;\n",
       "   ...</td>\n",
       "    </tr>\n",
       "    <tr>\n",
       "      <th>3</th>\n",
       "      <td>Issue result for Confederation bonds</td>\n",
       "      <td>The Federal Council</td>\n",
       "      <td>None</td>\n",
       "      <td>en</td>\n",
       "      <td>&lt;div id=\"readability-page-1\" class=\"page\"&gt;&lt;div...</td>\n",
       "      <td>\\n\\n    Federal Finance Administration\\n      ...</td>\n",
       "      <td>1602</td>\n",
       "      <td>Current information from the Federal Administr...</td>\n",
       "      <td>None</td>\n",
       "      <td>https://www.admin.ch/gov/en/start/documentatio...</td>\n",
       "      <td>[{'text': 'Homepage', 'url': 'https://www.admi...</td>\n",
       "      <td>\\n\\t\\t\\t\\t\\t\\t\\tIssue result for Confederation...</td>\n",
       "      <td>[{'generated_text': '\n",
       "    &gt;&gt;INTRODUCTION&lt;&lt;\n",
       "   ...</td>\n",
       "    </tr>\n",
       "  </tbody>\n",
       "</table>\n",
       "</div>"
      ],
      "text/plain": [
       "                                               title               byline   \n",
       "0     Press releases from the Federal Administration  The Federal Council  \\\n",
       "1     Press releases from the Federal Administration  The Federal Council   \n",
       "2  State Secretary Hirayama attends informal EU m...  The Federal Council   \n",
       "3               Issue result for Confederation bonds  The Federal Council   \n",
       "\n",
       "    dir lang                                            content   \n",
       "0  None   en  <div id=\"readability-page-1\" class=\"page\"><div...  \\\n",
       "1  None   en  <div id=\"readability-page-1\" class=\"page\"><div...   \n",
       "2  None   en  <div id=\"readability-page-1\" class=\"page\"><div...   \n",
       "3  None   en  <div id=\"readability-page-1\" class=\"page\"><div...   \n",
       "\n",
       "                                         textContent  length   \n",
       "0  \\n\\t\\t\\t\\n\\t\\t\\t\\n\\t\\t\\t\\t\\t\\n\\t\\t\\t\\t\\t\\t11.0...    7660  \\\n",
       "1  \\n\\t\\t\\t\\n\\t\\t\\t\\n\\t\\t\\t\\n\\t\\t\\t\\t\\t\\n\\t\\t\\t\\t...    9030   \n",
       "2  \\n\\n    State Secretariat for Education, Resea...    3230   \n",
       "3  \\n\\n    Federal Finance Administration\\n      ...    1602   \n",
       "\n",
       "                                             excerpt siteName   \n",
       "0  Current information from the Federal Administr...     None  \\\n",
       "1  Current information from the Federal Administr...     None   \n",
       "2  Current information from the Federal Administr...     None   \n",
       "3  Current information from the Federal Administr...     None   \n",
       "\n",
       "                                              source   \n",
       "0  https://www.admin.ch/gov/en/start/documentatio...  \\\n",
       "1  https://www.admin.ch/gov/en/start/documentatio...   \n",
       "2  https://www.admin.ch/gov/en/start/documentatio...   \n",
       "3  https://www.admin.ch/gov/en/start/documentatio...   \n",
       "\n",
       "                                         target_urls   \n",
       "0  [{'text': 'Homepage', 'url': 'https://www.admi...  \\\n",
       "1  [{'text': 'Homepage', 'url': 'https://www.admi...   \n",
       "2  [{'text': 'Homepage', 'url': 'https://www.admi...   \n",
       "3  [{'text': 'Homepage', 'url': 'https://www.admi...   \n",
       "\n",
       "                                           link_text   \n",
       "0                                               root  \\\n",
       "1                                               root   \n",
       "2  \\n\\t\\t\\t\\t\\t\\t\\tState Secretary Hirayama atten...   \n",
       "3  \\n\\t\\t\\t\\t\\t\\t\\tIssue result for Confederation...   \n",
       "\n",
       "                                            qa_pairs  \n",
       "0                                                 []  \n",
       "1                                                 []  \n",
       "2  [{'generated_text': '\n",
       "    >>INTRODUCTION<<\n",
       "   ...  \n",
       "3  [{'generated_text': '\n",
       "    >>INTRODUCTION<<\n",
       "   ...  "
      ]
     },
     "execution_count": 96,
     "metadata": {},
     "output_type": "execute_result"
    }
   ],
   "source": [
    "df.iloc[:4]"
   ]
  },
  {
   "cell_type": "code",
   "execution_count": 97,
   "id": "0b9d8c0b",
   "metadata": {
    "tags": []
   },
   "outputs": [],
   "source": [
    "df_clean = df.explode(\"qa_pairs\")\n",
    "df_clean = df_clean[df_clean[\"qa_pairs\"].notna()]\n",
    "df_clean.reset_index(drop=True, inplace=True)\n",
    "df_clean = df_clean.join(pd.json_normalize(df_clean.qa_pairs))\n",
    "df_clean.drop(\"qa_pairs\", axis=1, inplace=True)"
   ]
  },
  {
   "cell_type": "code",
   "execution_count": 116,
   "id": "b23dd29e",
   "metadata": {
    "tags": []
   },
   "outputs": [
    {
     "name": "stdout",
     "output_type": "stream",
     "text": [
      "0    \\n    >>INTRODUCTION<<\\n    \\n\\n    State Secr...\n",
      "Name: generated_text, dtype: object\n"
     ]
    }
   ],
   "source": [
    "df_clean.iloc[:1]"
   ]
  },
  {
   "cell_type": "code",
   "execution_count": 99,
   "id": "0fe45937",
   "metadata": {
    "tags": []
   },
   "outputs": [],
   "source": [
    "df = df_clean"
   ]
  },
  {
   "cell_type": "markdown",
   "id": "75a3cd11",
   "metadata": {},
   "source": [
    "## Prepare input"
   ]
  },
  {
   "cell_type": "code",
   "execution_count": 100,
   "id": "60f76b78",
   "metadata": {
    "tags": []
   },
   "outputs": [],
   "source": [
    "import numpy as np"
   ]
  },
  {
   "cell_type": "code",
   "execution_count": 104,
   "id": "a1d63efb",
   "metadata": {
    "tags": []
   },
   "outputs": [],
   "source": [
    "intro = pd.Series(\n",
    "    np.full(df.shape[0], fill_value=\"The conversation between human and AI assistant.\")\n",
    ")\n",
    "human_tag = pd.Series(np.full(df.shape[0], fill_value=\"\\n[|Human|] \"))\n",
    "ai_tag = pd.Series(np.full(df.shape[0], fill_value=\"\\n[|AI|] \"))"
   ]
  },
  {
   "cell_type": "code",
   "execution_count": 106,
   "id": "82975804-813b-4388-8810-a743a78ff370",
   "metadata": {
    "tags": []
   },
   "outputs": [
    {
     "data": {
      "text/html": [
       "<div>\n",
       "<style scoped>\n",
       "    .dataframe tbody tr th:only-of-type {\n",
       "        vertical-align: middle;\n",
       "    }\n",
       "\n",
       "    .dataframe tbody tr th {\n",
       "        vertical-align: top;\n",
       "    }\n",
       "\n",
       "    .dataframe thead th {\n",
       "        text-align: right;\n",
       "    }\n",
       "</style>\n",
       "<table border=\"1\" class=\"dataframe\">\n",
       "  <thead>\n",
       "    <tr style=\"text-align: right;\">\n",
       "      <th></th>\n",
       "      <th>title</th>\n",
       "      <th>byline</th>\n",
       "      <th>dir</th>\n",
       "      <th>lang</th>\n",
       "      <th>content</th>\n",
       "      <th>textContent</th>\n",
       "      <th>length</th>\n",
       "      <th>excerpt</th>\n",
       "      <th>siteName</th>\n",
       "      <th>source</th>\n",
       "      <th>target_urls</th>\n",
       "      <th>link_text</th>\n",
       "      <th>generated_text</th>\n",
       "    </tr>\n",
       "  </thead>\n",
       "  <tbody>\n",
       "    <tr>\n",
       "      <th>0</th>\n",
       "      <td>State Secretary Hirayama attends informal EU m...</td>\n",
       "      <td>The Federal Council</td>\n",
       "      <td>None</td>\n",
       "      <td>en</td>\n",
       "      <td>&lt;div id=\"readability-page-1\" class=\"page\"&gt;&lt;div...</td>\n",
       "      <td>\\n\\n    State Secretariat for Education, Resea...</td>\n",
       "      <td>3230</td>\n",
       "      <td>Current information from the Federal Administr...</td>\n",
       "      <td>None</td>\n",
       "      <td>https://www.admin.ch/gov/en/start/documentatio...</td>\n",
       "      <td>[{'text': 'Homepage', 'url': 'https://www.admi...</td>\n",
       "      <td>\\n\\t\\t\\t\\t\\t\\t\\tState Secretary Hirayama atten...</td>\n",
       "      <td>\\n    &gt;&gt;INTRODUCTION&lt;&lt;\\n    \\n\\n    State Secr...</td>\n",
       "    </tr>\n",
       "    <tr>\n",
       "      <th>1</th>\n",
       "      <td>Issue result for Confederation bonds</td>\n",
       "      <td>The Federal Council</td>\n",
       "      <td>None</td>\n",
       "      <td>en</td>\n",
       "      <td>&lt;div id=\"readability-page-1\" class=\"page\"&gt;&lt;div...</td>\n",
       "      <td>\\n\\n    Federal Finance Administration\\n      ...</td>\n",
       "      <td>1602</td>\n",
       "      <td>Current information from the Federal Administr...</td>\n",
       "      <td>None</td>\n",
       "      <td>https://www.admin.ch/gov/en/start/documentatio...</td>\n",
       "      <td>[{'text': 'Homepage', 'url': 'https://www.admi...</td>\n",
       "      <td>\\n\\t\\t\\t\\t\\t\\t\\tIssue result for Confederation...</td>\n",
       "      <td>\\n    &gt;&gt;INTRODUCTION&lt;&lt;\\n    \\n\\n    Federal Fi...</td>\n",
       "    </tr>\n",
       "    <tr>\n",
       "      <th>2</th>\n",
       "      <td>Switzerland's border regions: higher activity ...</td>\n",
       "      <td>The Federal Council</td>\n",
       "      <td>None</td>\n",
       "      <td>en</td>\n",
       "      <td>&lt;div id=\"readability-page-1\" class=\"page\"&gt;&lt;div...</td>\n",
       "      <td>\\n\\n    Federal Statistical Office\\n          ...</td>\n",
       "      <td>1723</td>\n",
       "      <td>Current information from the Federal Administr...</td>\n",
       "      <td>None</td>\n",
       "      <td>https://www.admin.ch/gov/en/start/documentatio...</td>\n",
       "      <td>[{'text': 'Homepage', 'url': 'https://www.admi...</td>\n",
       "      <td>\\n\\t\\t\\t\\t\\t\\t\\tSwitzerland's border regions: ...</td>\n",
       "      <td>\\n    &gt;&gt;INTRODUCTION&lt;&lt;\\n    \\n\\n    Federal St...</td>\n",
       "    </tr>\n",
       "    <tr>\n",
       "      <th>3</th>\n",
       "      <td>Producer and Import Price Index remained stabl...</td>\n",
       "      <td>The Federal Council</td>\n",
       "      <td>None</td>\n",
       "      <td>en</td>\n",
       "      <td>&lt;div id=\"readability-page-1\" class=\"page\"&gt;&lt;div...</td>\n",
       "      <td>\\n\\n    Federal Statistical Office\\n          ...</td>\n",
       "      <td>1499</td>\n",
       "      <td>Current information from the Federal Administr...</td>\n",
       "      <td>None</td>\n",
       "      <td>https://www.admin.ch/gov/en/start/documentatio...</td>\n",
       "      <td>[{'text': 'Homepage', 'url': 'https://www.admi...</td>\n",
       "      <td>\\n\\t\\t\\t\\t\\t\\t\\tProducer and Import Price Inde...</td>\n",
       "      <td>\\n    &gt;&gt;INTRODUCTION&lt;&lt;\\n    \\n\\n    Federal St...</td>\n",
       "    </tr>\n",
       "    <tr>\n",
       "      <th>4</th>\n",
       "      <td>Extension of investigation activities to Xplai...</td>\n",
       "      <td>The Federal Council</td>\n",
       "      <td>None</td>\n",
       "      <td>en</td>\n",
       "      <td>&lt;div id=\"readability-page-1\" class=\"page\"&gt;&lt;div...</td>\n",
       "      <td>\\n\\n    Federal Data Protection and Informatio...</td>\n",
       "      <td>1529</td>\n",
       "      <td>Current information from the Federal Administr...</td>\n",
       "      <td>None</td>\n",
       "      <td>https://www.admin.ch/gov/en/start/documentatio...</td>\n",
       "      <td>[{'text': 'Homepage', 'url': 'https://www.admi...</td>\n",
       "      <td>\\n\\t\\t\\t\\t\\t\\t\\tExtension of investigation act...</td>\n",
       "      <td>\\n    &gt;&gt;INTRODUCTION&lt;&lt;\\n    \\n\\n    Federal Da...</td>\n",
       "    </tr>\n",
       "  </tbody>\n",
       "</table>\n",
       "</div>"
      ],
      "text/plain": [
       "                                               title               byline   \n",
       "0  State Secretary Hirayama attends informal EU m...  The Federal Council  \\\n",
       "1               Issue result for Confederation bonds  The Federal Council   \n",
       "2  Switzerland's border regions: higher activity ...  The Federal Council   \n",
       "3  Producer and Import Price Index remained stabl...  The Federal Council   \n",
       "4  Extension of investigation activities to Xplai...  The Federal Council   \n",
       "\n",
       "    dir lang                                            content   \n",
       "0  None   en  <div id=\"readability-page-1\" class=\"page\"><div...  \\\n",
       "1  None   en  <div id=\"readability-page-1\" class=\"page\"><div...   \n",
       "2  None   en  <div id=\"readability-page-1\" class=\"page\"><div...   \n",
       "3  None   en  <div id=\"readability-page-1\" class=\"page\"><div...   \n",
       "4  None   en  <div id=\"readability-page-1\" class=\"page\"><div...   \n",
       "\n",
       "                                         textContent  length   \n",
       "0  \\n\\n    State Secretariat for Education, Resea...    3230  \\\n",
       "1  \\n\\n    Federal Finance Administration\\n      ...    1602   \n",
       "2  \\n\\n    Federal Statistical Office\\n          ...    1723   \n",
       "3  \\n\\n    Federal Statistical Office\\n          ...    1499   \n",
       "4  \\n\\n    Federal Data Protection and Informatio...    1529   \n",
       "\n",
       "                                             excerpt siteName   \n",
       "0  Current information from the Federal Administr...     None  \\\n",
       "1  Current information from the Federal Administr...     None   \n",
       "2  Current information from the Federal Administr...     None   \n",
       "3  Current information from the Federal Administr...     None   \n",
       "4  Current information from the Federal Administr...     None   \n",
       "\n",
       "                                              source   \n",
       "0  https://www.admin.ch/gov/en/start/documentatio...  \\\n",
       "1  https://www.admin.ch/gov/en/start/documentatio...   \n",
       "2  https://www.admin.ch/gov/en/start/documentatio...   \n",
       "3  https://www.admin.ch/gov/en/start/documentatio...   \n",
       "4  https://www.admin.ch/gov/en/start/documentatio...   \n",
       "\n",
       "                                         target_urls   \n",
       "0  [{'text': 'Homepage', 'url': 'https://www.admi...  \\\n",
       "1  [{'text': 'Homepage', 'url': 'https://www.admi...   \n",
       "2  [{'text': 'Homepage', 'url': 'https://www.admi...   \n",
       "3  [{'text': 'Homepage', 'url': 'https://www.admi...   \n",
       "4  [{'text': 'Homepage', 'url': 'https://www.admi...   \n",
       "\n",
       "                                           link_text   \n",
       "0  \\n\\t\\t\\t\\t\\t\\t\\tState Secretary Hirayama atten...  \\\n",
       "1  \\n\\t\\t\\t\\t\\t\\t\\tIssue result for Confederation...   \n",
       "2  \\n\\t\\t\\t\\t\\t\\t\\tSwitzerland's border regions: ...   \n",
       "3  \\n\\t\\t\\t\\t\\t\\t\\tProducer and Import Price Inde...   \n",
       "4  \\n\\t\\t\\t\\t\\t\\t\\tExtension of investigation act...   \n",
       "\n",
       "                                      generated_text  \n",
       "0  \\n    >>INTRODUCTION<<\\n    \\n\\n    State Secr...  \n",
       "1  \\n    >>INTRODUCTION<<\\n    \\n\\n    Federal Fi...  \n",
       "2  \\n    >>INTRODUCTION<<\\n    \\n\\n    Federal St...  \n",
       "3  \\n    >>INTRODUCTION<<\\n    \\n\\n    Federal St...  \n",
       "4  \\n    >>INTRODUCTION<<\\n    \\n\\n    Federal Da...  "
      ]
     },
     "execution_count": 106,
     "metadata": {},
     "output_type": "execute_result"
    }
   ],
   "source": [
    "df.head(5)"
   ]
  },
  {
   "cell_type": "code",
   "execution_count": 102,
   "id": "ebde3829",
   "metadata": {
    "tags": []
   },
   "outputs": [
    {
     "ename": "KeyError",
     "evalue": "'question'",
     "output_type": "error",
     "traceback": [
      "\u001B[0;31m---------------------------------------------------------------------------\u001B[0m",
      "\u001B[0;31mKeyError\u001B[0m                                  Traceback (most recent call last)",
      "File \u001B[0;32m/opt/conda/lib/python3.10/site-packages/pandas/core/indexes/base.py:3652\u001B[0m, in \u001B[0;36mIndex.get_loc\u001B[0;34m(self, key)\u001B[0m\n\u001B[1;32m   3651\u001B[0m \u001B[38;5;28;01mtry\u001B[39;00m:\n\u001B[0;32m-> 3652\u001B[0m     \u001B[38;5;28;01mreturn\u001B[39;00m \u001B[38;5;28;43mself\u001B[39;49m\u001B[38;5;241;43m.\u001B[39;49m\u001B[43m_engine\u001B[49m\u001B[38;5;241;43m.\u001B[39;49m\u001B[43mget_loc\u001B[49m\u001B[43m(\u001B[49m\u001B[43mcasted_key\u001B[49m\u001B[43m)\u001B[49m\n\u001B[1;32m   3653\u001B[0m \u001B[38;5;28;01mexcept\u001B[39;00m \u001B[38;5;167;01mKeyError\u001B[39;00m \u001B[38;5;28;01mas\u001B[39;00m err:\n",
      "File \u001B[0;32m/opt/conda/lib/python3.10/site-packages/pandas/_libs/index.pyx:147\u001B[0m, in \u001B[0;36mpandas._libs.index.IndexEngine.get_loc\u001B[0;34m()\u001B[0m\n",
      "File \u001B[0;32m/opt/conda/lib/python3.10/site-packages/pandas/_libs/index.pyx:176\u001B[0m, in \u001B[0;36mpandas._libs.index.IndexEngine.get_loc\u001B[0;34m()\u001B[0m\n",
      "File \u001B[0;32mpandas/_libs/hashtable_class_helper.pxi:7080\u001B[0m, in \u001B[0;36mpandas._libs.hashtable.PyObjectHashTable.get_item\u001B[0;34m()\u001B[0m\n",
      "File \u001B[0;32mpandas/_libs/hashtable_class_helper.pxi:7088\u001B[0m, in \u001B[0;36mpandas._libs.hashtable.PyObjectHashTable.get_item\u001B[0;34m()\u001B[0m\n",
      "\u001B[0;31mKeyError\u001B[0m: 'question'",
      "\nThe above exception was the direct cause of the following exception:\n",
      "\u001B[0;31mKeyError\u001B[0m                                  Traceback (most recent call last)",
      "Cell \u001B[0;32mIn[102], line 1\u001B[0m\n\u001B[0;32m----> 1\u001B[0m df[\u001B[38;5;124m'\u001B[39m\u001B[38;5;124minput\u001B[39m\u001B[38;5;124m'\u001B[39m] \u001B[38;5;241m=\u001B[39m intro \u001B[38;5;241m+\u001B[39m human_tag \u001B[38;5;241m+\u001B[39m \u001B[43mdf\u001B[49m\u001B[43m[\u001B[49m\u001B[38;5;124;43m'\u001B[39;49m\u001B[38;5;124;43mquestion\u001B[39;49m\u001B[38;5;124;43m'\u001B[39;49m\u001B[43m]\u001B[49m \u001B[38;5;241m+\u001B[39m ai_tag \u001B[38;5;241m+\u001B[39m df[\u001B[38;5;124m'\u001B[39m\u001B[38;5;124manswer\u001B[39m\u001B[38;5;124m'\u001B[39m] \u001B[38;5;241m+\u001B[39m human_tag\n",
      "File \u001B[0;32m/opt/conda/lib/python3.10/site-packages/pandas/core/frame.py:3761\u001B[0m, in \u001B[0;36mDataFrame.__getitem__\u001B[0;34m(self, key)\u001B[0m\n\u001B[1;32m   3759\u001B[0m \u001B[38;5;28;01mif\u001B[39;00m \u001B[38;5;28mself\u001B[39m\u001B[38;5;241m.\u001B[39mcolumns\u001B[38;5;241m.\u001B[39mnlevels \u001B[38;5;241m>\u001B[39m \u001B[38;5;241m1\u001B[39m:\n\u001B[1;32m   3760\u001B[0m     \u001B[38;5;28;01mreturn\u001B[39;00m \u001B[38;5;28mself\u001B[39m\u001B[38;5;241m.\u001B[39m_getitem_multilevel(key)\n\u001B[0;32m-> 3761\u001B[0m indexer \u001B[38;5;241m=\u001B[39m \u001B[38;5;28;43mself\u001B[39;49m\u001B[38;5;241;43m.\u001B[39;49m\u001B[43mcolumns\u001B[49m\u001B[38;5;241;43m.\u001B[39;49m\u001B[43mget_loc\u001B[49m\u001B[43m(\u001B[49m\u001B[43mkey\u001B[49m\u001B[43m)\u001B[49m\n\u001B[1;32m   3762\u001B[0m \u001B[38;5;28;01mif\u001B[39;00m is_integer(indexer):\n\u001B[1;32m   3763\u001B[0m     indexer \u001B[38;5;241m=\u001B[39m [indexer]\n",
      "File \u001B[0;32m/opt/conda/lib/python3.10/site-packages/pandas/core/indexes/base.py:3654\u001B[0m, in \u001B[0;36mIndex.get_loc\u001B[0;34m(self, key)\u001B[0m\n\u001B[1;32m   3652\u001B[0m     \u001B[38;5;28;01mreturn\u001B[39;00m \u001B[38;5;28mself\u001B[39m\u001B[38;5;241m.\u001B[39m_engine\u001B[38;5;241m.\u001B[39mget_loc(casted_key)\n\u001B[1;32m   3653\u001B[0m \u001B[38;5;28;01mexcept\u001B[39;00m \u001B[38;5;167;01mKeyError\u001B[39;00m \u001B[38;5;28;01mas\u001B[39;00m err:\n\u001B[0;32m-> 3654\u001B[0m     \u001B[38;5;28;01mraise\u001B[39;00m \u001B[38;5;167;01mKeyError\u001B[39;00m(key) \u001B[38;5;28;01mfrom\u001B[39;00m \u001B[38;5;21;01merr\u001B[39;00m\n\u001B[1;32m   3655\u001B[0m \u001B[38;5;28;01mexcept\u001B[39;00m \u001B[38;5;167;01mTypeError\u001B[39;00m:\n\u001B[1;32m   3656\u001B[0m     \u001B[38;5;66;03m# If we have a listlike key, _check_indexing_error will raise\u001B[39;00m\n\u001B[1;32m   3657\u001B[0m     \u001B[38;5;66;03m#  InvalidIndexError. Otherwise we fall through and re-raise\u001B[39;00m\n\u001B[1;32m   3658\u001B[0m     \u001B[38;5;66;03m#  the TypeError.\u001B[39;00m\n\u001B[1;32m   3659\u001B[0m     \u001B[38;5;28mself\u001B[39m\u001B[38;5;241m.\u001B[39m_check_indexing_error(key)\n",
      "\u001B[0;31mKeyError\u001B[0m: 'question'"
     ]
    }
   ],
   "source": [
    "df[\"input\"] = intro + human_tag + df[\"question\"] + ai_tag + df[\"answer\"] + human_tag"
   ]
  },
  {
   "cell_type": "code",
   "execution_count": null,
   "id": "584adece",
   "metadata": {
    "tags": []
   },
   "outputs": [],
   "source": [
    "df[\"input\"][1]"
   ]
  },
  {
   "cell_type": "code",
   "execution_count": 103,
   "id": "167d3b44",
   "metadata": {
    "tags": []
   },
   "outputs": [
    {
     "data": {
      "text/plain": [
       "158"
      ]
     },
     "execution_count": 103,
     "metadata": {},
     "output_type": "execute_result"
    }
   ],
   "source": [
    "len(df)"
   ]
  },
  {
   "cell_type": "code",
   "execution_count": null,
   "id": "26db24e2",
   "metadata": {},
   "outputs": [],
   "source": [
    "df = df.drop_duplicates(subset=[\"input\"])"
   ]
  },
  {
   "cell_type": "code",
   "execution_count": null,
   "id": "67305e63",
   "metadata": {},
   "outputs": [],
   "source": [
    "len(df)"
   ]
  },
  {
   "cell_type": "markdown",
   "id": "8978b641",
   "metadata": {},
   "source": [
    "## Store dataset"
   ]
  },
  {
   "cell_type": "markdown",
   "id": "73358832",
   "metadata": {},
   "source": [
    "!pip install datasets[s3]"
   ]
  },
  {
   "cell_type": "code",
   "execution_count": null,
   "id": "cd117720",
   "metadata": {},
   "outputs": [],
   "source": [
    "from datasets import Dataset\n",
    "\n",
    "dataset = Dataset.from_pandas(df)\n",
    "\n",
    "dataset = dataset.train_test_split(test_size=0.1, seed=2303)\n",
    "dataset"
   ]
  },
  {
   "cell_type": "code",
   "execution_count": null,
   "id": "54da8a1e",
   "metadata": {},
   "outputs": [],
   "source": [
    "from datasets.filesystems import S3FileSystem\n",
    "\n",
    "session = botocore.session.get_session()\n",
    "s3 = S3FileSystem(session=session)"
   ]
  },
  {
   "cell_type": "code",
   "execution_count": null,
   "id": "a125761f",
   "metadata": {},
   "outputs": [],
   "source": [
    "dataset.save_to_disk(\n",
    "    f\"s3://{output_bucket}/{s3_output_dataset_key}\", storage_options=s3.storage_options\n",
    ")"
   ]
  }
 ],
 "metadata": {
  "availableInstances": [
   {
    "_defaultOrder": 0,
    "_isFastLaunch": true,
    "category": "General purpose",
    "gpuNum": 0,
    "hideHardwareSpecs": false,
    "memoryGiB": 4,
    "name": "ml.t3.medium",
    "vcpuNum": 2
   },
   {
    "_defaultOrder": 1,
    "_isFastLaunch": false,
    "category": "General purpose",
    "gpuNum": 0,
    "hideHardwareSpecs": false,
    "memoryGiB": 8,
    "name": "ml.t3.large",
    "vcpuNum": 2
   },
   {
    "_defaultOrder": 2,
    "_isFastLaunch": false,
    "category": "General purpose",
    "gpuNum": 0,
    "hideHardwareSpecs": false,
    "memoryGiB": 16,
    "name": "ml.t3.xlarge",
    "vcpuNum": 4
   },
   {
    "_defaultOrder": 3,
    "_isFastLaunch": false,
    "category": "General purpose",
    "gpuNum": 0,
    "hideHardwareSpecs": false,
    "memoryGiB": 32,
    "name": "ml.t3.2xlarge",
    "vcpuNum": 8
   },
   {
    "_defaultOrder": 4,
    "_isFastLaunch": true,
    "category": "General purpose",
    "gpuNum": 0,
    "hideHardwareSpecs": false,
    "memoryGiB": 8,
    "name": "ml.m5.large",
    "vcpuNum": 2
   },
   {
    "_defaultOrder": 5,
    "_isFastLaunch": false,
    "category": "General purpose",
    "gpuNum": 0,
    "hideHardwareSpecs": false,
    "memoryGiB": 16,
    "name": "ml.m5.xlarge",
    "vcpuNum": 4
   },
   {
    "_defaultOrder": 6,
    "_isFastLaunch": false,
    "category": "General purpose",
    "gpuNum": 0,
    "hideHardwareSpecs": false,
    "memoryGiB": 32,
    "name": "ml.m5.2xlarge",
    "vcpuNum": 8
   },
   {
    "_defaultOrder": 7,
    "_isFastLaunch": false,
    "category": "General purpose",
    "gpuNum": 0,
    "hideHardwareSpecs": false,
    "memoryGiB": 64,
    "name": "ml.m5.4xlarge",
    "vcpuNum": 16
   },
   {
    "_defaultOrder": 8,
    "_isFastLaunch": false,
    "category": "General purpose",
    "gpuNum": 0,
    "hideHardwareSpecs": false,
    "memoryGiB": 128,
    "name": "ml.m5.8xlarge",
    "vcpuNum": 32
   },
   {
    "_defaultOrder": 9,
    "_isFastLaunch": false,
    "category": "General purpose",
    "gpuNum": 0,
    "hideHardwareSpecs": false,
    "memoryGiB": 192,
    "name": "ml.m5.12xlarge",
    "vcpuNum": 48
   },
   {
    "_defaultOrder": 10,
    "_isFastLaunch": false,
    "category": "General purpose",
    "gpuNum": 0,
    "hideHardwareSpecs": false,
    "memoryGiB": 256,
    "name": "ml.m5.16xlarge",
    "vcpuNum": 64
   },
   {
    "_defaultOrder": 11,
    "_isFastLaunch": false,
    "category": "General purpose",
    "gpuNum": 0,
    "hideHardwareSpecs": false,
    "memoryGiB": 384,
    "name": "ml.m5.24xlarge",
    "vcpuNum": 96
   },
   {
    "_defaultOrder": 12,
    "_isFastLaunch": false,
    "category": "General purpose",
    "gpuNum": 0,
    "hideHardwareSpecs": false,
    "memoryGiB": 8,
    "name": "ml.m5d.large",
    "vcpuNum": 2
   },
   {
    "_defaultOrder": 13,
    "_isFastLaunch": false,
    "category": "General purpose",
    "gpuNum": 0,
    "hideHardwareSpecs": false,
    "memoryGiB": 16,
    "name": "ml.m5d.xlarge",
    "vcpuNum": 4
   },
   {
    "_defaultOrder": 14,
    "_isFastLaunch": false,
    "category": "General purpose",
    "gpuNum": 0,
    "hideHardwareSpecs": false,
    "memoryGiB": 32,
    "name": "ml.m5d.2xlarge",
    "vcpuNum": 8
   },
   {
    "_defaultOrder": 15,
    "_isFastLaunch": false,
    "category": "General purpose",
    "gpuNum": 0,
    "hideHardwareSpecs": false,
    "memoryGiB": 64,
    "name": "ml.m5d.4xlarge",
    "vcpuNum": 16
   },
   {
    "_defaultOrder": 16,
    "_isFastLaunch": false,
    "category": "General purpose",
    "gpuNum": 0,
    "hideHardwareSpecs": false,
    "memoryGiB": 128,
    "name": "ml.m5d.8xlarge",
    "vcpuNum": 32
   },
   {
    "_defaultOrder": 17,
    "_isFastLaunch": false,
    "category": "General purpose",
    "gpuNum": 0,
    "hideHardwareSpecs": false,
    "memoryGiB": 192,
    "name": "ml.m5d.12xlarge",
    "vcpuNum": 48
   },
   {
    "_defaultOrder": 18,
    "_isFastLaunch": false,
    "category": "General purpose",
    "gpuNum": 0,
    "hideHardwareSpecs": false,
    "memoryGiB": 256,
    "name": "ml.m5d.16xlarge",
    "vcpuNum": 64
   },
   {
    "_defaultOrder": 19,
    "_isFastLaunch": false,
    "category": "General purpose",
    "gpuNum": 0,
    "hideHardwareSpecs": false,
    "memoryGiB": 384,
    "name": "ml.m5d.24xlarge",
    "vcpuNum": 96
   },
   {
    "_defaultOrder": 20,
    "_isFastLaunch": false,
    "category": "General purpose",
    "gpuNum": 0,
    "hideHardwareSpecs": true,
    "memoryGiB": 0,
    "name": "ml.geospatial.interactive",
    "supportedImageNames": [
     "sagemaker-geospatial-v1-0"
    ],
    "vcpuNum": 0
   },
   {
    "_defaultOrder": 21,
    "_isFastLaunch": true,
    "category": "Compute optimized",
    "gpuNum": 0,
    "hideHardwareSpecs": false,
    "memoryGiB": 4,
    "name": "ml.c5.large",
    "vcpuNum": 2
   },
   {
    "_defaultOrder": 22,
    "_isFastLaunch": false,
    "category": "Compute optimized",
    "gpuNum": 0,
    "hideHardwareSpecs": false,
    "memoryGiB": 8,
    "name": "ml.c5.xlarge",
    "vcpuNum": 4
   },
   {
    "_defaultOrder": 23,
    "_isFastLaunch": false,
    "category": "Compute optimized",
    "gpuNum": 0,
    "hideHardwareSpecs": false,
    "memoryGiB": 16,
    "name": "ml.c5.2xlarge",
    "vcpuNum": 8
   },
   {
    "_defaultOrder": 24,
    "_isFastLaunch": false,
    "category": "Compute optimized",
    "gpuNum": 0,
    "hideHardwareSpecs": false,
    "memoryGiB": 32,
    "name": "ml.c5.4xlarge",
    "vcpuNum": 16
   },
   {
    "_defaultOrder": 25,
    "_isFastLaunch": false,
    "category": "Compute optimized",
    "gpuNum": 0,
    "hideHardwareSpecs": false,
    "memoryGiB": 72,
    "name": "ml.c5.9xlarge",
    "vcpuNum": 36
   },
   {
    "_defaultOrder": 26,
    "_isFastLaunch": false,
    "category": "Compute optimized",
    "gpuNum": 0,
    "hideHardwareSpecs": false,
    "memoryGiB": 96,
    "name": "ml.c5.12xlarge",
    "vcpuNum": 48
   },
   {
    "_defaultOrder": 27,
    "_isFastLaunch": false,
    "category": "Compute optimized",
    "gpuNum": 0,
    "hideHardwareSpecs": false,
    "memoryGiB": 144,
    "name": "ml.c5.18xlarge",
    "vcpuNum": 72
   },
   {
    "_defaultOrder": 28,
    "_isFastLaunch": false,
    "category": "Compute optimized",
    "gpuNum": 0,
    "hideHardwareSpecs": false,
    "memoryGiB": 192,
    "name": "ml.c5.24xlarge",
    "vcpuNum": 96
   },
   {
    "_defaultOrder": 29,
    "_isFastLaunch": true,
    "category": "Accelerated computing",
    "gpuNum": 1,
    "hideHardwareSpecs": false,
    "memoryGiB": 16,
    "name": "ml.g4dn.xlarge",
    "vcpuNum": 4
   },
   {
    "_defaultOrder": 30,
    "_isFastLaunch": false,
    "category": "Accelerated computing",
    "gpuNum": 1,
    "hideHardwareSpecs": false,
    "memoryGiB": 32,
    "name": "ml.g4dn.2xlarge",
    "vcpuNum": 8
   },
   {
    "_defaultOrder": 31,
    "_isFastLaunch": false,
    "category": "Accelerated computing",
    "gpuNum": 1,
    "hideHardwareSpecs": false,
    "memoryGiB": 64,
    "name": "ml.g4dn.4xlarge",
    "vcpuNum": 16
   },
   {
    "_defaultOrder": 32,
    "_isFastLaunch": false,
    "category": "Accelerated computing",
    "gpuNum": 1,
    "hideHardwareSpecs": false,
    "memoryGiB": 128,
    "name": "ml.g4dn.8xlarge",
    "vcpuNum": 32
   },
   {
    "_defaultOrder": 33,
    "_isFastLaunch": false,
    "category": "Accelerated computing",
    "gpuNum": 4,
    "hideHardwareSpecs": false,
    "memoryGiB": 192,
    "name": "ml.g4dn.12xlarge",
    "vcpuNum": 48
   },
   {
    "_defaultOrder": 34,
    "_isFastLaunch": false,
    "category": "Accelerated computing",
    "gpuNum": 1,
    "hideHardwareSpecs": false,
    "memoryGiB": 256,
    "name": "ml.g4dn.16xlarge",
    "vcpuNum": 64
   },
   {
    "_defaultOrder": 35,
    "_isFastLaunch": false,
    "category": "Accelerated computing",
    "gpuNum": 1,
    "hideHardwareSpecs": false,
    "memoryGiB": 61,
    "name": "ml.p3.2xlarge",
    "vcpuNum": 8
   },
   {
    "_defaultOrder": 36,
    "_isFastLaunch": false,
    "category": "Accelerated computing",
    "gpuNum": 4,
    "hideHardwareSpecs": false,
    "memoryGiB": 244,
    "name": "ml.p3.8xlarge",
    "vcpuNum": 32
   },
   {
    "_defaultOrder": 37,
    "_isFastLaunch": false,
    "category": "Accelerated computing",
    "gpuNum": 8,
    "hideHardwareSpecs": false,
    "memoryGiB": 488,
    "name": "ml.p3.16xlarge",
    "vcpuNum": 64
   },
   {
    "_defaultOrder": 38,
    "_isFastLaunch": false,
    "category": "Accelerated computing",
    "gpuNum": 8,
    "hideHardwareSpecs": false,
    "memoryGiB": 768,
    "name": "ml.p3dn.24xlarge",
    "vcpuNum": 96
   },
   {
    "_defaultOrder": 39,
    "_isFastLaunch": false,
    "category": "Memory Optimized",
    "gpuNum": 0,
    "hideHardwareSpecs": false,
    "memoryGiB": 16,
    "name": "ml.r5.large",
    "vcpuNum": 2
   },
   {
    "_defaultOrder": 40,
    "_isFastLaunch": false,
    "category": "Memory Optimized",
    "gpuNum": 0,
    "hideHardwareSpecs": false,
    "memoryGiB": 32,
    "name": "ml.r5.xlarge",
    "vcpuNum": 4
   },
   {
    "_defaultOrder": 41,
    "_isFastLaunch": false,
    "category": "Memory Optimized",
    "gpuNum": 0,
    "hideHardwareSpecs": false,
    "memoryGiB": 64,
    "name": "ml.r5.2xlarge",
    "vcpuNum": 8
   },
   {
    "_defaultOrder": 42,
    "_isFastLaunch": false,
    "category": "Memory Optimized",
    "gpuNum": 0,
    "hideHardwareSpecs": false,
    "memoryGiB": 128,
    "name": "ml.r5.4xlarge",
    "vcpuNum": 16
   },
   {
    "_defaultOrder": 43,
    "_isFastLaunch": false,
    "category": "Memory Optimized",
    "gpuNum": 0,
    "hideHardwareSpecs": false,
    "memoryGiB": 256,
    "name": "ml.r5.8xlarge",
    "vcpuNum": 32
   },
   {
    "_defaultOrder": 44,
    "_isFastLaunch": false,
    "category": "Memory Optimized",
    "gpuNum": 0,
    "hideHardwareSpecs": false,
    "memoryGiB": 384,
    "name": "ml.r5.12xlarge",
    "vcpuNum": 48
   },
   {
    "_defaultOrder": 45,
    "_isFastLaunch": false,
    "category": "Memory Optimized",
    "gpuNum": 0,
    "hideHardwareSpecs": false,
    "memoryGiB": 512,
    "name": "ml.r5.16xlarge",
    "vcpuNum": 64
   },
   {
    "_defaultOrder": 46,
    "_isFastLaunch": false,
    "category": "Memory Optimized",
    "gpuNum": 0,
    "hideHardwareSpecs": false,
    "memoryGiB": 768,
    "name": "ml.r5.24xlarge",
    "vcpuNum": 96
   },
   {
    "_defaultOrder": 47,
    "_isFastLaunch": false,
    "category": "Accelerated computing",
    "gpuNum": 1,
    "hideHardwareSpecs": false,
    "memoryGiB": 16,
    "name": "ml.g5.xlarge",
    "vcpuNum": 4
   },
   {
    "_defaultOrder": 48,
    "_isFastLaunch": false,
    "category": "Accelerated computing",
    "gpuNum": 1,
    "hideHardwareSpecs": false,
    "memoryGiB": 32,
    "name": "ml.g5.2xlarge",
    "vcpuNum": 8
   },
   {
    "_defaultOrder": 49,
    "_isFastLaunch": false,
    "category": "Accelerated computing",
    "gpuNum": 1,
    "hideHardwareSpecs": false,
    "memoryGiB": 64,
    "name": "ml.g5.4xlarge",
    "vcpuNum": 16
   },
   {
    "_defaultOrder": 50,
    "_isFastLaunch": false,
    "category": "Accelerated computing",
    "gpuNum": 1,
    "hideHardwareSpecs": false,
    "memoryGiB": 128,
    "name": "ml.g5.8xlarge",
    "vcpuNum": 32
   },
   {
    "_defaultOrder": 51,
    "_isFastLaunch": false,
    "category": "Accelerated computing",
    "gpuNum": 1,
    "hideHardwareSpecs": false,
    "memoryGiB": 256,
    "name": "ml.g5.16xlarge",
    "vcpuNum": 64
   },
   {
    "_defaultOrder": 52,
    "_isFastLaunch": false,
    "category": "Accelerated computing",
    "gpuNum": 4,
    "hideHardwareSpecs": false,
    "memoryGiB": 192,
    "name": "ml.g5.12xlarge",
    "vcpuNum": 48
   },
   {
    "_defaultOrder": 53,
    "_isFastLaunch": false,
    "category": "Accelerated computing",
    "gpuNum": 4,
    "hideHardwareSpecs": false,
    "memoryGiB": 384,
    "name": "ml.g5.24xlarge",
    "vcpuNum": 96
   },
   {
    "_defaultOrder": 54,
    "_isFastLaunch": false,
    "category": "Accelerated computing",
    "gpuNum": 8,
    "hideHardwareSpecs": false,
    "memoryGiB": 768,
    "name": "ml.g5.48xlarge",
    "vcpuNum": 192
   },
   {
    "_defaultOrder": 55,
    "_isFastLaunch": false,
    "category": "Accelerated computing",
    "gpuNum": 8,
    "hideHardwareSpecs": false,
    "memoryGiB": 1152,
    "name": "ml.p4d.24xlarge",
    "vcpuNum": 96
   },
   {
    "_defaultOrder": 56,
    "_isFastLaunch": false,
    "category": "Accelerated computing",
    "gpuNum": 8,
    "hideHardwareSpecs": false,
    "memoryGiB": 1152,
    "name": "ml.p4de.24xlarge",
    "vcpuNum": 96
   }
  ],
  "instance_type": "ml.t3.medium",
  "kernelspec": {
   "display_name": "Python 3 (PyTorch 2.0.0 Python 3.10 CPU Optimized)",
   "language": "python",
   "name": "python3__SAGEMAKER_INTERNAL__arn:aws:sagemaker:eu-west-1:470317259841:image/pytorch-2.0.0-cpu-py310"
  },
  "language_info": {
   "codemirror_mode": {
    "name": "ipython",
    "version": 3
   },
   "file_extension": ".py",
   "mimetype": "text/x-python",
   "name": "python",
   "nbconvert_exporter": "python",
   "pygments_lexer": "ipython3",
   "version": "3.10.8"
  }
 },
 "nbformat": 4,
 "nbformat_minor": 5
}
