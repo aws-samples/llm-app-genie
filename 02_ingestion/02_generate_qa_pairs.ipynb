{
 "cells": [
  {
   "cell_type": "markdown",
   "id": "4b3d6ecb-9177-400c-8e70-78977e41ee68",
   "metadata": {
    "tags": []
   },
   "source": [
    "# Question-Answer Generator\n",
    "\n"
   ]
  },
  {
   "cell_type": "markdown",
   "id": "08742b43-3f38-4cb7-a03c-055d6d600242",
   "metadata": {},
   "source": [
    "Auto generate question answering pairs for paragraphs from documents. Evaluate LLM based on synthetic QA pairs."
   ]
  },
  {
   "cell_type": "markdown",
   "id": "e5c2ea18-ea6e-4e22-95d1-207076cc8467",
   "metadata": {},
   "source": [
    "Based on https://github.com/langchain-ai/auto-evaluator/tree/main licensed under Elastic License 2.0 (ELv2)"
   ]
  },
  {
   "cell_type": "code",
   "execution_count": null,
   "id": "3449a26e-5638-4956-bf7e-301ea90b9d11",
   "metadata": {
    "ExecuteTime": {
     "end_time": "2023-08-05T11:29:55.536812Z",
     "start_time": "2023-08-05T11:29:55.363735Z"
    },
    "tags": []
   },
   "outputs": [],
   "source": [
    "!python --version"
   ]
  },
  {
   "cell_type": "code",
   "execution_count": null,
   "id": "2b721721-0aba-471f-b3a9-c71aebc7d074",
   "metadata": {
    "ExecuteTime": {
     "end_time": "2023-08-05T11:29:58.400126Z",
     "start_time": "2023-08-05T11:29:55.776660Z"
    },
    "tags": []
   },
   "outputs": [],
   "source": [
    "!pip install --upgrade sagemaker --quiet"
   ]
  },
  {
   "cell_type": "code",
   "execution_count": null,
   "id": "f83f73e7",
   "metadata": {
    "tags": []
   },
   "outputs": [],
   "source": [
    "import sagemaker\n",
    "import boto3\n",
    "import botocore\n",
    "\n",
    "sess = sagemaker.Session()\n",
    "# sagemaker session bucket -> used for uploading data, models and logs\n",
    "# sagemaker will automatically create this bucket if it not exists\n",
    "sagemaker_session_bucket = None\n",
    "if sagemaker_session_bucket is None and sess is not None:\n",
    "    # set to default bucket if a bucket name is not given\n",
    "    sagemaker_session_bucket = sess.default_bucket()\n",
    "\n",
    "try:\n",
    "    role = sagemaker.get_execution_role()\n",
    "except ValueError:\n",
    "    iam = boto3.client(\"iam\")\n",
    "    role = iam.get_role(RoleName=\"sagemaker_execution_role\")[\"Role\"][\"Arn\"]\n",
    "\n",
    "sess = sagemaker.Session(default_bucket=sagemaker_session_bucket)\n",
    "\n",
    "print(f\"sagemaker role arn: {role}\")\n",
    "print(f\"sagemaker bucket: {sess.default_bucket()}\")\n",
    "print(f\"sagemaker session region: {sess.boto_region_name}\")"
   ]
  },
  {
   "cell_type": "markdown",
   "id": "676b9e29-1fdb-45b3-9fc9-984c8e44940c",
   "metadata": {},
   "source": [
    "## Load documents"
   ]
  },
  {
   "cell_type": "code",
   "execution_count": null,
   "id": "99068d57-0d7d-4dc0-a2dc-8039317ad17e",
   "metadata": {
    "ExecuteTime": {
     "end_time": "2023-08-05T13:58:16.506747Z",
     "start_time": "2023-08-05T13:58:16.259512Z"
    },
    "tags": []
   },
   "outputs": [],
   "source": [
    "s3 = sess.boto_session.resource(\"s3\")\n",
    "bucket_name = \"<YOUR_S3_INPUT_BUCKET_NAME>\"\n",
    "s3_key = \"crawlers/admin-ch/admin_ch_press_releases.json\"\n",
    "output_bucket = \"<YOUR_S3_OUTPUT_BUCKET_NAME>\"\n",
    "s3_output_dataset_key = \"admin_ch_dataset/train\"\n",
    "obj1 = s3.Object(bucket_name, s3_key)\n",
    "jsonfile_content_str = obj1.get()[\"Body\"].read().decode(\"utf-8\")"
   ]
  },
  {
   "cell_type": "code",
   "execution_count": null,
   "id": "6ae55cc7",
   "metadata": {
    "tags": []
   },
   "outputs": [],
   "source": [
    "import json\n",
    "\n",
    "question_answers = json.loads(jsonfile_content_str)"
   ]
  },
  {
   "cell_type": "code",
   "execution_count": null,
   "id": "8a633059",
   "metadata": {
    "tags": []
   },
   "outputs": [],
   "source": [
    "import pandas as pd\n",
    "\n",
    "df_origin = pd.DataFrame.from_dict(question_answers)"
   ]
  },
  {
   "cell_type": "code",
   "execution_count": null,
   "id": "e6412fc0",
   "metadata": {
    "tags": []
   },
   "outputs": [],
   "source": [
    "df_origin.iloc[:1]"
   ]
  },
  {
   "cell_type": "code",
   "execution_count": null,
   "id": "db9ab67c",
   "metadata": {
    "tags": []
   },
   "outputs": [],
   "source": [
    "df = df_origin"
   ]
  },
  {
   "cell_type": "code",
   "execution_count": null,
   "id": "66c0c3bf",
   "metadata": {
    "tags": []
   },
   "outputs": [],
   "source": [
    "dataset_key_to_generate_qa_for = \"paragraphs\"\n",
    "dataset_key_to_generate_qa_for = \"textContent\""
   ]
  },
  {
   "cell_type": "markdown",
   "id": "9094654a-1530-40be-ae73-58f641ff85e3",
   "metadata": {},
   "source": [
    "## Use Falcon"
   ]
  },
  {
   "cell_type": "code",
   "execution_count": null,
   "id": "c9a2759b-3224-45c0-adb8-c97d6ae18050",
   "metadata": {
    "tags": []
   },
   "outputs": [],
   "source": [
    "import boto3\n",
    "import json\n",
    "\n",
    "# Create a low-level client representing Amazon SageMaker Runtime\n",
    "# sagemaker_runtime = boto3.client(\"sagemaker-runtime\", region_name=\"eu-west-1\")\n",
    "\n",
    "# The name of the endpoint. The name must be unique within an AWS Region in your AWS account.\n",
    "endpoint_name = \"falcon-40b-instruct-48xl-5\"\n",
    "\n",
    "# After you deploy a model into production using SageMaker hosting\n",
    "# services, your client applications use this API to get inferences\n",
    "# from the model hosted at the specified endpoint.\n",
    "# response = sagemaker_runtime.invoke_endpoint(\n",
    "#                             EndpointName=endpoint_name,\n",
    "#                             Body=bytes('{\"features\": [\"This is great!\"]}', 'utf-8') # Replace with your own data.\n",
    "#                             )\n",
    "\n",
    "# Optional - Print the response body and decode it so it is human read-able.\n",
    "# print(response['Body'].read().decode('utf-8'))\n",
    "\n",
    "\n",
    "client = boto3.client(\"sagemaker-runtime\")\n",
    "request = {\n",
    "    \"inputs\": \"The first paragraph of the book 'Alice in Wonderland' by Lewis Carroll reads as:\",\n",
    "    \"parameters\": {\"truncation\": True},\n",
    "}\n",
    "\n",
    "response = client.invoke_endpoint(\n",
    "    EndpointName=endpoint_name,\n",
    "    ContentType=\"application/json\",\n",
    "    Accept=\"application/json\",\n",
    "    Body=json.dumps(request),\n",
    ")\n",
    "print(response[\"Body\"].read().decode())"
   ]
  },
  {
   "cell_type": "markdown",
   "id": "0061f45e-841c-485b-92ba-2d2fbe743a16",
   "metadata": {},
   "source": [
    "## Create Prompt to generate question answer pairs"
   ]
  },
  {
   "cell_type": "code",
   "execution_count": null,
   "id": "3b6799d2",
   "metadata": {},
   "outputs": [],
   "source": [
    "number_of_questions_to_generate = 5"
   ]
  },
  {
   "cell_type": "code",
   "execution_count": null,
   "id": "54811d1c",
   "metadata": {
    "tags": []
   },
   "outputs": [],
   "source": [
    "# falcon_prompt = \"\"\"\n",
    "# >>INTRODUCTION<<\n",
    "# {}\n",
    "\n",
    "# Generate a list of \"\"\"+ str(number_of_questions_to_generate) +\"\"\" question and answer pairs for the text.\n",
    "\n",
    "# When coming up with this question/answer pair, you must respond in the following format:\n",
    "# ```\n",
    "# [\\n\"\"\"+(\" {{\\n  \\\"question\\\": \\\"...\\\",\\n  \\\"answer\\\": \\\"...\\\"\\n }},\\n\"*number_of_questions_to_generate)[:-2]+\"\"\"\\n]\n",
    "# ```\n",
    "# Everything between the ``` must be valid json.\n",
    "\n",
    "\n",
    "# Assistant: [\n",
    "# \"\"\""
   ]
  },
  {
   "cell_type": "code",
   "execution_count": null,
   "id": "3bba12f2-6b95-4892-80cc-78e0647bf93a",
   "metadata": {
    "tags": []
   },
   "outputs": [],
   "source": [
    "# falcon_prompt"
   ]
  },
  {
   "cell_type": "code",
   "execution_count": null,
   "id": "7a4990f4",
   "metadata": {},
   "outputs": [],
   "source": [
    "# prompt_response_format = \"\"\"\n",
    "# The JSON result should be inside <format></format> XML tag.\n",
    "# <format>\n",
    "# [\n",
    "#  {{\n",
    "#   \\\"question\\\": \\\"...\\\",\n",
    "#   \\\"answer\\\": \\\"...\\\"\n",
    "#  }},\n",
    "#  {{\n",
    "#   \\\"question\\\": \\\"...\\\",\n",
    "#   \\\"answer\\\": \\\"...\\\"\n",
    "#  }},\n",
    "#  ...\n",
    "# ]\n",
    "\n",
    "# </format>\n",
    "\n",
    "# Text:\n",
    "# {}\n",
    "\n",
    "\n",
    "# Assistant: Here is a list of \"\"\" + str(number_of_questions_to_generate) +\"\"\" question and answer pairs extracted from the text: [\"\"\"\n",
    "\n",
    "# prompts = [\n",
    "\n",
    "#     \"\"\"Human: Generate a list of \"\"\" + str(number_of_questions_to_generate) +\"\"\" question and answer pairs for the following text.\"\"\" + prompt_response_format,\n",
    "#     \"\"\"Human: You are a smart assistant designed to help high school teachers come up with reading comprehension questions.\n",
    "# Given a piece of text, you must come up with a question and answer pair that can be used to test a student's reading comprehension abilities.\n",
    "# Generate a list of \"\"\" + str(number_of_questions_to_generate) +\"\"\" question and answer pairs for the following text.\"\"\" + prompt_response_format\n",
    "# ]"
   ]
  },
  {
   "cell_type": "code",
   "execution_count": null,
   "id": "a598f544",
   "metadata": {},
   "outputs": [],
   "source": [
    "falcon_kwargs = {\n",
    "    \"parameters\": {\n",
    "        \"do_sample\": True,\n",
    "        \"top_p\": 0.95,\n",
    "        \"temperature\": 0.1,\n",
    "        \"top_k\": 50,\n",
    "        \"max_new_tokens\": 1000,\n",
    "        \"repetition_penalty\": 1.03,\n",
    "        \"stop\": [\"<|end|>\", \"<|endoftext|>\", \"]\"],\n",
    "    }\n",
    "}"
   ]
  },
  {
   "cell_type": "code",
   "execution_count": null,
   "id": "6bbda300-35d7-4fd8-b87e-ddfe53cb0e20",
   "metadata": {
    "ExecuteTime": {
     "end_time": "2023-08-05T14:09:59.008358Z",
     "start_time": "2023-08-05T14:09:51.485047Z"
    },
    "tags": []
   },
   "outputs": [],
   "source": [
    "import json\n",
    "\n",
    "\n",
    "def run_llm(text):\n",
    "    # prompt_template = prompts[0]\n",
    "    falcon_prompt = (\n",
    "        f\"\"\"\n",
    "    >>INTRODUCTION<<\n",
    "    {text}\n",
    "\n",
    "    Generate a list of \"\"\"\n",
    "        + str(number_of_questions_to_generate)\n",
    "        + \"\"\" question and answer pairs for the text.\n",
    "\n",
    "    When coming up with this question/answer pair, you must respond in the following format:\n",
    "    ```\n",
    "    [\\n\"\"\"\n",
    "        + (\n",
    "            ' {{\\n  \"question\": \"...\",\\n  \"answer\": \"...\"\\n }},\\n'\n",
    "            * number_of_questions_to_generate\n",
    "        )[:-2]\n",
    "        + \"\"\"\\n]\n",
    "    ```\n",
    "    Everything between the ``` must be valid json.\n",
    "\n",
    "\n",
    "\n",
    "    Assistant: [\n",
    "    \"\"\"\n",
    "    )\n",
    "\n",
    "    prompt_template = falcon_prompt\n",
    "\n",
    "    # parameters = {\n",
    "    #     \"max_tokens_to_sample\": 600,\n",
    "    # # \"temperature\": 1,\n",
    "    # # \"top_k\": 250,\n",
    "    # # \"top_p\": 0.999,\n",
    "    # \"stop_sequences\": [\"\\\\n\\\\nHuman:\", \"</format>\",\"<format>\", \"<paragraphs>\",\"[\",\"]\"],\n",
    "    #     }\n",
    "    prompt_data = prompt_template.format(text)\n",
    "    prompt_data = falcon_prompt\n",
    "    # print(\"------START-PROMPT-DATA---------------------\")\n",
    "    # # print(prompt_data)\n",
    "    body = json.dumps({\"inputs\": prompt_data, **falcon_kwargs})\n",
    "    # print(\"------END-PROMPT-DATA---------------------\")\n",
    "    # print(body)\n",
    "    # print(\"------END-BODY---------------------\")\n",
    "    # modelId = 'anthropic.claude-v2' # change this to use a different version from the model provider\n",
    "    accept = \"application/json\"\n",
    "    contentType = \"application/json\"\n",
    "\n",
    "    # response = bedrock.invoke_model(body=body, modelId=modelId, accept=accept, contentType=contentType)\n",
    "    # response_body = json.loads(response.get('body').read())\n",
    "    # return \"[\"+response_body.get('completion')+\"]\"\n",
    "    response = client.invoke_endpoint(\n",
    "        EndpointName=endpoint_name,\n",
    "        ContentType=contentType,\n",
    "        Accept=accept,\n",
    "        # Body=json.dumps(request),\n",
    "        Body=body,\n",
    "    )\n",
    "    return response[\"Body\"].read().decode()\n",
    "\n",
    "\n",
    "res = run_llm(df[dataset_key_to_generate_qa_for][4])\n",
    "print(json.loads(res))"
   ]
  },
  {
   "cell_type": "code",
   "execution_count": null,
   "id": "dbbbafdf-dc97-44a9-9eae-814bb3f69af4",
   "metadata": {
    "tags": []
   },
   "outputs": [],
   "source": [
    "print(json.loads(res)[0][\"generated_text\"])"
   ]
  },
  {
   "cell_type": "code",
   "execution_count": null,
   "id": "3bf8314a",
   "metadata": {
    "ExecuteTime": {
     "end_time": "2023-08-05T14:10:14.009456Z",
     "start_time": "2023-08-05T14:10:14.006631Z"
    },
    "collapsed": false,
    "jupyter": {
     "outputs_hidden": false
    },
    "tags": []
   },
   "outputs": [],
   "source": [
    "# initial the column where the list of qa pairs has to be stored\n",
    "df[\"qa_pairs\"] = None"
   ]
  },
  {
   "cell_type": "code",
   "execution_count": null,
   "id": "1f92551d-5217-48f3-86c0-38307ebf827d",
   "metadata": {
    "ExecuteTime": {
     "end_time": "2023-08-05T16:35:48.255186Z",
     "start_time": "2023-08-05T16:01:48.386935Z"
    },
    "tags": []
   },
   "outputs": [],
   "source": [
    "import time\n",
    "from json import JSONDecodeError\n",
    "import tqdm\n",
    "import json\n",
    "\n",
    "for i in tqdm.tqdm(range(df.shape[0])):\n",
    "    current_res = df[\"qa_pairs\"].values[i]\n",
    "    if current_res is None or len(current_res) == 0:\n",
    "        row = df.iloc[i]\n",
    "        paragraph = row[dataset_key_to_generate_qa_for]\n",
    "\n",
    "        try:\n",
    "            qa_pairs = run_llm(paragraph)\n",
    "            list_pairs = json.loads(qa_pairs)\n",
    "            df[\"qa_pairs\"].values[i] = list_pairs\n",
    "            # time.sleep(12)\n",
    "            time.sleep(1)\n",
    "        except Exception as e:\n",
    "            # print(\"------------------------\")\n",
    "            # print(qa_pairs)\n",
    "            print(\"------------------------\")\n",
    "            print(e)\n",
    "            print(\"------------------------\")\n",
    "            print(\"Sleeping\")\n",
    "            # time.sleep(12)\n",
    "            time.sleep(1)\n",
    "            df[\"qa_pairs\"].values[i] = []\n",
    "    else:\n",
    "        print(f\"Skipping row: {str(i)}\")\n",
    "        continue\n",
    "\n",
    "\n",
    "print(len(df[\"qa_pairs\"]))"
   ]
  },
  {
   "cell_type": "code",
   "execution_count": null,
   "id": "25116833",
   "metadata": {
    "collapsed": false,
    "jupyter": {
     "outputs_hidden": false
    },
    "tags": []
   },
   "outputs": [],
   "source": [
    "# show rows for which qa generation did not succeed\n",
    "df[df[\"qa_pairs\"].apply(lambda x: True if x is None or len(x) == 0 else False)]"
   ]
  },
  {
   "cell_type": "code",
   "execution_count": null,
   "id": "580491fe",
   "metadata": {
    "ExecuteTime": {
     "end_time": "2023-08-05T15:55:52.219197Z",
     "start_time": "2023-08-05T15:55:52.213844Z"
    },
    "collapsed": false,
    "jupyter": {
     "outputs_hidden": false
    },
    "tags": []
   },
   "outputs": [],
   "source": [
    "df[\"qa_pairs\"]"
   ]
  },
  {
   "cell_type": "code",
   "execution_count": null,
   "id": "a5926799",
   "metadata": {
    "tags": []
   },
   "outputs": [],
   "source": [
    "df.iloc[:4]"
   ]
  },
  {
   "cell_type": "code",
   "execution_count": null,
   "id": "0b9d8c0b",
   "metadata": {
    "tags": []
   },
   "outputs": [],
   "source": [
    "df_clean = df.explode(\"qa_pairs\")\n",
    "df_clean = df_clean[df_clean[\"qa_pairs\"].notna()]\n",
    "df_clean.reset_index(drop=True, inplace=True)\n",
    "df_clean = df_clean.join(pd.json_normalize(df_clean.qa_pairs))\n",
    "df_clean.drop(\"qa_pairs\", axis=1, inplace=True)"
   ]
  },
  {
   "cell_type": "code",
   "execution_count": null,
   "id": "b23dd29e",
   "metadata": {
    "tags": []
   },
   "outputs": [],
   "source": [
    "df_clean.iloc[:1]"
   ]
  },
  {
   "cell_type": "code",
   "execution_count": null,
   "id": "0fe45937",
   "metadata": {
    "tags": []
   },
   "outputs": [],
   "source": [
    "df = df_clean"
   ]
  },
  {
   "cell_type": "markdown",
   "id": "75a3cd11",
   "metadata": {},
   "source": [
    "## Prepare input"
   ]
  },
  {
   "cell_type": "code",
   "execution_count": null,
   "id": "60f76b78",
   "metadata": {
    "tags": []
   },
   "outputs": [],
   "source": [
    "import numpy as np"
   ]
  },
  {
   "cell_type": "code",
   "execution_count": null,
   "id": "a1d63efb",
   "metadata": {
    "tags": []
   },
   "outputs": [],
   "source": [
    "intro = pd.Series(\n",
    "    np.full(df.shape[0], fill_value=\"The conversation between human and AI assistant.\")\n",
    ")\n",
    "human_tag = pd.Series(np.full(df.shape[0], fill_value=\"\\n[|Human|] \"))\n",
    "ai_tag = pd.Series(np.full(df.shape[0], fill_value=\"\\n[|AI|] \"))"
   ]
  },
  {
   "cell_type": "code",
   "execution_count": null,
   "id": "82975804-813b-4388-8810-a743a78ff370",
   "metadata": {
    "tags": []
   },
   "outputs": [],
   "source": [
    "df.head(5)"
   ]
  },
  {
   "cell_type": "code",
   "execution_count": null,
   "id": "ebde3829",
   "metadata": {
    "tags": []
   },
   "outputs": [],
   "source": [
    "df[\"input\"] = intro + human_tag + df[\"question\"] + ai_tag + df[\"answer\"] + human_tag"
   ]
  },
  {
   "cell_type": "code",
   "execution_count": null,
   "id": "584adece",
   "metadata": {
    "tags": []
   },
   "outputs": [],
   "source": [
    "df[\"input\"][1]"
   ]
  },
  {
   "cell_type": "code",
   "execution_count": null,
   "id": "167d3b44",
   "metadata": {
    "tags": []
   },
   "outputs": [],
   "source": [
    "len(df)"
   ]
  },
  {
   "cell_type": "code",
   "execution_count": null,
   "id": "26db24e2",
   "metadata": {},
   "outputs": [],
   "source": [
    "df = df.drop_duplicates(subset=[\"input\"])"
   ]
  },
  {
   "cell_type": "code",
   "execution_count": null,
   "id": "67305e63",
   "metadata": {},
   "outputs": [],
   "source": [
    "len(df)"
   ]
  },
  {
   "cell_type": "markdown",
   "id": "8978b641",
   "metadata": {},
   "source": [
    "## Store dataset"
   ]
  },
  {
   "cell_type": "markdown",
   "id": "73358832",
   "metadata": {},
   "source": [
    "!pip install datasets[s3]"
   ]
  },
  {
   "cell_type": "code",
   "execution_count": null,
   "id": "cd117720",
   "metadata": {},
   "outputs": [],
   "source": [
    "from datasets import Dataset\n",
    "\n",
    "dataset = Dataset.from_pandas(df)\n",
    "\n",
    "dataset = dataset.train_test_split(test_size=0.1, seed=2303)\n",
    "dataset"
   ]
  },
  {
   "cell_type": "code",
   "execution_count": null,
   "id": "54da8a1e",
   "metadata": {},
   "outputs": [],
   "source": [
    "from datasets.filesystems import S3FileSystem\n",
    "\n",
    "session = botocore.session.get_session()\n",
    "s3 = S3FileSystem(session=session)"
   ]
  },
  {
   "cell_type": "code",
   "execution_count": null,
   "id": "a125761f",
   "metadata": {},
   "outputs": [],
   "source": [
    "dataset.save_to_disk(\n",
    "    f\"s3://{output_bucket}/{s3_output_dataset_key}\", storage_options=s3.storage_options\n",
    ")"
   ]
  }
 ],
 "metadata": {
  "availableInstances": [
   {
    "_defaultOrder": 0,
    "_isFastLaunch": true,
    "category": "General purpose",
    "gpuNum": 0,
    "hideHardwareSpecs": false,
    "memoryGiB": 4,
    "name": "ml.t3.medium",
    "vcpuNum": 2
   },
   {
    "_defaultOrder": 1,
    "_isFastLaunch": false,
    "category": "General purpose",
    "gpuNum": 0,
    "hideHardwareSpecs": false,
    "memoryGiB": 8,
    "name": "ml.t3.large",
    "vcpuNum": 2
   },
   {
    "_defaultOrder": 2,
    "_isFastLaunch": false,
    "category": "General purpose",
    "gpuNum": 0,
    "hideHardwareSpecs": false,
    "memoryGiB": 16,
    "name": "ml.t3.xlarge",
    "vcpuNum": 4
   },
   {
    "_defaultOrder": 3,
    "_isFastLaunch": false,
    "category": "General purpose",
    "gpuNum": 0,
    "hideHardwareSpecs": false,
    "memoryGiB": 32,
    "name": "ml.t3.2xlarge",
    "vcpuNum": 8
   },
   {
    "_defaultOrder": 4,
    "_isFastLaunch": true,
    "category": "General purpose",
    "gpuNum": 0,
    "hideHardwareSpecs": false,
    "memoryGiB": 8,
    "name": "ml.m5.large",
    "vcpuNum": 2
   },
   {
    "_defaultOrder": 5,
    "_isFastLaunch": false,
    "category": "General purpose",
    "gpuNum": 0,
    "hideHardwareSpecs": false,
    "memoryGiB": 16,
    "name": "ml.m5.xlarge",
    "vcpuNum": 4
   },
   {
    "_defaultOrder": 6,
    "_isFastLaunch": false,
    "category": "General purpose",
    "gpuNum": 0,
    "hideHardwareSpecs": false,
    "memoryGiB": 32,
    "name": "ml.m5.2xlarge",
    "vcpuNum": 8
   },
   {
    "_defaultOrder": 7,
    "_isFastLaunch": false,
    "category": "General purpose",
    "gpuNum": 0,
    "hideHardwareSpecs": false,
    "memoryGiB": 64,
    "name": "ml.m5.4xlarge",
    "vcpuNum": 16
   },
   {
    "_defaultOrder": 8,
    "_isFastLaunch": false,
    "category": "General purpose",
    "gpuNum": 0,
    "hideHardwareSpecs": false,
    "memoryGiB": 128,
    "name": "ml.m5.8xlarge",
    "vcpuNum": 32
   },
   {
    "_defaultOrder": 9,
    "_isFastLaunch": false,
    "category": "General purpose",
    "gpuNum": 0,
    "hideHardwareSpecs": false,
    "memoryGiB": 192,
    "name": "ml.m5.12xlarge",
    "vcpuNum": 48
   },
   {
    "_defaultOrder": 10,
    "_isFastLaunch": false,
    "category": "General purpose",
    "gpuNum": 0,
    "hideHardwareSpecs": false,
    "memoryGiB": 256,
    "name": "ml.m5.16xlarge",
    "vcpuNum": 64
   },
   {
    "_defaultOrder": 11,
    "_isFastLaunch": false,
    "category": "General purpose",
    "gpuNum": 0,
    "hideHardwareSpecs": false,
    "memoryGiB": 384,
    "name": "ml.m5.24xlarge",
    "vcpuNum": 96
   },
   {
    "_defaultOrder": 12,
    "_isFastLaunch": false,
    "category": "General purpose",
    "gpuNum": 0,
    "hideHardwareSpecs": false,
    "memoryGiB": 8,
    "name": "ml.m5d.large",
    "vcpuNum": 2
   },
   {
    "_defaultOrder": 13,
    "_isFastLaunch": false,
    "category": "General purpose",
    "gpuNum": 0,
    "hideHardwareSpecs": false,
    "memoryGiB": 16,
    "name": "ml.m5d.xlarge",
    "vcpuNum": 4
   },
   {
    "_defaultOrder": 14,
    "_isFastLaunch": false,
    "category": "General purpose",
    "gpuNum": 0,
    "hideHardwareSpecs": false,
    "memoryGiB": 32,
    "name": "ml.m5d.2xlarge",
    "vcpuNum": 8
   },
   {
    "_defaultOrder": 15,
    "_isFastLaunch": false,
    "category": "General purpose",
    "gpuNum": 0,
    "hideHardwareSpecs": false,
    "memoryGiB": 64,
    "name": "ml.m5d.4xlarge",
    "vcpuNum": 16
   },
   {
    "_defaultOrder": 16,
    "_isFastLaunch": false,
    "category": "General purpose",
    "gpuNum": 0,
    "hideHardwareSpecs": false,
    "memoryGiB": 128,
    "name": "ml.m5d.8xlarge",
    "vcpuNum": 32
   },
   {
    "_defaultOrder": 17,
    "_isFastLaunch": false,
    "category": "General purpose",
    "gpuNum": 0,
    "hideHardwareSpecs": false,
    "memoryGiB": 192,
    "name": "ml.m5d.12xlarge",
    "vcpuNum": 48
   },
   {
    "_defaultOrder": 18,
    "_isFastLaunch": false,
    "category": "General purpose",
    "gpuNum": 0,
    "hideHardwareSpecs": false,
    "memoryGiB": 256,
    "name": "ml.m5d.16xlarge",
    "vcpuNum": 64
   },
   {
    "_defaultOrder": 19,
    "_isFastLaunch": false,
    "category": "General purpose",
    "gpuNum": 0,
    "hideHardwareSpecs": false,
    "memoryGiB": 384,
    "name": "ml.m5d.24xlarge",
    "vcpuNum": 96
   },
   {
    "_defaultOrder": 20,
    "_isFastLaunch": false,
    "category": "General purpose",
    "gpuNum": 0,
    "hideHardwareSpecs": true,
    "memoryGiB": 0,
    "name": "ml.geospatial.interactive",
    "supportedImageNames": [
     "sagemaker-geospatial-v1-0"
    ],
    "vcpuNum": 0
   },
   {
    "_defaultOrder": 21,
    "_isFastLaunch": true,
    "category": "Compute optimized",
    "gpuNum": 0,
    "hideHardwareSpecs": false,
    "memoryGiB": 4,
    "name": "ml.c5.large",
    "vcpuNum": 2
   },
   {
    "_defaultOrder": 22,
    "_isFastLaunch": false,
    "category": "Compute optimized",
    "gpuNum": 0,
    "hideHardwareSpecs": false,
    "memoryGiB": 8,
    "name": "ml.c5.xlarge",
    "vcpuNum": 4
   },
   {
    "_defaultOrder": 23,
    "_isFastLaunch": false,
    "category": "Compute optimized",
    "gpuNum": 0,
    "hideHardwareSpecs": false,
    "memoryGiB": 16,
    "name": "ml.c5.2xlarge",
    "vcpuNum": 8
   },
   {
    "_defaultOrder": 24,
    "_isFastLaunch": false,
    "category": "Compute optimized",
    "gpuNum": 0,
    "hideHardwareSpecs": false,
    "memoryGiB": 32,
    "name": "ml.c5.4xlarge",
    "vcpuNum": 16
   },
   {
    "_defaultOrder": 25,
    "_isFastLaunch": false,
    "category": "Compute optimized",
    "gpuNum": 0,
    "hideHardwareSpecs": false,
    "memoryGiB": 72,
    "name": "ml.c5.9xlarge",
    "vcpuNum": 36
   },
   {
    "_defaultOrder": 26,
    "_isFastLaunch": false,
    "category": "Compute optimized",
    "gpuNum": 0,
    "hideHardwareSpecs": false,
    "memoryGiB": 96,
    "name": "ml.c5.12xlarge",
    "vcpuNum": 48
   },
   {
    "_defaultOrder": 27,
    "_isFastLaunch": false,
    "category": "Compute optimized",
    "gpuNum": 0,
    "hideHardwareSpecs": false,
    "memoryGiB": 144,
    "name": "ml.c5.18xlarge",
    "vcpuNum": 72
   },
   {
    "_defaultOrder": 28,
    "_isFastLaunch": false,
    "category": "Compute optimized",
    "gpuNum": 0,
    "hideHardwareSpecs": false,
    "memoryGiB": 192,
    "name": "ml.c5.24xlarge",
    "vcpuNum": 96
   },
   {
    "_defaultOrder": 29,
    "_isFastLaunch": true,
    "category": "Accelerated computing",
    "gpuNum": 1,
    "hideHardwareSpecs": false,
    "memoryGiB": 16,
    "name": "ml.g4dn.xlarge",
    "vcpuNum": 4
   },
   {
    "_defaultOrder": 30,
    "_isFastLaunch": false,
    "category": "Accelerated computing",
    "gpuNum": 1,
    "hideHardwareSpecs": false,
    "memoryGiB": 32,
    "name": "ml.g4dn.2xlarge",
    "vcpuNum": 8
   },
   {
    "_defaultOrder": 31,
    "_isFastLaunch": false,
    "category": "Accelerated computing",
    "gpuNum": 1,
    "hideHardwareSpecs": false,
    "memoryGiB": 64,
    "name": "ml.g4dn.4xlarge",
    "vcpuNum": 16
   },
   {
    "_defaultOrder": 32,
    "_isFastLaunch": false,
    "category": "Accelerated computing",
    "gpuNum": 1,
    "hideHardwareSpecs": false,
    "memoryGiB": 128,
    "name": "ml.g4dn.8xlarge",
    "vcpuNum": 32
   },
   {
    "_defaultOrder": 33,
    "_isFastLaunch": false,
    "category": "Accelerated computing",
    "gpuNum": 4,
    "hideHardwareSpecs": false,
    "memoryGiB": 192,
    "name": "ml.g4dn.12xlarge",
    "vcpuNum": 48
   },
   {
    "_defaultOrder": 34,
    "_isFastLaunch": false,
    "category": "Accelerated computing",
    "gpuNum": 1,
    "hideHardwareSpecs": false,
    "memoryGiB": 256,
    "name": "ml.g4dn.16xlarge",
    "vcpuNum": 64
   },
   {
    "_defaultOrder": 35,
    "_isFastLaunch": false,
    "category": "Accelerated computing",
    "gpuNum": 1,
    "hideHardwareSpecs": false,
    "memoryGiB": 61,
    "name": "ml.p3.2xlarge",
    "vcpuNum": 8
   },
   {
    "_defaultOrder": 36,
    "_isFastLaunch": false,
    "category": "Accelerated computing",
    "gpuNum": 4,
    "hideHardwareSpecs": false,
    "memoryGiB": 244,
    "name": "ml.p3.8xlarge",
    "vcpuNum": 32
   },
   {
    "_defaultOrder": 37,
    "_isFastLaunch": false,
    "category": "Accelerated computing",
    "gpuNum": 8,
    "hideHardwareSpecs": false,
    "memoryGiB": 488,
    "name": "ml.p3.16xlarge",
    "vcpuNum": 64
   },
   {
    "_defaultOrder": 38,
    "_isFastLaunch": false,
    "category": "Accelerated computing",
    "gpuNum": 8,
    "hideHardwareSpecs": false,
    "memoryGiB": 768,
    "name": "ml.p3dn.24xlarge",
    "vcpuNum": 96
   },
   {
    "_defaultOrder": 39,
    "_isFastLaunch": false,
    "category": "Memory Optimized",
    "gpuNum": 0,
    "hideHardwareSpecs": false,
    "memoryGiB": 16,
    "name": "ml.r5.large",
    "vcpuNum": 2
   },
   {
    "_defaultOrder": 40,
    "_isFastLaunch": false,
    "category": "Memory Optimized",
    "gpuNum": 0,
    "hideHardwareSpecs": false,
    "memoryGiB": 32,
    "name": "ml.r5.xlarge",
    "vcpuNum": 4
   },
   {
    "_defaultOrder": 41,
    "_isFastLaunch": false,
    "category": "Memory Optimized",
    "gpuNum": 0,
    "hideHardwareSpecs": false,
    "memoryGiB": 64,
    "name": "ml.r5.2xlarge",
    "vcpuNum": 8
   },
   {
    "_defaultOrder": 42,
    "_isFastLaunch": false,
    "category": "Memory Optimized",
    "gpuNum": 0,
    "hideHardwareSpecs": false,
    "memoryGiB": 128,
    "name": "ml.r5.4xlarge",
    "vcpuNum": 16
   },
   {
    "_defaultOrder": 43,
    "_isFastLaunch": false,
    "category": "Memory Optimized",
    "gpuNum": 0,
    "hideHardwareSpecs": false,
    "memoryGiB": 256,
    "name": "ml.r5.8xlarge",
    "vcpuNum": 32
   },
   {
    "_defaultOrder": 44,
    "_isFastLaunch": false,
    "category": "Memory Optimized",
    "gpuNum": 0,
    "hideHardwareSpecs": false,
    "memoryGiB": 384,
    "name": "ml.r5.12xlarge",
    "vcpuNum": 48
   },
   {
    "_defaultOrder": 45,
    "_isFastLaunch": false,
    "category": "Memory Optimized",
    "gpuNum": 0,
    "hideHardwareSpecs": false,
    "memoryGiB": 512,
    "name": "ml.r5.16xlarge",
    "vcpuNum": 64
   },
   {
    "_defaultOrder": 46,
    "_isFastLaunch": false,
    "category": "Memory Optimized",
    "gpuNum": 0,
    "hideHardwareSpecs": false,
    "memoryGiB": 768,
    "name": "ml.r5.24xlarge",
    "vcpuNum": 96
   },
   {
    "_defaultOrder": 47,
    "_isFastLaunch": false,
    "category": "Accelerated computing",
    "gpuNum": 1,
    "hideHardwareSpecs": false,
    "memoryGiB": 16,
    "name": "ml.g5.xlarge",
    "vcpuNum": 4
   },
   {
    "_defaultOrder": 48,
    "_isFastLaunch": false,
    "category": "Accelerated computing",
    "gpuNum": 1,
    "hideHardwareSpecs": false,
    "memoryGiB": 32,
    "name": "ml.g5.2xlarge",
    "vcpuNum": 8
   },
   {
    "_defaultOrder": 49,
    "_isFastLaunch": false,
    "category": "Accelerated computing",
    "gpuNum": 1,
    "hideHardwareSpecs": false,
    "memoryGiB": 64,
    "name": "ml.g5.4xlarge",
    "vcpuNum": 16
   },
   {
    "_defaultOrder": 50,
    "_isFastLaunch": false,
    "category": "Accelerated computing",
    "gpuNum": 1,
    "hideHardwareSpecs": false,
    "memoryGiB": 128,
    "name": "ml.g5.8xlarge",
    "vcpuNum": 32
   },
   {
    "_defaultOrder": 51,
    "_isFastLaunch": false,
    "category": "Accelerated computing",
    "gpuNum": 1,
    "hideHardwareSpecs": false,
    "memoryGiB": 256,
    "name": "ml.g5.16xlarge",
    "vcpuNum": 64
   },
   {
    "_defaultOrder": 52,
    "_isFastLaunch": false,
    "category": "Accelerated computing",
    "gpuNum": 4,
    "hideHardwareSpecs": false,
    "memoryGiB": 192,
    "name": "ml.g5.12xlarge",
    "vcpuNum": 48
   },
   {
    "_defaultOrder": 53,
    "_isFastLaunch": false,
    "category": "Accelerated computing",
    "gpuNum": 4,
    "hideHardwareSpecs": false,
    "memoryGiB": 384,
    "name": "ml.g5.24xlarge",
    "vcpuNum": 96
   },
   {
    "_defaultOrder": 54,
    "_isFastLaunch": false,
    "category": "Accelerated computing",
    "gpuNum": 8,
    "hideHardwareSpecs": false,
    "memoryGiB": 768,
    "name": "ml.g5.48xlarge",
    "vcpuNum": 192
   },
   {
    "_defaultOrder": 55,
    "_isFastLaunch": false,
    "category": "Accelerated computing",
    "gpuNum": 8,
    "hideHardwareSpecs": false,
    "memoryGiB": 1152,
    "name": "ml.p4d.24xlarge",
    "vcpuNum": 96
   },
   {
    "_defaultOrder": 56,
    "_isFastLaunch": false,
    "category": "Accelerated computing",
    "gpuNum": 8,
    "hideHardwareSpecs": false,
    "memoryGiB": 1152,
    "name": "ml.p4de.24xlarge",
    "vcpuNum": 96
   }
  ],
  "instance_type": "ml.t3.medium",
  "kernelspec": {
   "display_name": "Python 3 (PyTorch 2.0.0 Python 3.10 CPU Optimized)",
   "language": "python",
   "name": "python3__SAGEMAKER_INTERNAL__arn:aws:sagemaker:eu-west-1:470317259841:image/pytorch-2.0.0-cpu-py310"
  },
  "language_info": {
   "codemirror_mode": {
    "name": "ipython",
    "version": 3
   },
   "file_extension": ".py",
   "mimetype": "text/x-python",
   "name": "python",
   "nbconvert_exporter": "python",
   "pygments_lexer": "ipython3",
   "version": "3.10.8"
  }
 },
 "nbformat": 4,
 "nbformat_minor": 5
}
