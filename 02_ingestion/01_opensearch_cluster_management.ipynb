{
 "cells": [
  {
   "cell_type": "markdown",
   "id": "1213cc10-1050-45da-aafe-cfa762ee5a0f",
   "metadata": {
    "tags": []
   },
   "source": [
    "## Create OpenSearch client"
   ]
  },
  {
   "cell_type": "code",
   "execution_count": 6,
   "id": "c9a387f1-557b-4a45-97d0-1a59079daca4",
   "metadata": {
    "tags": []
   },
   "outputs": [],
   "source": [
    "import boto3\n",
    "from botocore.config import Config\n",
    "import json\n",
    "\n",
    "config = Config(region_name=\"eu-west-1\")\n",
    "\n",
    "client = boto3.client(\"opensearch\", config=config)\n",
    "\n",
    "os_domain_name = \"os-genai-accelerator\"  # opensearch domain name\n",
    "os_index_name = \"admin-ch-pressreleases-en\"  # opensearch index\n",
    "\n",
    "\n",
    "def get_credentials(secret_id: str, region_name: str) -> str:\n",
    "    client = boto3.client(\"secretsmanager\", region_name=region_name)\n",
    "    response = client.get_secret_value(SecretId=secret_id)\n",
    "    secrets_value = json.loads(response[\"SecretString\"])\n",
    "    return secrets_value\n",
    "\n",
    "\n",
    "# getting OpenSearch credentials\n",
    "user = get_credentials(\"opensearch_pw\", \"eu-west-1\")[\"user\"]\n",
    "secret = get_credentials(\"opensearch_pw\", \"eu-west-1\")[\"password\"]\n",
    "os_http_auth = (user, secret)"
   ]
  },
  {
   "cell_type": "markdown",
   "id": "5f55ec7f-6145-4c87-ae2e-4daa7d457279",
   "metadata": {
    "tags": []
   },
   "source": [
    "# Amazon OpenSearch Service Domain Operations\n",
    "\n",
    "This script involves two key functions: `createDomain()` and `waitForDomainProcessing()`.\n",
    "\n",
    "## createDomain()\n",
    "This function is used to create an Amazon OpenSearch Service domain.\n",
    "\n",
    "```python\n",
    "def createDomain(client, domainName):\n",
    "    \"\"\"Creates an Amazon OpenSearch Service domain with the specified options.\"\"\"\n",
    "    # code\n",
    "```\n",
    "\n",
    "    \n",
    "## waitForDomainProcessing()\n",
    "This function is used to check the status of the domain until it's no longer processing.\n",
    "It checks every 30 seconds to see if the domain is still processing any changes. Once the domain is done processing, it prints out a message stating that the changes have finished processing and outputs the domain's description.\n",
    "\n",
    "```python\n",
    "def waitForDomainProcessing(client, domainName):\n",
    "    \"\"\"Waits for the domain to finish processing changes.\"\"\"\n",
    "    # code\n",
    "```\n",
    "    \n",
    "- **client**: The AWS client for performing OpenSearch operations.\n",
    "- **domainName**: The name of the OpenSearch domain whose status is being checked."
   ]
  },
  {
   "cell_type": "code",
   "execution_count": 7,
   "id": "b9298d98-511b-4c6f-8793-c62dfb2f4624",
   "metadata": {
    "tags": []
   },
   "outputs": [],
   "source": [
    "# full documentation: https://boto3.amazonaws.com/v1/documentation/api/latest/reference/services/opensearch/client/create_domain.html\n",
    "def createDomain(client, domainName):\n",
    "    \"\"\"Creates an Amazon OpenSearch Service domain with the specified options.\"\"\"\n",
    "    response = client.create_domain(\n",
    "        DomainName=domainName,\n",
    "        EngineVersion=\"OpenSearch_2.7\",\n",
    "        ClusterConfig={\n",
    "            \"InstanceType\": \"t3.medium.search\",\n",
    "            \"InstanceCount\": 1,\n",
    "            \"DedicatedMasterEnabled\": False,\n",
    "        },\n",
    "        EBSOptions={\"EBSEnabled\": True, \"VolumeType\": \"gp2\", \"VolumeSize\": 100},\n",
    "        AccessPolicies='{\"Version\":\"2012-10-17\",\"Statement\":[{\"Effect\":\"Allow\",\"Principal\":{\"AWS\": \"*\"},\"Action\":\"es:*\",\"Resource\":\"arn:aws:es:eu-west-1:843197046435:domain/'\n",
    "        + os_domain_name\n",
    "        + '/*\"}]}',\n",
    "        EncryptionAtRestOptions={\n",
    "            \"Enabled\": True,\n",
    "        },\n",
    "        DomainEndpointOptions={\n",
    "            \"EnforceHTTPS\": True,\n",
    "        },\n",
    "        NodeToNodeEncryptionOptions={\"Enabled\": True},\n",
    "        AdvancedSecurityOptions={\n",
    "            \"Enabled\": True,\n",
    "            \"InternalUserDatabaseEnabled\": True,\n",
    "            \"MasterUserOptions\": {\"MasterUserName\": user, \"MasterUserPassword\": secret},\n",
    "        },\n",
    "    )\n",
    "    return response\n",
    "\n",
    "\n",
    "def waitForDomainProcessing(client, domainName):\n",
    "    \"\"\"Waits for the domain to finish processing changes.\"\"\"\n",
    "    try:\n",
    "        response = client.describe_domain(DomainName=domainName)\n",
    "        # Every 60 seconds, check whether the domain is processing.\n",
    "        while response[\"DomainStatus\"][\"Processing\"] == True:\n",
    "            print(\"Domain still processing...\")\n",
    "            time.sleep(60)\n",
    "            response = client.describe_domain(DomainName=domainName)\n",
    "\n",
    "        # Once we exit the loop, the domain is available.\n",
    "        print(\n",
    "            \"Amazon OpenSearch Service has finished processing changes for your domain.\"\n",
    "        )\n",
    "        print(\"Domain description:\")\n",
    "        print(response)\n",
    "        return response\n",
    "\n",
    "    except botocore.exceptions.ClientError as error:\n",
    "        if error.response[\"Error\"][\"Code\"] == \"ResourceNotFoundException\":\n",
    "            print(\"Domain not found. Please check the domain name.\")\n",
    "        else:\n",
    "            raise error"
   ]
  },
  {
   "cell_type": "markdown",
   "id": "f276d2b9-953f-4d31-b971-e18ed4f5a206",
   "metadata": {
    "tags": []
   },
   "source": [
    "# Amazon OpenSearch Service Domain\n",
    "Waiting for OpenSearch cluster creation and returning **Endpoint**\n",
    "Move the ***os_domain_ep* value to the Notebook where you work with embeddings"
   ]
  },
  {
   "cell_type": "code",
   "execution_count": 8,
   "id": "85735629-ffe0-4250-ab49-296fae8bcbf3",
   "metadata": {
    "tags": []
   },
   "outputs": [
    {
     "name": "stdout",
     "output_type": "stream",
     "text": [
      "Amazon OpenSearch Service has finished processing changes for your domain.\n",
      "Domain description:\n",
      "{'ResponseMetadata': {'RequestId': 'dc21cb28-c44d-4dec-9458-327f70364093', 'HTTPStatusCode': 200, 'HTTPHeaders': {'x-amzn-requestid': 'dc21cb28-c44d-4dec-9458-327f70364093', 'content-type': 'application/json', 'content-length': '2465', 'date': 'Tue, 22 Aug 2023 12:00:55 GMT'}, 'RetryAttempts': 0}, 'DomainStatus': {'DomainId': '843197046435/os-genai-accelerator', 'DomainName': 'os-genai-accelerator', 'ARN': 'arn:aws:es:eu-west-1:843197046435:domain/os-genai-accelerator', 'Created': True, 'Deleted': False, 'Endpoint': 'search-os-genai-accelerator-q7pfgnj3cswyy2ts2wrpxbzvgq.eu-west-1.es.amazonaws.com', 'Processing': False, 'UpgradeProcessing': False, 'EngineVersion': 'OpenSearch_2.7', 'ClusterConfig': {'InstanceType': 't3.medium.search', 'InstanceCount': 1, 'DedicatedMasterEnabled': False, 'ZoneAwarenessEnabled': False, 'WarmEnabled': False, 'ColdStorageOptions': {'Enabled': False}, 'MultiAZWithStandbyEnabled': False}, 'EBSOptions': {'EBSEnabled': True, 'VolumeType': 'gp2', 'VolumeSize': 100}, 'AccessPolicies': '{\"Version\":\"2012-10-17\",\"Statement\":[{\"Effect\":\"Allow\",\"Principal\":{\"AWS\":\"*\"},\"Action\":\"es:*\",\"Resource\":\"arn:aws:es:eu-west-1:843197046435:domain/os-genai-accelerator/*\"}]}', 'SnapshotOptions': {'AutomatedSnapshotStartHour': 0}, 'CognitoOptions': {'Enabled': False}, 'EncryptionAtRestOptions': {'Enabled': True, 'KmsKeyId': 'arn:aws:kms:eu-west-1:843197046435:key/ce0885e0-352b-4450-8ef8-93620af76c40'}, 'NodeToNodeEncryptionOptions': {'Enabled': True}, 'AdvancedOptions': {'override_main_response_version': 'false', 'rest.action.multi.allow_explicit_index': 'true'}, 'ServiceSoftwareOptions': {'CurrentVersion': 'OpenSearch_2_7_R20230706', 'NewVersion': 'OpenSearch_2_7_R20230706-P1', 'UpdateAvailable': True, 'Cancellable': False, 'UpdateStatus': 'ELIGIBLE', 'Description': 'A newer release OpenSearch_2_7_R20230706-P1 is available.', 'AutomatedUpdateDate': datetime.datetime(1970, 1, 1, 0, 0, tzinfo=tzlocal()), 'OptionalDeployment': True}, 'DomainEndpointOptions': {'EnforceHTTPS': True, 'TLSSecurityPolicy': 'Policy-Min-TLS-1-0-2019-07', 'CustomEndpointEnabled': False}, 'AdvancedSecurityOptions': {'Enabled': True, 'InternalUserDatabaseEnabled': True, 'AnonymousAuthEnabled': False}, 'AutoTuneOptions': {'State': 'DISABLED', 'UseOffPeakWindow': False}, 'OffPeakWindowOptions': {'Enabled': True, 'OffPeakWindow': {'WindowStartTime': {'Hours': 21, 'Minutes': 0}}}, 'SoftwareUpdateOptions': {'AutoSoftwareUpdateEnabled': False}}}\n",
      "https://search-os-genai-accelerator-q7pfgnj3cswyy2ts2wrpxbzvgq.eu-west-1.es.amazonaws.com\n"
     ]
    }
   ],
   "source": [
    "os_domain = createDomain(client, os_domain_name)\n",
    "os_domain_status = waitForDomainProcessing(client, os_domain_name)\n",
    "\n",
    "# generate opensearch domain endpoint\n",
    "os_domain_ep = (\n",
    "    os_domain[\"DomainStatus\"][\"Endpoint\"]\n",
    "    if \"DomainStatus\" in os_domain\n",
    "    else os_domain_status[\"DomainStatus\"][\"Endpoint\"]\n",
    ")\n",
    "print(\"https://\" + os_domain_ep)"
   ]
  },
  {
   "cell_type": "markdown",
   "id": "b7ed651d-2cfd-4cdd-a7bf-f12de98464ef",
   "metadata": {},
   "source": [
    "## Deleting OpenSearch index if already exists."
   ]
  },
  {
   "cell_type": "code",
   "execution_count": 9,
   "id": "a46b09b2-c5fb-463c-b055-6b3326a92b24",
   "metadata": {
    "tags": []
   },
   "outputs": [
    {
     "name": "stdout",
     "output_type": "stream",
     "text": [
      "Index 'admin-ch-pressreleases-en' does not exist.\n"
     ]
    }
   ],
   "source": [
    "# deleting the index before inserting data again\n",
    "# langchain can't do this, so we are using opensearchpy module\n",
    "from opensearchpy import OpenSearch\n",
    "\n",
    "# domain name should be without https://\n",
    "client = OpenSearch(\n",
    "    hosts=[{\"host\": os_domain_ep, \"port\": 443}],\n",
    "    http_auth=os_http_auth,\n",
    "    use_ssl=True,\n",
    "    verify_certs=False,\n",
    "    ssl_assert_hostname=False,\n",
    "    ssl_show_warn=False,\n",
    ")\n",
    "client.info()\n",
    "\n",
    "# check if index exists\n",
    "if client.indices.exists(index=os_index_name):\n",
    "    print(f\"Index '{os_index_name}' exists. Deleting now...\")\n",
    "    client.indices.delete(index=os_index_name)\n",
    "else:\n",
    "    print(f\"Index '{os_index_name}' does not exist.\")"
   ]
  }
 ],
 "metadata": {
  "availableInstances": [
   {
    "_defaultOrder": 0,
    "_isFastLaunch": true,
    "category": "General purpose",
    "gpuNum": 0,
    "hideHardwareSpecs": false,
    "memoryGiB": 4,
    "name": "ml.t3.medium",
    "vcpuNum": 2
   },
   {
    "_defaultOrder": 1,
    "_isFastLaunch": false,
    "category": "General purpose",
    "gpuNum": 0,
    "hideHardwareSpecs": false,
    "memoryGiB": 8,
    "name": "ml.t3.large",
    "vcpuNum": 2
   },
   {
    "_defaultOrder": 2,
    "_isFastLaunch": false,
    "category": "General purpose",
    "gpuNum": 0,
    "hideHardwareSpecs": false,
    "memoryGiB": 16,
    "name": "ml.t3.xlarge",
    "vcpuNum": 4
   },
   {
    "_defaultOrder": 3,
    "_isFastLaunch": false,
    "category": "General purpose",
    "gpuNum": 0,
    "hideHardwareSpecs": false,
    "memoryGiB": 32,
    "name": "ml.t3.2xlarge",
    "vcpuNum": 8
   },
   {
    "_defaultOrder": 4,
    "_isFastLaunch": true,
    "category": "General purpose",
    "gpuNum": 0,
    "hideHardwareSpecs": false,
    "memoryGiB": 8,
    "name": "ml.m5.large",
    "vcpuNum": 2
   },
   {
    "_defaultOrder": 5,
    "_isFastLaunch": false,
    "category": "General purpose",
    "gpuNum": 0,
    "hideHardwareSpecs": false,
    "memoryGiB": 16,
    "name": "ml.m5.xlarge",
    "vcpuNum": 4
   },
   {
    "_defaultOrder": 6,
    "_isFastLaunch": false,
    "category": "General purpose",
    "gpuNum": 0,
    "hideHardwareSpecs": false,
    "memoryGiB": 32,
    "name": "ml.m5.2xlarge",
    "vcpuNum": 8
   },
   {
    "_defaultOrder": 7,
    "_isFastLaunch": false,
    "category": "General purpose",
    "gpuNum": 0,
    "hideHardwareSpecs": false,
    "memoryGiB": 64,
    "name": "ml.m5.4xlarge",
    "vcpuNum": 16
   },
   {
    "_defaultOrder": 8,
    "_isFastLaunch": false,
    "category": "General purpose",
    "gpuNum": 0,
    "hideHardwareSpecs": false,
    "memoryGiB": 128,
    "name": "ml.m5.8xlarge",
    "vcpuNum": 32
   },
   {
    "_defaultOrder": 9,
    "_isFastLaunch": false,
    "category": "General purpose",
    "gpuNum": 0,
    "hideHardwareSpecs": false,
    "memoryGiB": 192,
    "name": "ml.m5.12xlarge",
    "vcpuNum": 48
   },
   {
    "_defaultOrder": 10,
    "_isFastLaunch": false,
    "category": "General purpose",
    "gpuNum": 0,
    "hideHardwareSpecs": false,
    "memoryGiB": 256,
    "name": "ml.m5.16xlarge",
    "vcpuNum": 64
   },
   {
    "_defaultOrder": 11,
    "_isFastLaunch": false,
    "category": "General purpose",
    "gpuNum": 0,
    "hideHardwareSpecs": false,
    "memoryGiB": 384,
    "name": "ml.m5.24xlarge",
    "vcpuNum": 96
   },
   {
    "_defaultOrder": 12,
    "_isFastLaunch": false,
    "category": "General purpose",
    "gpuNum": 0,
    "hideHardwareSpecs": false,
    "memoryGiB": 8,
    "name": "ml.m5d.large",
    "vcpuNum": 2
   },
   {
    "_defaultOrder": 13,
    "_isFastLaunch": false,
    "category": "General purpose",
    "gpuNum": 0,
    "hideHardwareSpecs": false,
    "memoryGiB": 16,
    "name": "ml.m5d.xlarge",
    "vcpuNum": 4
   },
   {
    "_defaultOrder": 14,
    "_isFastLaunch": false,
    "category": "General purpose",
    "gpuNum": 0,
    "hideHardwareSpecs": false,
    "memoryGiB": 32,
    "name": "ml.m5d.2xlarge",
    "vcpuNum": 8
   },
   {
    "_defaultOrder": 15,
    "_isFastLaunch": false,
    "category": "General purpose",
    "gpuNum": 0,
    "hideHardwareSpecs": false,
    "memoryGiB": 64,
    "name": "ml.m5d.4xlarge",
    "vcpuNum": 16
   },
   {
    "_defaultOrder": 16,
    "_isFastLaunch": false,
    "category": "General purpose",
    "gpuNum": 0,
    "hideHardwareSpecs": false,
    "memoryGiB": 128,
    "name": "ml.m5d.8xlarge",
    "vcpuNum": 32
   },
   {
    "_defaultOrder": 17,
    "_isFastLaunch": false,
    "category": "General purpose",
    "gpuNum": 0,
    "hideHardwareSpecs": false,
    "memoryGiB": 192,
    "name": "ml.m5d.12xlarge",
    "vcpuNum": 48
   },
   {
    "_defaultOrder": 18,
    "_isFastLaunch": false,
    "category": "General purpose",
    "gpuNum": 0,
    "hideHardwareSpecs": false,
    "memoryGiB": 256,
    "name": "ml.m5d.16xlarge",
    "vcpuNum": 64
   },
   {
    "_defaultOrder": 19,
    "_isFastLaunch": false,
    "category": "General purpose",
    "gpuNum": 0,
    "hideHardwareSpecs": false,
    "memoryGiB": 384,
    "name": "ml.m5d.24xlarge",
    "vcpuNum": 96
   },
   {
    "_defaultOrder": 20,
    "_isFastLaunch": false,
    "category": "General purpose",
    "gpuNum": 0,
    "hideHardwareSpecs": true,
    "memoryGiB": 0,
    "name": "ml.geospatial.interactive",
    "supportedImageNames": [
     "sagemaker-geospatial-v1-0"
    ],
    "vcpuNum": 0
   },
   {
    "_defaultOrder": 21,
    "_isFastLaunch": true,
    "category": "Compute optimized",
    "gpuNum": 0,
    "hideHardwareSpecs": false,
    "memoryGiB": 4,
    "name": "ml.c5.large",
    "vcpuNum": 2
   },
   {
    "_defaultOrder": 22,
    "_isFastLaunch": false,
    "category": "Compute optimized",
    "gpuNum": 0,
    "hideHardwareSpecs": false,
    "memoryGiB": 8,
    "name": "ml.c5.xlarge",
    "vcpuNum": 4
   },
   {
    "_defaultOrder": 23,
    "_isFastLaunch": false,
    "category": "Compute optimized",
    "gpuNum": 0,
    "hideHardwareSpecs": false,
    "memoryGiB": 16,
    "name": "ml.c5.2xlarge",
    "vcpuNum": 8
   },
   {
    "_defaultOrder": 24,
    "_isFastLaunch": false,
    "category": "Compute optimized",
    "gpuNum": 0,
    "hideHardwareSpecs": false,
    "memoryGiB": 32,
    "name": "ml.c5.4xlarge",
    "vcpuNum": 16
   },
   {
    "_defaultOrder": 25,
    "_isFastLaunch": false,
    "category": "Compute optimized",
    "gpuNum": 0,
    "hideHardwareSpecs": false,
    "memoryGiB": 72,
    "name": "ml.c5.9xlarge",
    "vcpuNum": 36
   },
   {
    "_defaultOrder": 26,
    "_isFastLaunch": false,
    "category": "Compute optimized",
    "gpuNum": 0,
    "hideHardwareSpecs": false,
    "memoryGiB": 96,
    "name": "ml.c5.12xlarge",
    "vcpuNum": 48
   },
   {
    "_defaultOrder": 27,
    "_isFastLaunch": false,
    "category": "Compute optimized",
    "gpuNum": 0,
    "hideHardwareSpecs": false,
    "memoryGiB": 144,
    "name": "ml.c5.18xlarge",
    "vcpuNum": 72
   },
   {
    "_defaultOrder": 28,
    "_isFastLaunch": false,
    "category": "Compute optimized",
    "gpuNum": 0,
    "hideHardwareSpecs": false,
    "memoryGiB": 192,
    "name": "ml.c5.24xlarge",
    "vcpuNum": 96
   },
   {
    "_defaultOrder": 29,
    "_isFastLaunch": true,
    "category": "Accelerated computing",
    "gpuNum": 1,
    "hideHardwareSpecs": false,
    "memoryGiB": 16,
    "name": "ml.g4dn.xlarge",
    "vcpuNum": 4
   },
   {
    "_defaultOrder": 30,
    "_isFastLaunch": false,
    "category": "Accelerated computing",
    "gpuNum": 1,
    "hideHardwareSpecs": false,
    "memoryGiB": 32,
    "name": "ml.g4dn.2xlarge",
    "vcpuNum": 8
   },
   {
    "_defaultOrder": 31,
    "_isFastLaunch": false,
    "category": "Accelerated computing",
    "gpuNum": 1,
    "hideHardwareSpecs": false,
    "memoryGiB": 64,
    "name": "ml.g4dn.4xlarge",
    "vcpuNum": 16
   },
   {
    "_defaultOrder": 32,
    "_isFastLaunch": false,
    "category": "Accelerated computing",
    "gpuNum": 1,
    "hideHardwareSpecs": false,
    "memoryGiB": 128,
    "name": "ml.g4dn.8xlarge",
    "vcpuNum": 32
   },
   {
    "_defaultOrder": 33,
    "_isFastLaunch": false,
    "category": "Accelerated computing",
    "gpuNum": 4,
    "hideHardwareSpecs": false,
    "memoryGiB": 192,
    "name": "ml.g4dn.12xlarge",
    "vcpuNum": 48
   },
   {
    "_defaultOrder": 34,
    "_isFastLaunch": false,
    "category": "Accelerated computing",
    "gpuNum": 1,
    "hideHardwareSpecs": false,
    "memoryGiB": 256,
    "name": "ml.g4dn.16xlarge",
    "vcpuNum": 64
   },
   {
    "_defaultOrder": 35,
    "_isFastLaunch": false,
    "category": "Accelerated computing",
    "gpuNum": 1,
    "hideHardwareSpecs": false,
    "memoryGiB": 61,
    "name": "ml.p3.2xlarge",
    "vcpuNum": 8
   },
   {
    "_defaultOrder": 36,
    "_isFastLaunch": false,
    "category": "Accelerated computing",
    "gpuNum": 4,
    "hideHardwareSpecs": false,
    "memoryGiB": 244,
    "name": "ml.p3.8xlarge",
    "vcpuNum": 32
   },
   {
    "_defaultOrder": 37,
    "_isFastLaunch": false,
    "category": "Accelerated computing",
    "gpuNum": 8,
    "hideHardwareSpecs": false,
    "memoryGiB": 488,
    "name": "ml.p3.16xlarge",
    "vcpuNum": 64
   },
   {
    "_defaultOrder": 38,
    "_isFastLaunch": false,
    "category": "Accelerated computing",
    "gpuNum": 8,
    "hideHardwareSpecs": false,
    "memoryGiB": 768,
    "name": "ml.p3dn.24xlarge",
    "vcpuNum": 96
   },
   {
    "_defaultOrder": 39,
    "_isFastLaunch": false,
    "category": "Memory Optimized",
    "gpuNum": 0,
    "hideHardwareSpecs": false,
    "memoryGiB": 16,
    "name": "ml.r5.large",
    "vcpuNum": 2
   },
   {
    "_defaultOrder": 40,
    "_isFastLaunch": false,
    "category": "Memory Optimized",
    "gpuNum": 0,
    "hideHardwareSpecs": false,
    "memoryGiB": 32,
    "name": "ml.r5.xlarge",
    "vcpuNum": 4
   },
   {
    "_defaultOrder": 41,
    "_isFastLaunch": false,
    "category": "Memory Optimized",
    "gpuNum": 0,
    "hideHardwareSpecs": false,
    "memoryGiB": 64,
    "name": "ml.r5.2xlarge",
    "vcpuNum": 8
   },
   {
    "_defaultOrder": 42,
    "_isFastLaunch": false,
    "category": "Memory Optimized",
    "gpuNum": 0,
    "hideHardwareSpecs": false,
    "memoryGiB": 128,
    "name": "ml.r5.4xlarge",
    "vcpuNum": 16
   },
   {
    "_defaultOrder": 43,
    "_isFastLaunch": false,
    "category": "Memory Optimized",
    "gpuNum": 0,
    "hideHardwareSpecs": false,
    "memoryGiB": 256,
    "name": "ml.r5.8xlarge",
    "vcpuNum": 32
   },
   {
    "_defaultOrder": 44,
    "_isFastLaunch": false,
    "category": "Memory Optimized",
    "gpuNum": 0,
    "hideHardwareSpecs": false,
    "memoryGiB": 384,
    "name": "ml.r5.12xlarge",
    "vcpuNum": 48
   },
   {
    "_defaultOrder": 45,
    "_isFastLaunch": false,
    "category": "Memory Optimized",
    "gpuNum": 0,
    "hideHardwareSpecs": false,
    "memoryGiB": 512,
    "name": "ml.r5.16xlarge",
    "vcpuNum": 64
   },
   {
    "_defaultOrder": 46,
    "_isFastLaunch": false,
    "category": "Memory Optimized",
    "gpuNum": 0,
    "hideHardwareSpecs": false,
    "memoryGiB": 768,
    "name": "ml.r5.24xlarge",
    "vcpuNum": 96
   },
   {
    "_defaultOrder": 47,
    "_isFastLaunch": false,
    "category": "Accelerated computing",
    "gpuNum": 1,
    "hideHardwareSpecs": false,
    "memoryGiB": 16,
    "name": "ml.g5.xlarge",
    "vcpuNum": 4
   },
   {
    "_defaultOrder": 48,
    "_isFastLaunch": false,
    "category": "Accelerated computing",
    "gpuNum": 1,
    "hideHardwareSpecs": false,
    "memoryGiB": 32,
    "name": "ml.g5.2xlarge",
    "vcpuNum": 8
   },
   {
    "_defaultOrder": 49,
    "_isFastLaunch": false,
    "category": "Accelerated computing",
    "gpuNum": 1,
    "hideHardwareSpecs": false,
    "memoryGiB": 64,
    "name": "ml.g5.4xlarge",
    "vcpuNum": 16
   },
   {
    "_defaultOrder": 50,
    "_isFastLaunch": false,
    "category": "Accelerated computing",
    "gpuNum": 1,
    "hideHardwareSpecs": false,
    "memoryGiB": 128,
    "name": "ml.g5.8xlarge",
    "vcpuNum": 32
   },
   {
    "_defaultOrder": 51,
    "_isFastLaunch": false,
    "category": "Accelerated computing",
    "gpuNum": 1,
    "hideHardwareSpecs": false,
    "memoryGiB": 256,
    "name": "ml.g5.16xlarge",
    "vcpuNum": 64
   },
   {
    "_defaultOrder": 52,
    "_isFastLaunch": false,
    "category": "Accelerated computing",
    "gpuNum": 4,
    "hideHardwareSpecs": false,
    "memoryGiB": 192,
    "name": "ml.g5.12xlarge",
    "vcpuNum": 48
   },
   {
    "_defaultOrder": 53,
    "_isFastLaunch": false,
    "category": "Accelerated computing",
    "gpuNum": 4,
    "hideHardwareSpecs": false,
    "memoryGiB": 384,
    "name": "ml.g5.24xlarge",
    "vcpuNum": 96
   },
   {
    "_defaultOrder": 54,
    "_isFastLaunch": false,
    "category": "Accelerated computing",
    "gpuNum": 8,
    "hideHardwareSpecs": false,
    "memoryGiB": 768,
    "name": "ml.g5.48xlarge",
    "vcpuNum": 192
   },
   {
    "_defaultOrder": 55,
    "_isFastLaunch": false,
    "category": "Accelerated computing",
    "gpuNum": 8,
    "hideHardwareSpecs": false,
    "memoryGiB": 1152,
    "name": "ml.p4d.24xlarge",
    "vcpuNum": 96
   },
   {
    "_defaultOrder": 56,
    "_isFastLaunch": false,
    "category": "Accelerated computing",
    "gpuNum": 8,
    "hideHardwareSpecs": false,
    "memoryGiB": 1152,
    "name": "ml.p4de.24xlarge",
    "vcpuNum": 96
   }
  ],
  "instance_type": "ml.t3.medium",
  "kernelspec": {
   "display_name": "Python 3 (Data Science 2.0)",
   "language": "python",
   "name": "python3__SAGEMAKER_INTERNAL__arn:aws:sagemaker:eu-west-1:470317259841:image/sagemaker-data-science-38"
  },
  "language_info": {
   "codemirror_mode": {
    "name": "ipython",
    "version": 3
   },
   "file_extension": ".py",
   "mimetype": "text/x-python",
   "name": "python",
   "nbconvert_exporter": "python",
   "pygments_lexer": "ipython3",
   "version": "3.8.13"
  }
 },
 "nbformat": 4,
 "nbformat_minor": 5
}
