{
 "cells": [
  {
   "cell_type": "code",
   "execution_count": null,
   "metadata": {},
   "outputs": [],
   "source": [
    "!pip install pandas --quiet\n",
    "!pip install \"datasets[s3]==2.14.4\"\n",
    "!pwd"
   ]
  },
  {
   "cell_type": "code",
   "execution_count": null,
   "metadata": {},
   "outputs": [],
   "source": [
    "dataset_s3_bucket = \"sagemaker-eu-west-1-843197046435\"\n",
    "dataset_s3_path = \"admin_ch_train_dataset/train\""
   ]
  },
  {
   "cell_type": "code",
   "execution_count": null,
   "metadata": {},
   "outputs": [],
   "source": [
    "from datasets import load_from_disk\n",
    "import s3fs\n",
    "import aiobotocore.session\n",
    "\n",
    "session = aiobotocore.session.AioSession(profile=\"default\")\n",
    "fs = s3fs.S3FileSystem(session=session)\n",
    "\n",
    "dataset = load_from_disk(\n",
    "    f\"s3://{dataset_s3_bucket}/{dataset_s3_path}\", storage_options=fs.storage_options\n",
    ")"
   ]
  },
  {
   "cell_type": "code",
   "execution_count": null,
   "metadata": {},
   "outputs": [],
   "source": [
    "dataset[0]"
   ]
  },
  {
   "cell_type": "markdown",
   "metadata": {},
   "source": [
    "!pip uninstall aiobotocore -y\n",
    "!pip install \"../03_chatbot/bedrock-python-sdk/boto3-1.28.21-py3-none-any.whl\"\n",
    "!pip install \"../03_chatbot/bedrock-python-sdk/botocore-1.31.21-py3-none-any.whl\""
   ]
  },
  {
   "cell_type": "code",
   "execution_count": null,
   "metadata": {
    "ExecuteTime": {
     "end_time": "2023-08-05T17:15:05.299324Z",
     "start_time": "2023-08-05T17:15:05.223343Z"
    },
    "collapsed": false
   },
   "outputs": [],
   "source": [
    "import boto3\n",
    "\n",
    "boto3.setup_default_session(profile_name=\"default\")\n",
    "%env AWS_DEFAULT_REGION = eu-west-1"
   ]
  },
  {
   "cell_type": "code",
   "execution_count": null,
   "metadata": {
    "collapsed": false
   },
   "outputs": [],
   "source": [
    "%pip install -e ../03_chatbot\n",
    "%pip show chatbot\n",
    "# Restart the kernel if \"Note:\" says so"
   ]
  },
  {
   "cell_type": "code",
   "execution_count": null,
   "metadata": {},
   "outputs": [],
   "source": [
    "import importlib\n",
    "\n",
    "chatbot = importlib.import_module(\"03_chatbot\")"
   ]
  },
  {
   "cell_type": "code",
   "execution_count": null,
   "metadata": {},
   "outputs": [],
   "source": [
    "chatbot.catalog.model_catalog.ModelCatalog"
   ]
  },
  {
   "cell_type": "code",
   "execution_count": null,
   "metadata": {
    "ExecuteTime": {
     "end_time": "2023-08-05T17:15:35.769730Z",
     "start_time": "2023-08-05T17:15:27.509831Z"
    },
    "collapsed": false
   },
   "outputs": [],
   "source": [
    "import os\n",
    "from chatbot.catalog import ModelCatalog, RetrieverCatalog, PromptCatalog\n",
    "\n",
    "BEDROCK_REGION = os.environ.get(\"BEDROCK_REGION\", \"us-west-2\")\n",
    "REGION = os.environ.get(\"AWS_DEFAULT_REGION\", \"us-east-1\")\n",
    "\n",
    "retriever_catalog = RetrieverCatalog([REGION])\n",
    "retrievers = list(retriever_catalog)\n",
    "model_catalog = ModelCatalog([REGION])\n",
    "prompt_catalog = PromptCatalog()\n",
    "\n",
    "llms = list(model_catalog)\n",
    "\n",
    "print(f\"Num Retriever: {len(retrievers)}\")\n",
    "print(f\"Num LLMs: {len(llms)}\")"
   ]
  },
  {
   "cell_type": "code",
   "execution_count": null,
   "metadata": {},
   "outputs": [],
   "source": [
    "import pandas as pd"
   ]
  },
  {
   "cell_type": "code",
   "execution_count": null,
   "metadata": {
    "ExecuteTime": {
     "end_time": "2023-08-05T17:15:42.465309Z",
     "start_time": "2023-08-05T17:15:42.460605Z"
    },
    "collapsed": false
   },
   "outputs": [],
   "source": [
    "pd.DataFrame(retrievers)"
   ]
  },
  {
   "cell_type": "code",
   "execution_count": null,
   "metadata": {
    "ExecuteTime": {
     "end_time": "2023-08-05T17:15:43.373505Z",
     "start_time": "2023-08-05T17:15:43.368143Z"
    },
    "collapsed": false
   },
   "outputs": [],
   "source": [
    "pd.DataFrame(llms)"
   ]
  },
  {
   "cell_type": "code",
   "execution_count": null,
   "metadata": {
    "ExecuteTime": {
     "end_time": "2023-08-05T23:00:48.083359Z",
     "start_time": "2023-08-05T17:53:18.974903Z"
    },
    "collapsed": false
   },
   "outputs": [],
   "source": [
    "from tqdm import tqdm\n",
    "from langchain.memory import ChatMessageHistory\n",
    "from chatbot.llm_app import get_app, generate_response\n",
    "\n",
    "retriever_model_pairs = [{\"retriever\": retrievers[0], \"model\": llms[2]}]\n",
    "\n",
    "\n",
    "def run_questions_pipeline(dataset, retriever, model):\n",
    "    app = get_app(retriever, model, prompt_catalog)\n",
    "    retriever_instance = retriever.get_instance()\n",
    "    model_instance = model.get_instance()\n",
    "\n",
    "    row_results = []\n",
    "    for row in tqdm(dataset):\n",
    "        prompt = row[\"question\"]\n",
    "\n",
    "        response, full_response = generate_response(\n",
    "            app, prompt, retriever_instance, model_instance, ChatMessageHistory()\n",
    "        )\n",
    "        resources = [\n",
    "            {**doc.metadata, **{\"page_content\": doc.page_content}}\n",
    "            for doc in full_response[\"source_documents\"]\n",
    "        ]\n",
    "        df_results = pd.DataFrame(resources)\n",
    "        df_results[\"answer\"] = response\n",
    "        print(response)\n",
    "        row_results.append(df_results)\n",
    "    return row_results\n",
    "\n",
    "\n",
    "results = []\n",
    "for pair in retriever_model_pairs:\n",
    "    retriever = pair[\"retriever\"]\n",
    "    model = pair[\"model\"]\n",
    "    res = run_questions_pipeline(dataset, retriever, model)\n",
    "    results.append(res)"
   ]
  },
  {
   "cell_type": "code",
   "execution_count": null,
   "metadata": {
    "collapsed": false
   },
   "outputs": [],
   "source": []
  }
 ],
 "metadata": {
  "kernelspec": {
   "display_name": "Python 3",
   "language": "python",
   "name": "python3"
  },
  "language_info": {
   "codemirror_mode": {
    "name": "ipython",
    "version": 3
   },
   "file_extension": ".py",
   "mimetype": "text/x-python",
   "name": "python",
   "nbconvert_exporter": "python",
   "pygments_lexer": "ipython3",
   "version": "3.10.11"
  }
 },
 "nbformat": 4,
 "nbformat_minor": 0
}
